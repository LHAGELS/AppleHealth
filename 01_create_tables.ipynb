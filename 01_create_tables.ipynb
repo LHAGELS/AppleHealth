{
 "cells": [
  {
   "cell_type": "code",
   "execution_count": 472,
   "metadata": {},
   "outputs": [],
   "source": [
    "import xml.etree.ElementTree as ET\n",
    "import pandas as pd\n",
    "import datetime as dt\n",
    "import numpy as np\n",
    "import os"
   ]
  },
  {
   "cell_type": "code",
   "execution_count": 473,
   "metadata": {},
   "outputs": [],
   "source": [
    "# Path to the XML file exported form Apple Health app\n",
    "XML_DATA = \"C:/PythonProjects/AppleHealth/input_files/apple_health_export/Export.xml\""
   ]
  },
  {
   "cell_type": "code",
   "execution_count": 474,
   "metadata": {},
   "outputs": [],
   "source": [
    "# Parse XML file exported from Apple Health app\n",
    "tree = ET.parse(XML_DATA)\n",
    "root = tree.getroot()"
   ]
  },
  {
   "cell_type": "code",
   "execution_count": 475,
   "metadata": {},
   "outputs": [
    {
     "name": "stdout",
     "output_type": "stream",
     "text": [
      "['Record', 'ActivitySummary', 'ExportDate', 'Workout', 'Me']\n"
     ]
    }
   ],
   "source": [
    "attributes = []\n",
    "for child in root:\n",
    "    attributes.append(child.tag)\n",
    "\n",
    "attributes = list(set(attributes))\n",
    "print(attributes)"
   ]
  },
  {
   "cell_type": "code",
   "execution_count": 476,
   "metadata": {},
   "outputs": [
    {
     "name": "stdout",
     "output_type": "stream",
     "text": [
      "['Record', 'ActivitySummary', 'Workout']\n"
     ]
    }
   ],
   "source": [
    "attributes.remove('ExportDate')\n",
    "attributes.remove('Me')\n",
    "\n",
    "print(attributes)"
   ]
  },
  {
   "cell_type": "markdown",
   "metadata": {},
   "source": [
    "### Workouts"
   ]
  },
  {
   "cell_type": "code",
   "execution_count": 504,
   "metadata": {},
   "outputs": [],
   "source": [
    "level_1_list = []\n",
    "level_2_list = []\n",
    "level_3_list = []\n",
    "\n",
    "a_list = list(root.iter('Workout'))\n",
    "for a in range(len(a_list)):\n",
    "    b_list = list(a_list[a])\n",
    "    \n",
    "    for b in range(len(b_list)):\n",
    "        level_1_list.append(b_list[b].tag)\n",
    "        c_list = list(b_list[b])\n",
    "\n",
    "        for c in range(len(c_list)):\n",
    "            level_2_list.append(c_list[c].tag)\n",
    "            d_list = list(c_list[c])\n",
    "\n",
    "            for d in range(len(d_list)):\n",
    "                level_3_list.append(d_list[d].tag)\n",
    "\n",
    "level_1_list = list(set(level_1_list))\n",
    "level_2_list = list(set(level_2_list))\n",
    "level_3_list = list(set(level_3_list))"
   ]
  },
  {
   "cell_type": "code",
   "execution_count": 505,
   "metadata": {},
   "outputs": [
    {
     "name": "stdout",
     "output_type": "stream",
     "text": [
      "['MetadataEntry', 'WorkoutRoute', 'WorkoutEvent', 'WorkoutStatistics']\n",
      "['MetadataEntry', 'FileReference']\n",
      "[]\n",
      "['MetadataEntry', 'WorkoutStatistics', 'WorkoutRoute', 'WorkoutEvent', 'FileReference']\n"
     ]
    }
   ],
   "source": [
    "### EMPTY LIST: no further levels to investigate\n",
    "print(level_1_list)\n",
    "print(level_2_list)\n",
    "print(level_3_list)\n",
    "\n",
    "concat_list = list(set(level_1_list + level_2_list + level_3_list))\n",
    "print(concat_list)"
   ]
  },
  {
   "cell_type": "code",
   "execution_count": 506,
   "metadata": {},
   "outputs": [],
   "source": [
    "index = 0\n",
    "workouts = root.findall('.//Workout')\n",
    "total_workouts = len(workouts)\n",
    "\n",
    "for wo in workouts:\n",
    "    index = index + 1\n",
    "    wo.attrib['workout_pk'] = str(index)\n",
    "\n",
    "    for wo_2 in level_1_list:\n",
    "        workouts_2 = wo.findall(f'.//{wo_2}')\n",
    "        for x in workouts_2:\n",
    "            x.attrib['workout_pk'] = str(index)\n",
    "\n",
    "            for wo_3 in level_2_list:\n",
    "                workouts_3 = x.findall(f'.//{wo_3}')\n",
    "                for y in workouts_3:\n",
    "                    y.attrib['workout_pk'] = str(index)\n",
    "\n",
    "tree.write('./output_files/Indexed_XML.xml')"
   ]
  },
  {
   "cell_type": "code",
   "execution_count": 507,
   "metadata": {},
   "outputs": [],
   "source": [
    "# add Workout to list\n",
    "concat_list.append('Workout')"
   ]
  },
  {
   "cell_type": "code",
   "execution_count": 508,
   "metadata": {},
   "outputs": [],
   "source": [
    "tree = ET.parse('./output_files/Indexed_XML.xml')\n",
    "root = tree.getroot()"
   ]
  },
  {
   "cell_type": "code",
   "execution_count": 509,
   "metadata": {},
   "outputs": [],
   "source": [
    "df_list = []\n",
    "for elem in concat_list:\n",
    "    workouts = root.findall(f'.//{elem}')\n",
    "    globals()[f\"{elem}_list\"] = []\n",
    "    df_list.append(str(f\"{elem}_list\"))\n",
    "    for wo in workouts:\n",
    "        globals()[f\"{elem}_list\"].append(wo.attrib)"
   ]
  },
  {
   "cell_type": "code",
   "execution_count": 510,
   "metadata": {},
   "outputs": [
    {
     "data": {
      "text/plain": [
       "['MetadataEntry_list',\n",
       " 'WorkoutStatistics_list',\n",
       " 'WorkoutRoute_list',\n",
       " 'WorkoutEvent_list',\n",
       " 'FileReference_list',\n",
       " 'Workout_list']"
      ]
     },
     "execution_count": 510,
     "metadata": {},
     "output_type": "execute_result"
    }
   ],
   "source": [
    "df_list"
   ]
  },
  {
   "cell_type": "code",
   "execution_count": 511,
   "metadata": {},
   "outputs": [
    {
     "name": "stdout",
     "output_type": "stream",
     "text": [
      "df_MetadataEntry_list:\n"
     ]
    },
    {
     "data": {
      "text/html": [
       "<div>\n",
       "<style scoped>\n",
       "    .dataframe tbody tr th:only-of-type {\n",
       "        vertical-align: middle;\n",
       "    }\n",
       "\n",
       "    .dataframe tbody tr th {\n",
       "        vertical-align: top;\n",
       "    }\n",
       "\n",
       "    .dataframe thead th {\n",
       "        text-align: right;\n",
       "    }\n",
       "</style>\n",
       "<table border=\"1\" class=\"dataframe\">\n",
       "  <thead>\n",
       "    <tr style=\"text-align: right;\">\n",
       "      <th></th>\n",
       "      <th>key</th>\n",
       "      <th>value</th>\n",
       "      <th>workout_pk</th>\n",
       "    </tr>\n",
       "  </thead>\n",
       "  <tbody>\n",
       "    <tr>\n",
       "      <th>0</th>\n",
       "      <td>HKWasUserEntered</td>\n",
       "      <td>1</td>\n",
       "      <td>NaN</td>\n",
       "    </tr>\n",
       "    <tr>\n",
       "      <th>1</th>\n",
       "      <td>HKMetadataKeyHeartRateMotionContext</td>\n",
       "      <td>0</td>\n",
       "      <td>NaN</td>\n",
       "    </tr>\n",
       "  </tbody>\n",
       "</table>\n",
       "</div>"
      ],
      "text/plain": [
       "                                   key value workout_pk\n",
       "0                     HKWasUserEntered     1        NaN\n",
       "1  HKMetadataKeyHeartRateMotionContext     0        NaN"
      ]
     },
     "metadata": {},
     "output_type": "display_data"
    },
    {
     "name": "stdout",
     "output_type": "stream",
     "text": [
      "df_WorkoutStatistics_list:\n"
     ]
    },
    {
     "data": {
      "text/html": [
       "<div>\n",
       "<style scoped>\n",
       "    .dataframe tbody tr th:only-of-type {\n",
       "        vertical-align: middle;\n",
       "    }\n",
       "\n",
       "    .dataframe tbody tr th {\n",
       "        vertical-align: top;\n",
       "    }\n",
       "\n",
       "    .dataframe thead th {\n",
       "        text-align: right;\n",
       "    }\n",
       "</style>\n",
       "<table border=\"1\" class=\"dataframe\">\n",
       "  <thead>\n",
       "    <tr style=\"text-align: right;\">\n",
       "      <th></th>\n",
       "      <th>type</th>\n",
       "      <th>startDate</th>\n",
       "      <th>endDate</th>\n",
       "      <th>sum</th>\n",
       "      <th>unit</th>\n",
       "      <th>workout_pk</th>\n",
       "      <th>average</th>\n",
       "      <th>minimum</th>\n",
       "      <th>maximum</th>\n",
       "    </tr>\n",
       "  </thead>\n",
       "  <tbody>\n",
       "    <tr>\n",
       "      <th>0</th>\n",
       "      <td>HKQuantityTypeIdentifierActiveEnergyBurned</td>\n",
       "      <td>2021-12-02 19:38:33 +0200</td>\n",
       "      <td>2021-12-02 19:58:33 +0200</td>\n",
       "      <td>254</td>\n",
       "      <td>kcal</td>\n",
       "      <td>1</td>\n",
       "      <td>NaN</td>\n",
       "      <td>NaN</td>\n",
       "      <td>NaN</td>\n",
       "    </tr>\n",
       "    <tr>\n",
       "      <th>1</th>\n",
       "      <td>HKQuantityTypeIdentifierDistanceCycling</td>\n",
       "      <td>2021-12-02 19:38:33 +0200</td>\n",
       "      <td>2021-12-02 19:58:33 +0200</td>\n",
       "      <td>8.09</td>\n",
       "      <td>km</td>\n",
       "      <td>1</td>\n",
       "      <td>NaN</td>\n",
       "      <td>NaN</td>\n",
       "      <td>NaN</td>\n",
       "    </tr>\n",
       "  </tbody>\n",
       "</table>\n",
       "</div>"
      ],
      "text/plain": [
       "                                         type                  startDate  \\\n",
       "0  HKQuantityTypeIdentifierActiveEnergyBurned  2021-12-02 19:38:33 +0200   \n",
       "1     HKQuantityTypeIdentifierDistanceCycling  2021-12-02 19:38:33 +0200   \n",
       "\n",
       "                     endDate   sum  unit workout_pk average minimum maximum  \n",
       "0  2021-12-02 19:58:33 +0200   254  kcal          1     NaN     NaN     NaN  \n",
       "1  2021-12-02 19:58:33 +0200  8.09    km          1     NaN     NaN     NaN  "
      ]
     },
     "metadata": {},
     "output_type": "display_data"
    },
    {
     "name": "stdout",
     "output_type": "stream",
     "text": [
      "df_WorkoutRoute_list:\n"
     ]
    },
    {
     "data": {
      "text/html": [
       "<div>\n",
       "<style scoped>\n",
       "    .dataframe tbody tr th:only-of-type {\n",
       "        vertical-align: middle;\n",
       "    }\n",
       "\n",
       "    .dataframe tbody tr th {\n",
       "        vertical-align: top;\n",
       "    }\n",
       "\n",
       "    .dataframe thead th {\n",
       "        text-align: right;\n",
       "    }\n",
       "</style>\n",
       "<table border=\"1\" class=\"dataframe\">\n",
       "  <thead>\n",
       "    <tr style=\"text-align: right;\">\n",
       "      <th></th>\n",
       "      <th>sourceName</th>\n",
       "      <th>sourceVersion</th>\n",
       "      <th>creationDate</th>\n",
       "      <th>startDate</th>\n",
       "      <th>endDate</th>\n",
       "      <th>workout_pk</th>\n",
       "    </tr>\n",
       "  </thead>\n",
       "  <tbody>\n",
       "    <tr>\n",
       "      <th>0</th>\n",
       "      <td>Apple Watch von Lucas</td>\n",
       "      <td>8.1</td>\n",
       "      <td>2022-03-29 17:39:48 +0200</td>\n",
       "      <td>2022-03-29 16:57:11 +0200</td>\n",
       "      <td>2022-03-29 17:39:47 +0200</td>\n",
       "      <td>72</td>\n",
       "    </tr>\n",
       "    <tr>\n",
       "      <th>1</th>\n",
       "      <td>Apple Watch von Lucas</td>\n",
       "      <td>8.1</td>\n",
       "      <td>2022-04-03 11:15:12 +0200</td>\n",
       "      <td>2022-04-03 10:48:45 +0200</td>\n",
       "      <td>2022-04-03 11:15:10 +0200</td>\n",
       "      <td>81</td>\n",
       "    </tr>\n",
       "  </tbody>\n",
       "</table>\n",
       "</div>"
      ],
      "text/plain": [
       "              sourceName sourceVersion               creationDate  \\\n",
       "0  Apple Watch von Lucas           8.1  2022-03-29 17:39:48 +0200   \n",
       "1  Apple Watch von Lucas           8.1  2022-04-03 11:15:12 +0200   \n",
       "\n",
       "                   startDate                    endDate workout_pk  \n",
       "0  2022-03-29 16:57:11 +0200  2022-03-29 17:39:47 +0200         72  \n",
       "1  2022-04-03 10:48:45 +0200  2022-04-03 11:15:10 +0200         81  "
      ]
     },
     "metadata": {},
     "output_type": "display_data"
    },
    {
     "name": "stdout",
     "output_type": "stream",
     "text": [
      "df_WorkoutEvent_list:\n"
     ]
    },
    {
     "data": {
      "text/html": [
       "<div>\n",
       "<style scoped>\n",
       "    .dataframe tbody tr th:only-of-type {\n",
       "        vertical-align: middle;\n",
       "    }\n",
       "\n",
       "    .dataframe tbody tr th {\n",
       "        vertical-align: top;\n",
       "    }\n",
       "\n",
       "    .dataframe thead th {\n",
       "        text-align: right;\n",
       "    }\n",
       "</style>\n",
       "<table border=\"1\" class=\"dataframe\">\n",
       "  <thead>\n",
       "    <tr style=\"text-align: right;\">\n",
       "      <th></th>\n",
       "      <th>type</th>\n",
       "      <th>date</th>\n",
       "      <th>duration</th>\n",
       "      <th>durationUnit</th>\n",
       "      <th>workout_pk</th>\n",
       "    </tr>\n",
       "  </thead>\n",
       "  <tbody>\n",
       "    <tr>\n",
       "      <th>0</th>\n",
       "      <td>HKWorkoutEventTypeSegment</td>\n",
       "      <td>2022-03-29 16:56:57 +0200</td>\n",
       "      <td>13.28115280667941</td>\n",
       "      <td>min</td>\n",
       "      <td>72</td>\n",
       "    </tr>\n",
       "    <tr>\n",
       "      <th>1</th>\n",
       "      <td>HKWorkoutEventTypeSegment</td>\n",
       "      <td>2022-03-29 16:56:57 +0200</td>\n",
       "      <td>25.37857104341189</td>\n",
       "      <td>min</td>\n",
       "      <td>72</td>\n",
       "    </tr>\n",
       "  </tbody>\n",
       "</table>\n",
       "</div>"
      ],
      "text/plain": [
       "                        type                       date           duration  \\\n",
       "0  HKWorkoutEventTypeSegment  2022-03-29 16:56:57 +0200  13.28115280667941   \n",
       "1  HKWorkoutEventTypeSegment  2022-03-29 16:56:57 +0200  25.37857104341189   \n",
       "\n",
       "  durationUnit workout_pk  \n",
       "0          min         72  \n",
       "1          min         72  "
      ]
     },
     "metadata": {},
     "output_type": "display_data"
    },
    {
     "name": "stdout",
     "output_type": "stream",
     "text": [
      "df_FileReference_list:\n"
     ]
    },
    {
     "data": {
      "text/html": [
       "<div>\n",
       "<style scoped>\n",
       "    .dataframe tbody tr th:only-of-type {\n",
       "        vertical-align: middle;\n",
       "    }\n",
       "\n",
       "    .dataframe tbody tr th {\n",
       "        vertical-align: top;\n",
       "    }\n",
       "\n",
       "    .dataframe thead th {\n",
       "        text-align: right;\n",
       "    }\n",
       "</style>\n",
       "<table border=\"1\" class=\"dataframe\">\n",
       "  <thead>\n",
       "    <tr style=\"text-align: right;\">\n",
       "      <th></th>\n",
       "      <th>path</th>\n",
       "      <th>workout_pk</th>\n",
       "    </tr>\n",
       "  </thead>\n",
       "  <tbody>\n",
       "    <tr>\n",
       "      <th>0</th>\n",
       "      <td>/workout-routes/route_2022-03-29_5.39pm.gpx</td>\n",
       "      <td>72</td>\n",
       "    </tr>\n",
       "    <tr>\n",
       "      <th>1</th>\n",
       "      <td>/workout-routes/route_2022-04-03_11.15am.gpx</td>\n",
       "      <td>81</td>\n",
       "    </tr>\n",
       "  </tbody>\n",
       "</table>\n",
       "</div>"
      ],
      "text/plain": [
       "                                           path workout_pk\n",
       "0   /workout-routes/route_2022-03-29_5.39pm.gpx         72\n",
       "1  /workout-routes/route_2022-04-03_11.15am.gpx         81"
      ]
     },
     "metadata": {},
     "output_type": "display_data"
    },
    {
     "name": "stdout",
     "output_type": "stream",
     "text": [
      "df_Workout_list:\n"
     ]
    },
    {
     "data": {
      "text/html": [
       "<div>\n",
       "<style scoped>\n",
       "    .dataframe tbody tr th:only-of-type {\n",
       "        vertical-align: middle;\n",
       "    }\n",
       "\n",
       "    .dataframe tbody tr th {\n",
       "        vertical-align: top;\n",
       "    }\n",
       "\n",
       "    .dataframe thead th {\n",
       "        text-align: right;\n",
       "    }\n",
       "</style>\n",
       "<table border=\"1\" class=\"dataframe\">\n",
       "  <thead>\n",
       "    <tr style=\"text-align: right;\">\n",
       "      <th></th>\n",
       "      <th>workoutActivityType</th>\n",
       "      <th>duration</th>\n",
       "      <th>durationUnit</th>\n",
       "      <th>sourceName</th>\n",
       "      <th>sourceVersion</th>\n",
       "      <th>creationDate</th>\n",
       "      <th>startDate</th>\n",
       "      <th>endDate</th>\n",
       "      <th>workout_pk</th>\n",
       "      <th>device</th>\n",
       "    </tr>\n",
       "  </thead>\n",
       "  <tbody>\n",
       "    <tr>\n",
       "      <th>0</th>\n",
       "      <td>HKWorkoutActivityTypeCycling</td>\n",
       "      <td>20</td>\n",
       "      <td>min</td>\n",
       "      <td>Peloton</td>\n",
       "      <td>349778</td>\n",
       "      <td>2022-03-28 20:53:49 +0200</td>\n",
       "      <td>2021-12-02 19:38:33 +0200</td>\n",
       "      <td>2021-12-02 19:58:33 +0200</td>\n",
       "      <td>1</td>\n",
       "      <td>NaN</td>\n",
       "    </tr>\n",
       "    <tr>\n",
       "      <th>1</th>\n",
       "      <td>HKWorkoutActivityTypeCycling</td>\n",
       "      <td>20</td>\n",
       "      <td>min</td>\n",
       "      <td>Peloton</td>\n",
       "      <td>349778</td>\n",
       "      <td>2022-03-28 20:53:50 +0200</td>\n",
       "      <td>2021-12-03 07:17:51 +0200</td>\n",
       "      <td>2021-12-03 07:37:51 +0200</td>\n",
       "      <td>2</td>\n",
       "      <td>NaN</td>\n",
       "    </tr>\n",
       "  </tbody>\n",
       "</table>\n",
       "</div>"
      ],
      "text/plain": [
       "            workoutActivityType duration durationUnit sourceName  \\\n",
       "0  HKWorkoutActivityTypeCycling       20          min    Peloton   \n",
       "1  HKWorkoutActivityTypeCycling       20          min    Peloton   \n",
       "\n",
       "  sourceVersion               creationDate                  startDate  \\\n",
       "0        349778  2022-03-28 20:53:49 +0200  2021-12-02 19:38:33 +0200   \n",
       "1        349778  2022-03-28 20:53:50 +0200  2021-12-03 07:17:51 +0200   \n",
       "\n",
       "                     endDate workout_pk device  \n",
       "0  2021-12-02 19:58:33 +0200          1    NaN  \n",
       "1  2021-12-03 07:37:51 +0200          2    NaN  "
      ]
     },
     "metadata": {},
     "output_type": "display_data"
    }
   ],
   "source": [
    "for elem in df_list:\n",
    "    object = globals()[elem]\n",
    "    df_name = f\"df_{elem}\"\n",
    "    print(f\"{df_name}:\")\n",
    "    globals()[df_name] = pd.DataFrame(object)\n",
    "    globals()[df_name]['workout_pk'] = pd.to_numeric(globals()[df_name]['workout_pk'])\n",
    "    display(pd.DataFrame(object).head(2))"
   ]
  },
  {
   "cell_type": "markdown",
   "metadata": {},
   "source": [
    "#### Transform dfs"
   ]
  },
  {
   "cell_type": "markdown",
   "metadata": {},
   "source": [
    "##### WorkoutStatistics"
   ]
  },
  {
   "cell_type": "code",
   "execution_count": 517,
   "metadata": {},
   "outputs": [
    {
     "data": {
      "text/plain": [
       "['sum', 'average', 'minimum', 'maximum']"
      ]
     },
     "execution_count": 517,
     "metadata": {},
     "output_type": "execute_result"
    }
   ],
   "source": [
    "df_workoutstatistics_melt = pd.melt(df_WorkoutStatistics_list, \n",
    "                                    id_vars=['workout_pk', \n",
    "                                             'type', \n",
    "                                             'unit'], \n",
    "                                    value_vars=['sum', \n",
    "                                                'average', \n",
    "                                                'minimum', \n",
    "                                                'maximum'], \n",
    "                                    var_name='metric',\n",
    "                                    value_name='value').dropna()\n",
    "\n",
    "# shorter observation names\n",
    "df_workoutstatistics_melt['type'] = df_workoutstatistics_melt['type'].str.replace('HKQuantityTypeIdentifier', '')\n",
    "df_workoutstatistics_melt['type'] = df_workoutstatistics_melt['type'].str.replace('HKCategoryTypeIdentifier', '')\n",
    "\n",
    "list(df_workoutstatistics_melt['metric'].unique())"
   ]
  },
  {
   "cell_type": "code",
   "execution_count": 518,
   "metadata": {},
   "outputs": [],
   "source": [
    "mapMetrics = {'sum': 'Sum', \n",
    "              'average': 'Avg',\n",
    "              'minimum': 'Min',\n",
    "              'maximum': 'Max'}\n",
    "\n",
    "df_workoutstatistics_melt = df_workoutstatistics_melt.replace({'metric': mapMetrics})\n",
    "df_workoutstatistics_melt['unit'] = df_workoutstatistics_melt['unit'].str.lower()\n",
    "\n",
    "df_workoutstatistics_melt['type'] = df_workoutstatistics_melt['unit'] + \"_\" + df_workoutstatistics_melt['type'] + df_workoutstatistics_melt['metric']\n",
    "df_workoutstatistics_melt_drop = df_workoutstatistics_melt.drop(['unit', 'metric'], axis = 1)"
   ]
  },
  {
   "cell_type": "code",
   "execution_count": 519,
   "metadata": {},
   "outputs": [],
   "source": [
    "df_workoutstatistics_final = df_workoutstatistics_melt_drop.pivot(index='workout_pk', columns='type', values='value')"
   ]
  },
  {
   "cell_type": "markdown",
   "metadata": {},
   "source": [
    "##### Workouts"
   ]
  },
  {
   "cell_type": "markdown",
   "metadata": {},
   "source": [
    "##### Prepare DimWorkout"
   ]
  },
  {
   "cell_type": "code",
   "execution_count": 529,
   "metadata": {},
   "outputs": [
    {
     "data": {
      "text/plain": [
       "['workoutActivityType',\n",
       " 'duration',\n",
       " 'durationUnit',\n",
       " 'sourceName',\n",
       " 'sourceVersion',\n",
       " 'creationDate',\n",
       " 'startDate',\n",
       " 'endDate',\n",
       " 'workout_pk',\n",
       " 'device',\n",
       " 'Date']"
      ]
     },
     "execution_count": 529,
     "metadata": {},
     "output_type": "execute_result"
    }
   ],
   "source": [
    "list(df_Workout_list.columns)"
   ]
  },
  {
   "cell_type": "code",
   "execution_count": 541,
   "metadata": {},
   "outputs": [],
   "source": [
    "df_Workouts = df_Workout_list.drop(['device', 'sourceVersion'], axis = 1)\n",
    "\n",
    "df_Workouts['workout_pk'] = pd.to_numeric(df_Workouts['workout_pk'])\n",
    "df_Workouts['Date'] = pd.to_datetime(df_Workouts['startDate']).dt.strftime('%Y-%m-%d')\n",
    "df_Workouts['startDate'] = pd.to_datetime(df_Workouts['startDate'])\n",
    "df_Workouts['endDate'] = pd.to_datetime(df_Workouts['endDate'])\n",
    "df_Workouts['workoutActivityType'] = df_Workouts['workoutActivityType'].str.replace('HKWorkoutActivityType', '')"
   ]
  },
  {
   "cell_type": "code",
   "execution_count": 542,
   "metadata": {},
   "outputs": [
    {
     "data": {
      "text/plain": [
       "(571, 35)"
      ]
     },
     "execution_count": 542,
     "metadata": {},
     "output_type": "execute_result"
    }
   ],
   "source": [
    "DimWorkouts_prep = pd.merge(df_Workouts, df_workoutstatistics_final, on = 'workout_pk', how = 'left')\n",
    "DimWorkouts_prep.shape"
   ]
  },
  {
   "cell_type": "code",
   "execution_count": 543,
   "metadata": {},
   "outputs": [],
   "source": [
    "DimWorkouts = pd.merge(DimWorkouts_prep, df_FileReference_list, on = 'workout_pk', how='left')"
   ]
  },
  {
   "cell_type": "markdown",
   "metadata": {},
   "source": [
    "### Records"
   ]
  },
  {
   "cell_type": "code",
   "execution_count": 575,
   "metadata": {},
   "outputs": [],
   "source": [
    "records_list = [x.attrib for x in root.iter('Record')]\n",
    "df_records = pd.DataFrame(records_list)\n",
    "\n",
    "df_records = df_records.drop(['sourceName','sourceVersion', 'device'], axis=1)\n",
    "\n",
    "# parse date columns\n",
    "df_records['Date'] = pd.to_datetime(df_records['startDate']).dt.strftime('%Y-%m-%d')\n",
    "df_records['startTime'] = pd.to_datetime(df_records['startDate']).dt.strftime('%H:%M:%S')\n",
    "df_records['endTime'] = pd.to_datetime(df_records['endDate']).dt.strftime('%H:%M:%S')\n",
    "\n",
    "# value is numeric, NaN if fails\n",
    "df_records['value'] = pd.to_numeric(df_records['value'], errors='coerce')\n",
    "\n",
    "# shorter observation names\n",
    "df_records['type'] = df_records['type'].str.replace('HKQuantityTypeIdentifier', '')\n",
    "df_records['type'] = df_records['type'].str.replace('HKCategoryTypeIdentifier', '')"
   ]
  },
  {
   "cell_type": "code",
   "execution_count": 591,
   "metadata": {},
   "outputs": [
    {
     "name": "stdout",
     "output_type": "stream",
     "text": [
      "['Height', 'BodyMass', 'HeartRate', 'OxygenSaturation', 'RespiratoryRate', 'StepCount', 'DistanceWalkingRunning', 'BasalEnergyBurned', 'ActiveEnergyBurned', 'FlightsClimbed', 'AppleExerciseTime', 'DistanceCycling', 'DistanceSwimming', 'SwimmingStrokeCount', 'RestingHeartRate', 'VO2Max', 'WalkingHeartRateAverage', 'DistanceDownhillSnowSports', 'EnvironmentalAudioExposure', 'HeadphoneAudioExposure', 'WalkingDoubleSupportPercentage', 'SixMinuteWalkTestDistance', 'AppleStandTime', 'WalkingSpeed', 'WalkingStepLength', 'WalkingAsymmetryPercentage', 'StairAscentSpeed', 'StairDescentSpeed', 'AppleWalkingSteadiness', 'RunningStrideLength', 'RunningVerticalOscillation', 'RunningGroundContactTime', 'HeartRateRecoveryOneMinute', 'RunningPower', 'RunningSpeed', 'SleepAnalysis', 'AppleStandHour', 'LowHeartRateEvent', 'HeartRateVariabilitySDNN']\n"
     ]
    }
   ],
   "source": [
    "\n",
    "record_types = list(df_records.type.unique())\n",
    "print(record_types)"
   ]
  },
  {
   "cell_type": "code",
   "execution_count": 733,
   "metadata": {},
   "outputs": [],
   "source": [
    "\n",
    "personal_records = ['Height', \n",
    "                    'BodyMass',\n",
    "                    'RestingHeartRate',\n",
    "                    'WalkingHeartRateAverage',\n",
    "                    'AppleWalkingSteadiness',\n",
    "                    'SixMinuteWalkTestDistance']\n",
    "\n",
    "basis_records = ['HeartRate', \n",
    "                 'OxygenSaturation', \n",
    "                 'RespiratoryRate', \n",
    "                 'StepCount', \n",
    "                 'FlightsClimbed', \n",
    "                 'AppleExerciseTime',\n",
    "                 'VO2Max',\n",
    "                 'EnvironmentalAudioExposure', \n",
    "                 'HeadphoneAudioExposure',\n",
    "                 'WalkingDoubleSupportPercentage', \n",
    "                 'AppleStandTime', \n",
    "                 'WalkingSpeed', \n",
    "                 'WalkingStepLength', \n",
    "                 'WalkingAsymmetryPercentage',\n",
    "                 'StairAscentSpeed', \n",
    "                 'StairDescentSpeed',\n",
    "                 'SleepAnalysis', \n",
    "                 'AppleStandHour', \n",
    "                 'LowHeartRateEvent', \n",
    "                 'HeartRateVariabilitySDNN',\n",
    "                 'HeartRateRecoveryOneMinute']\n",
    "\n",
    "workout_records = ['DistanceWalkingRunning', \n",
    "                   'BasalEnergyBurned', \n",
    "                   'ActiveEnergyBurned', \n",
    "                   'DistanceCycling', \n",
    "                   'DistanceSwimming', \n",
    "                   'SwimmingStrokeCount',\n",
    "                   'DistanceDownhillSnowSports',\n",
    "                   'RunningStrideLength', \n",
    "                   'RunningVerticalOscillation', \n",
    "                   'RunningGroundContactTime', \n",
    "                   'RunningPower',\n",
    "                   'RunningSpeed']\n"
   ]
  },
  {
   "cell_type": "markdown",
   "metadata": {},
   "source": [
    "##### Personal Records"
   ]
  },
  {
   "cell_type": "code",
   "execution_count": 750,
   "metadata": {},
   "outputs": [
    {
     "name": "stdout",
     "output_type": "stream",
     "text": [
      "Height\n",
      "BodyMass\n",
      "RestingHeartRate\n",
      "WalkingHeartRateAverage\n",
      "AppleWalkingSteadiness\n",
      "SixMinuteWalkTestDistance\n"
     ]
    }
   ],
   "source": [
    "# dictionary of DataFrames for filtered 'record_data'\n",
    "personal_dict = {}\n",
    "\n",
    "# create new DataFrame for every interested data\n",
    "for type in personal_records:\n",
    "   print(type)\n",
    "   personal_dict[type] = df_records[df_records['type'] == type].rename(columns={\"value\": type}).sort_values(by='Date')\n",
    "\n",
    "   # create from/to-date columns --> drop irrelevant columns\n",
    "   personal_dict[type]['fromDate'] = personal_dict[type]['Date']\n",
    "   personal_dict[type]['toDate'] = personal_dict[type]['Date'].shift(-1)\n",
    "   personal_dict[type] = personal_dict[type].drop(['creationDate', 'startDate', 'endDate', 'Date', 'startTime', 'endTime'], axis = 1)\n",
    "\n",
    "   #display(personal_dict[type].tail(5))"
   ]
  },
  {
   "cell_type": "code",
   "execution_count": 751,
   "metadata": {},
   "outputs": [],
   "source": [
    "personal_record_df = pd.DataFrame()\n",
    "\n",
    "for type in personal_records:\n",
    "    frames = [personal_record_df, personal_dict[type]]\n",
    "    personal_record_df = pd.concat(frames)"
   ]
  },
  {
   "cell_type": "code",
   "execution_count": 752,
   "metadata": {},
   "outputs": [],
   "source": [
    "FactPersonalRecords = pd.melt(personal_record_df,\n",
    "                      id_vars=['fromDate',\n",
    "                               'toDate',\n",
    "                               'unit'], \n",
    "                     value_vars=personal_records, \n",
    "                     var_name='type',\n",
    "                     value_name='value')\n",
    "\n",
    "FactPersonalRecords = FactPersonalRecords[FactPersonalRecords['value'].notna()]\n",
    "FactPersonalRecords = FactPersonalRecords[['type', 'value', 'unit', 'fromDate', 'toDate']]"
   ]
  },
  {
   "cell_type": "code",
   "execution_count": 753,
   "metadata": {},
   "outputs": [
    {
     "data": {
      "text/html": [
       "<div>\n",
       "<style scoped>\n",
       "    .dataframe tbody tr th:only-of-type {\n",
       "        vertical-align: middle;\n",
       "    }\n",
       "\n",
       "    .dataframe tbody tr th {\n",
       "        vertical-align: top;\n",
       "    }\n",
       "\n",
       "    .dataframe thead th {\n",
       "        text-align: right;\n",
       "    }\n",
       "</style>\n",
       "<table border=\"1\" class=\"dataframe\">\n",
       "  <thead>\n",
       "    <tr style=\"text-align: right;\">\n",
       "      <th></th>\n",
       "      <th>type</th>\n",
       "      <th>value</th>\n",
       "      <th>unit</th>\n",
       "      <th>fromDate</th>\n",
       "      <th>toDate</th>\n",
       "    </tr>\n",
       "  </thead>\n",
       "  <tbody>\n",
       "    <tr>\n",
       "      <th>0</th>\n",
       "      <td>Height</td>\n",
       "      <td>181.0</td>\n",
       "      <td>cm</td>\n",
       "      <td>2022-03-28</td>\n",
       "      <td>2022-04-30</td>\n",
       "    </tr>\n",
       "    <tr>\n",
       "      <th>1</th>\n",
       "      <td>Height</td>\n",
       "      <td>181.0</td>\n",
       "      <td>cm</td>\n",
       "      <td>2022-04-30</td>\n",
       "      <td>None</td>\n",
       "    </tr>\n",
       "    <tr>\n",
       "      <th>1238</th>\n",
       "      <td>BodyMass</td>\n",
       "      <td>80.9</td>\n",
       "      <td>kg</td>\n",
       "      <td>2017-06-11</td>\n",
       "      <td>2017-06-28</td>\n",
       "    </tr>\n",
       "    <tr>\n",
       "      <th>1239</th>\n",
       "      <td>BodyMass</td>\n",
       "      <td>80.9</td>\n",
       "      <td>kg</td>\n",
       "      <td>2017-06-28</td>\n",
       "      <td>2018-02-07</td>\n",
       "    </tr>\n",
       "    <tr>\n",
       "      <th>1240</th>\n",
       "      <td>BodyMass</td>\n",
       "      <td>82.7</td>\n",
       "      <td>kg</td>\n",
       "      <td>2018-02-07</td>\n",
       "      <td>2018-03-11</td>\n",
       "    </tr>\n",
       "    <tr>\n",
       "      <th>...</th>\n",
       "      <td>...</td>\n",
       "      <td>...</td>\n",
       "      <td>...</td>\n",
       "      <td>...</td>\n",
       "      <td>...</td>\n",
       "    </tr>\n",
       "    <tr>\n",
       "      <th>7411</th>\n",
       "      <td>SixMinuteWalkTestDistance</td>\n",
       "      <td>500.0</td>\n",
       "      <td>m</td>\n",
       "      <td>2023-08-19</td>\n",
       "      <td>2023-08-27</td>\n",
       "    </tr>\n",
       "    <tr>\n",
       "      <th>7412</th>\n",
       "      <td>SixMinuteWalkTestDistance</td>\n",
       "      <td>500.0</td>\n",
       "      <td>m</td>\n",
       "      <td>2023-08-27</td>\n",
       "      <td>2023-09-03</td>\n",
       "    </tr>\n",
       "    <tr>\n",
       "      <th>7413</th>\n",
       "      <td>SixMinuteWalkTestDistance</td>\n",
       "      <td>500.0</td>\n",
       "      <td>m</td>\n",
       "      <td>2023-09-03</td>\n",
       "      <td>2023-09-10</td>\n",
       "    </tr>\n",
       "    <tr>\n",
       "      <th>7414</th>\n",
       "      <td>SixMinuteWalkTestDistance</td>\n",
       "      <td>500.0</td>\n",
       "      <td>m</td>\n",
       "      <td>2023-09-10</td>\n",
       "      <td>2023-09-17</td>\n",
       "    </tr>\n",
       "    <tr>\n",
       "      <th>7415</th>\n",
       "      <td>SixMinuteWalkTestDistance</td>\n",
       "      <td>500.0</td>\n",
       "      <td>m</td>\n",
       "      <td>2023-09-17</td>\n",
       "      <td>None</td>\n",
       "    </tr>\n",
       "  </tbody>\n",
       "</table>\n",
       "<p>1236 rows × 5 columns</p>\n",
       "</div>"
      ],
      "text/plain": [
       "                           type  value unit    fromDate      toDate\n",
       "0                        Height  181.0   cm  2022-03-28  2022-04-30\n",
       "1                        Height  181.0   cm  2022-04-30        None\n",
       "1238                   BodyMass   80.9   kg  2017-06-11  2017-06-28\n",
       "1239                   BodyMass   80.9   kg  2017-06-28  2018-02-07\n",
       "1240                   BodyMass   82.7   kg  2018-02-07  2018-03-11\n",
       "...                         ...    ...  ...         ...         ...\n",
       "7411  SixMinuteWalkTestDistance  500.0    m  2023-08-19  2023-08-27\n",
       "7412  SixMinuteWalkTestDistance  500.0    m  2023-08-27  2023-09-03\n",
       "7413  SixMinuteWalkTestDistance  500.0    m  2023-09-03  2023-09-10\n",
       "7414  SixMinuteWalkTestDistance  500.0    m  2023-09-10  2023-09-17\n",
       "7415  SixMinuteWalkTestDistance  500.0    m  2023-09-17        None\n",
       "\n",
       "[1236 rows x 5 columns]"
      ]
     },
     "execution_count": 753,
     "metadata": {},
     "output_type": "execute_result"
    }
   ],
   "source": [
    "FactPersonalRecords"
   ]
  },
  {
   "cell_type": "markdown",
   "metadata": {},
   "source": [
    "##### Basis Records"
   ]
  },
  {
   "cell_type": "code",
   "execution_count": 754,
   "metadata": {},
   "outputs": [
    {
     "name": "stdout",
     "output_type": "stream",
     "text": [
      "HeartRate\n",
      "OxygenSaturation\n",
      "RespiratoryRate\n",
      "StepCount\n",
      "FlightsClimbed\n",
      "AppleExerciseTime\n",
      "VO2Max\n",
      "EnvironmentalAudioExposure\n",
      "HeadphoneAudioExposure\n",
      "WalkingDoubleSupportPercentage\n",
      "AppleStandTime\n",
      "WalkingSpeed\n",
      "WalkingStepLength\n",
      "WalkingAsymmetryPercentage\n",
      "StairAscentSpeed\n",
      "StairDescentSpeed\n",
      "SleepAnalysis\n",
      "AppleStandHour\n",
      "LowHeartRateEvent\n",
      "HeartRateVariabilitySDNN\n",
      "HeartRateRecoveryOneMinute\n"
     ]
    }
   ],
   "source": [
    "# dictionary of DataFrames for filtered 'record_data'\n",
    "basis_dict = {}\n",
    "\n",
    "# create new DataFrame for every interested data\n",
    "for type in basis_records:\n",
    "   print(type)\n",
    "   basis_dict[type] = df_records[df_records['type'] == type].rename(columns={\"value\": type}).sort_values(by='Date')\n",
    "\n",
    "   #display(basis_dict[type].tail(3))"
   ]
  },
  {
   "cell_type": "code",
   "execution_count": 755,
   "metadata": {},
   "outputs": [],
   "source": [
    "basis_record_df = pd.DataFrame()\n",
    "\n",
    "for type in basis_records:\n",
    "    frames = [basis_record_df, basis_dict[type]]\n",
    "    basis_record_df = pd.concat(frames)\n",
    "\n",
    "basis_record_df = basis_record_df.drop(['creationDate', 'startTime', 'endTime'], axis = 1)"
   ]
  },
  {
   "cell_type": "code",
   "execution_count": 741,
   "metadata": {},
   "outputs": [],
   "source": [
    "FactBasisRecords = pd.melt(basis_record_df,\n",
    "                      id_vars=['unit',\n",
    "                               'startDate',\n",
    "                               'endDate',\n",
    "                               'Date'], \n",
    "                     value_vars=basis_records, \n",
    "                     var_name='type',\n",
    "                     value_name='value')\n",
    "\n",
    "FactBasisRecords = FactBasisRecords[FactBasisRecords['value'].notna()]\n",
    "FactBasisRecords = FactBasisRecords[['type', 'value', 'unit', 'Date', 'startDate', 'endDate']]"
   ]
  },
  {
   "cell_type": "code",
   "execution_count": 766,
   "metadata": {},
   "outputs": [],
   "source": [
    "FactBasisRecords['startDate'] = pd.to_datetime(FactBasisRecords['startDate'])\n",
    "FactBasisRecords['endDate'] = pd.to_datetime(FactBasisRecords['endDate'])\n",
    "FactBasisRecords['Date'] = pd.to_datetime(FactBasisRecords['Date'])\n",
    "\n",
    "\n",
    "# Create dataframe that lists workout Starts/Ends\n",
    "wo_start_end = DimWorkouts[['workout_pk', 'Date', 'startDate', 'endDate']].drop_duplicates()\n",
    "wo_start_end['startDate'] = pd.to_datetime(wo_start_end['startDate'])\n",
    "wo_start_end['endDate'] = pd.to_datetime(wo_start_end['endDate'])\n",
    "wo_start_end['Date'] = pd.to_datetime(wo_start_end['Date'])\n",
    "\n",
    "FactBasisRecordsMerged = pd.merge(FactBasisRecords, wo_start_end, on = 'Date', how='left', suffixes=('_records', '_wo'))\n",
    "FactBasisRecordsMerged['workout_pk'] = FactBasisRecordsMerged['workout_pk'].astype('Int64')\n",
    "\n",
    "FactBasisRecordsMerged['isWO'] = np.where(\n",
    "    (FactBasisRecordsMerged['startDate_records'] >= FactBasisRecordsMerged['startDate_wo']) & \n",
    "    (FactBasisRecordsMerged['startDate_records'] <= FactBasisRecordsMerged['endDate_wo']), 1, 0)\n",
    "\n",
    "FactBasisRecords = FactBasisRecordsMerged.drop(['startDate_wo', 'endDate_wo'], axis=1)"
   ]
  },
  {
   "cell_type": "code",
   "execution_count": 776,
   "metadata": {},
   "outputs": [],
   "source": [
    "############### INVESTIGATE WHETHER WORKOUT_PK IS SET CORRECTLY if ISWO == 0!!!!! \n",
    "############### INVESTIGATE WHETHER WORKOUT_PK IS SET CORRECTLY if ISWO == 0!!!!! \n",
    "############### INVESTIGATE WHETHER WORKOUT_PK IS SET CORRECTLY if ISWO == 0!!!!! "
   ]
  },
  {
   "cell_type": "code",
   "execution_count": 777,
   "metadata": {},
   "outputs": [
    {
     "data": {
      "text/html": [
       "<div>\n",
       "<style scoped>\n",
       "    .dataframe tbody tr th:only-of-type {\n",
       "        vertical-align: middle;\n",
       "    }\n",
       "\n",
       "    .dataframe tbody tr th {\n",
       "        vertical-align: top;\n",
       "    }\n",
       "\n",
       "    .dataframe thead th {\n",
       "        text-align: right;\n",
       "    }\n",
       "</style>\n",
       "<table border=\"1\" class=\"dataframe\">\n",
       "  <thead>\n",
       "    <tr style=\"text-align: right;\">\n",
       "      <th></th>\n",
       "      <th>type</th>\n",
       "      <th>value</th>\n",
       "      <th>unit</th>\n",
       "      <th>Date</th>\n",
       "      <th>startDate_records</th>\n",
       "      <th>endDate_records</th>\n",
       "      <th>workout_pk</th>\n",
       "      <th>isWO</th>\n",
       "    </tr>\n",
       "  </thead>\n",
       "  <tbody>\n",
       "    <tr>\n",
       "      <th>0</th>\n",
       "      <td>DistanceWalkingRunning</td>\n",
       "      <td>0.484882</td>\n",
       "      <td>km</td>\n",
       "      <td>2018-10-13</td>\n",
       "      <td>2018-10-13 11:10:17+02:00</td>\n",
       "      <td>2018-10-13 11:19:40+02:00</td>\n",
       "      <td>&lt;NA&gt;</td>\n",
       "      <td>0</td>\n",
       "    </tr>\n",
       "    <tr>\n",
       "      <th>1</th>\n",
       "      <td>DistanceWalkingRunning</td>\n",
       "      <td>3.251390</td>\n",
       "      <td>km</td>\n",
       "      <td>2018-10-13</td>\n",
       "      <td>2018-10-13 11:19:40+02:00</td>\n",
       "      <td>2018-10-13 13:43:55+02:00</td>\n",
       "      <td>&lt;NA&gt;</td>\n",
       "      <td>0</td>\n",
       "    </tr>\n",
       "    <tr>\n",
       "      <th>2</th>\n",
       "      <td>DistanceWalkingRunning</td>\n",
       "      <td>0.064720</td>\n",
       "      <td>km</td>\n",
       "      <td>2018-10-13</td>\n",
       "      <td>2018-10-13 13:43:55+02:00</td>\n",
       "      <td>2018-10-13 13:48:07+02:00</td>\n",
       "      <td>&lt;NA&gt;</td>\n",
       "      <td>0</td>\n",
       "    </tr>\n",
       "    <tr>\n",
       "      <th>3</th>\n",
       "      <td>DistanceWalkingRunning</td>\n",
       "      <td>0.012780</td>\n",
       "      <td>km</td>\n",
       "      <td>2018-10-13</td>\n",
       "      <td>2018-10-13 13:58:35+02:00</td>\n",
       "      <td>2018-10-13 13:58:38+02:00</td>\n",
       "      <td>&lt;NA&gt;</td>\n",
       "      <td>0</td>\n",
       "    </tr>\n",
       "    <tr>\n",
       "      <th>4</th>\n",
       "      <td>DistanceWalkingRunning</td>\n",
       "      <td>0.257880</td>\n",
       "      <td>km</td>\n",
       "      <td>2018-10-13</td>\n",
       "      <td>2018-10-13 15:18:07+02:00</td>\n",
       "      <td>2018-10-13 15:27:36+02:00</td>\n",
       "      <td>&lt;NA&gt;</td>\n",
       "      <td>0</td>\n",
       "    </tr>\n",
       "    <tr>\n",
       "      <th>...</th>\n",
       "      <td>...</td>\n",
       "      <td>...</td>\n",
       "      <td>...</td>\n",
       "      <td>...</td>\n",
       "      <td>...</td>\n",
       "      <td>...</td>\n",
       "      <td>...</td>\n",
       "      <td>...</td>\n",
       "    </tr>\n",
       "    <tr>\n",
       "      <th>1904654</th>\n",
       "      <td>RunningSpeed</td>\n",
       "      <td>13.124000</td>\n",
       "      <td>km/hr</td>\n",
       "      <td>2023-09-19</td>\n",
       "      <td>2023-09-19 12:25:47+02:00</td>\n",
       "      <td>2023-09-19 12:25:47+02:00</td>\n",
       "      <td>571</td>\n",
       "      <td>1</td>\n",
       "    </tr>\n",
       "    <tr>\n",
       "      <th>1904655</th>\n",
       "      <td>RunningSpeed</td>\n",
       "      <td>13.236400</td>\n",
       "      <td>km/hr</td>\n",
       "      <td>2023-09-19</td>\n",
       "      <td>2023-09-19 12:25:50+02:00</td>\n",
       "      <td>2023-09-19 12:25:50+02:00</td>\n",
       "      <td>571</td>\n",
       "      <td>1</td>\n",
       "    </tr>\n",
       "    <tr>\n",
       "      <th>1904656</th>\n",
       "      <td>RunningSpeed</td>\n",
       "      <td>13.307800</td>\n",
       "      <td>km/hr</td>\n",
       "      <td>2023-09-19</td>\n",
       "      <td>2023-09-19 12:25:53+02:00</td>\n",
       "      <td>2023-09-19 12:25:53+02:00</td>\n",
       "      <td>571</td>\n",
       "      <td>1</td>\n",
       "    </tr>\n",
       "    <tr>\n",
       "      <th>1904657</th>\n",
       "      <td>RunningSpeed</td>\n",
       "      <td>13.049100</td>\n",
       "      <td>km/hr</td>\n",
       "      <td>2023-09-19</td>\n",
       "      <td>2023-09-19 12:25:58+02:00</td>\n",
       "      <td>2023-09-19 12:25:58+02:00</td>\n",
       "      <td>571</td>\n",
       "      <td>1</td>\n",
       "    </tr>\n",
       "    <tr>\n",
       "      <th>1904658</th>\n",
       "      <td>RunningSpeed</td>\n",
       "      <td>7.022730</td>\n",
       "      <td>km/hr</td>\n",
       "      <td>2023-09-19</td>\n",
       "      <td>2023-09-19 12:44:20+02:00</td>\n",
       "      <td>2023-09-19 12:44:20+02:00</td>\n",
       "      <td>571</td>\n",
       "      <td>1</td>\n",
       "    </tr>\n",
       "  </tbody>\n",
       "</table>\n",
       "<p>1904659 rows × 8 columns</p>\n",
       "</div>"
      ],
      "text/plain": [
       "                           type      value   unit       Date  \\\n",
       "0        DistanceWalkingRunning   0.484882     km 2018-10-13   \n",
       "1        DistanceWalkingRunning   3.251390     km 2018-10-13   \n",
       "2        DistanceWalkingRunning   0.064720     km 2018-10-13   \n",
       "3        DistanceWalkingRunning   0.012780     km 2018-10-13   \n",
       "4        DistanceWalkingRunning   0.257880     km 2018-10-13   \n",
       "...                         ...        ...    ...        ...   \n",
       "1904654            RunningSpeed  13.124000  km/hr 2023-09-19   \n",
       "1904655            RunningSpeed  13.236400  km/hr 2023-09-19   \n",
       "1904656            RunningSpeed  13.307800  km/hr 2023-09-19   \n",
       "1904657            RunningSpeed  13.049100  km/hr 2023-09-19   \n",
       "1904658            RunningSpeed   7.022730  km/hr 2023-09-19   \n",
       "\n",
       "                startDate_records           endDate_records  workout_pk  isWO  \n",
       "0       2018-10-13 11:10:17+02:00 2018-10-13 11:19:40+02:00        <NA>     0  \n",
       "1       2018-10-13 11:19:40+02:00 2018-10-13 13:43:55+02:00        <NA>     0  \n",
       "2       2018-10-13 13:43:55+02:00 2018-10-13 13:48:07+02:00        <NA>     0  \n",
       "3       2018-10-13 13:58:35+02:00 2018-10-13 13:58:38+02:00        <NA>     0  \n",
       "4       2018-10-13 15:18:07+02:00 2018-10-13 15:27:36+02:00        <NA>     0  \n",
       "...                           ...                       ...         ...   ...  \n",
       "1904654 2023-09-19 12:25:47+02:00 2023-09-19 12:25:47+02:00         571     1  \n",
       "1904655 2023-09-19 12:25:50+02:00 2023-09-19 12:25:50+02:00         571     1  \n",
       "1904656 2023-09-19 12:25:53+02:00 2023-09-19 12:25:53+02:00         571     1  \n",
       "1904657 2023-09-19 12:25:58+02:00 2023-09-19 12:25:58+02:00         571     1  \n",
       "1904658 2023-09-19 12:44:20+02:00 2023-09-19 12:44:20+02:00         571     1  \n",
       "\n",
       "[1904659 rows x 8 columns]"
      ]
     },
     "execution_count": 777,
     "metadata": {},
     "output_type": "execute_result"
    }
   ],
   "source": [
    "FactWorkoutRecords"
   ]
  },
  {
   "cell_type": "markdown",
   "metadata": {},
   "source": [
    "##### Workout Records"
   ]
  },
  {
   "cell_type": "code",
   "execution_count": 757,
   "metadata": {},
   "outputs": [
    {
     "name": "stdout",
     "output_type": "stream",
     "text": [
      "DistanceWalkingRunning\n",
      "BasalEnergyBurned\n",
      "ActiveEnergyBurned\n",
      "DistanceCycling\n",
      "DistanceSwimming\n",
      "SwimmingStrokeCount\n",
      "DistanceDownhillSnowSports\n",
      "RunningStrideLength\n",
      "RunningVerticalOscillation\n",
      "RunningGroundContactTime\n",
      "RunningPower\n",
      "RunningSpeed\n"
     ]
    }
   ],
   "source": [
    "# dictionary of DataFrames for filtered 'record_data'\n",
    "workout_dict = {}\n",
    "\n",
    "# create new DataFrame for every interested data\n",
    "for type in workout_records:\n",
    "   print(type)\n",
    "   workout_dict[type] = df_records[df_records['type'] == type].rename(columns={\"value\": type}).sort_values(by='Date')\n",
    "\n",
    "   #display(workout_dict[type].tail(3))"
   ]
  },
  {
   "cell_type": "code",
   "execution_count": 758,
   "metadata": {},
   "outputs": [],
   "source": [
    "workout_record_df = pd.DataFrame()\n",
    "\n",
    "for type in workout_records:\n",
    "    frames = [workout_record_df, workout_dict[type]]\n",
    "    workout_record_df = pd.concat(frames)\n",
    "\n",
    "workout_record_df = workout_record_df.drop(['creationDate', 'startTime', 'endTime'], axis = 1)"
   ]
  },
  {
   "cell_type": "code",
   "execution_count": 759,
   "metadata": {},
   "outputs": [],
   "source": [
    "FactWorkoutRecords = pd.melt(workout_record_df,\n",
    "                      id_vars=['unit',\n",
    "                               'startDate',\n",
    "                               'endDate',\n",
    "                               'Date'], \n",
    "                     value_vars=workout_records, \n",
    "                     var_name='type',\n",
    "                     value_name='value')\n",
    "\n",
    "FactWorkoutRecords = FactWorkoutRecords[FactWorkoutRecords['value'].notna()]\n",
    "FactWorkoutRecords = FactWorkoutRecords[['type', 'value', 'unit', 'Date', 'startDate', 'endDate']]"
   ]
  },
  {
   "cell_type": "code",
   "execution_count": 774,
   "metadata": {},
   "outputs": [],
   "source": [
    "FactWorkoutRecords['startDate'] = pd.to_datetime(FactWorkoutRecords['startDate'])\n",
    "FactWorkoutRecords['endDate'] = pd.to_datetime(FactWorkoutRecords['endDate'])\n",
    "FactWorkoutRecords['Date'] = pd.to_datetime(FactWorkoutRecords['Date'])\n",
    "\n",
    "\n",
    "# Create dataframe that lists workout Starts/Ends\n",
    "wo_start_end = DimWorkouts[['workout_pk', 'Date', 'startDate', 'endDate']].drop_duplicates()\n",
    "wo_start_end['startDate'] = pd.to_datetime(wo_start_end['startDate'])\n",
    "wo_start_end['endDate'] = pd.to_datetime(wo_start_end['endDate'])\n",
    "wo_start_end['Date'] = pd.to_datetime(wo_start_end['Date'])\n",
    "\n",
    "FactWorkoutRecordsMerged = pd.merge(FactWorkoutRecords, wo_start_end, on = 'Date', how='left', suffixes=('_records', '_wo'))\n",
    "FactWorkoutRecordsMerged['workout_pk'] = FactWorkoutRecordsMerged['workout_pk'].astype('Int64')\n",
    "\n",
    "FactWorkoutRecordsMerged['isWO'] = np.where(\n",
    "    (FactWorkoutRecordsMerged['startDate_records'] >= FactWorkoutRecordsMerged['startDate_wo']) & \n",
    "    (FactWorkoutRecordsMerged['startDate_records'] <= FactWorkoutRecordsMerged['endDate_wo']), 1, 0)\n",
    "\n",
    "FactWorkoutRecords = FactWorkoutRecordsMerged.drop(['startDate_wo', 'endDate_wo'], axis=1)"
   ]
  },
  {
   "cell_type": "code",
   "execution_count": 775,
   "metadata": {},
   "outputs": [
    {
     "data": {
      "text/html": [
       "<div>\n",
       "<style scoped>\n",
       "    .dataframe tbody tr th:only-of-type {\n",
       "        vertical-align: middle;\n",
       "    }\n",
       "\n",
       "    .dataframe tbody tr th {\n",
       "        vertical-align: top;\n",
       "    }\n",
       "\n",
       "    .dataframe thead th {\n",
       "        text-align: right;\n",
       "    }\n",
       "</style>\n",
       "<table border=\"1\" class=\"dataframe\">\n",
       "  <thead>\n",
       "    <tr style=\"text-align: right;\">\n",
       "      <th></th>\n",
       "      <th>type</th>\n",
       "      <th>value</th>\n",
       "      <th>unit</th>\n",
       "      <th>Date</th>\n",
       "      <th>startDate_records</th>\n",
       "      <th>endDate_records</th>\n",
       "      <th>workout_pk</th>\n",
       "      <th>isWO</th>\n",
       "    </tr>\n",
       "  </thead>\n",
       "  <tbody>\n",
       "    <tr>\n",
       "      <th>0</th>\n",
       "      <td>DistanceWalkingRunning</td>\n",
       "      <td>0.484882</td>\n",
       "      <td>km</td>\n",
       "      <td>2018-10-13</td>\n",
       "      <td>2018-10-13 11:10:17+02:00</td>\n",
       "      <td>2018-10-13 11:19:40+02:00</td>\n",
       "      <td>&lt;NA&gt;</td>\n",
       "      <td>0</td>\n",
       "    </tr>\n",
       "    <tr>\n",
       "      <th>1</th>\n",
       "      <td>DistanceWalkingRunning</td>\n",
       "      <td>3.251390</td>\n",
       "      <td>km</td>\n",
       "      <td>2018-10-13</td>\n",
       "      <td>2018-10-13 11:19:40+02:00</td>\n",
       "      <td>2018-10-13 13:43:55+02:00</td>\n",
       "      <td>&lt;NA&gt;</td>\n",
       "      <td>0</td>\n",
       "    </tr>\n",
       "    <tr>\n",
       "      <th>2</th>\n",
       "      <td>DistanceWalkingRunning</td>\n",
       "      <td>0.064720</td>\n",
       "      <td>km</td>\n",
       "      <td>2018-10-13</td>\n",
       "      <td>2018-10-13 13:43:55+02:00</td>\n",
       "      <td>2018-10-13 13:48:07+02:00</td>\n",
       "      <td>&lt;NA&gt;</td>\n",
       "      <td>0</td>\n",
       "    </tr>\n",
       "    <tr>\n",
       "      <th>3</th>\n",
       "      <td>DistanceWalkingRunning</td>\n",
       "      <td>0.012780</td>\n",
       "      <td>km</td>\n",
       "      <td>2018-10-13</td>\n",
       "      <td>2018-10-13 13:58:35+02:00</td>\n",
       "      <td>2018-10-13 13:58:38+02:00</td>\n",
       "      <td>&lt;NA&gt;</td>\n",
       "      <td>0</td>\n",
       "    </tr>\n",
       "    <tr>\n",
       "      <th>4</th>\n",
       "      <td>DistanceWalkingRunning</td>\n",
       "      <td>0.257880</td>\n",
       "      <td>km</td>\n",
       "      <td>2018-10-13</td>\n",
       "      <td>2018-10-13 15:18:07+02:00</td>\n",
       "      <td>2018-10-13 15:27:36+02:00</td>\n",
       "      <td>&lt;NA&gt;</td>\n",
       "      <td>0</td>\n",
       "    </tr>\n",
       "    <tr>\n",
       "      <th>...</th>\n",
       "      <td>...</td>\n",
       "      <td>...</td>\n",
       "      <td>...</td>\n",
       "      <td>...</td>\n",
       "      <td>...</td>\n",
       "      <td>...</td>\n",
       "      <td>...</td>\n",
       "      <td>...</td>\n",
       "    </tr>\n",
       "    <tr>\n",
       "      <th>1904654</th>\n",
       "      <td>RunningSpeed</td>\n",
       "      <td>13.124000</td>\n",
       "      <td>km/hr</td>\n",
       "      <td>2023-09-19</td>\n",
       "      <td>2023-09-19 12:25:47+02:00</td>\n",
       "      <td>2023-09-19 12:25:47+02:00</td>\n",
       "      <td>571</td>\n",
       "      <td>1</td>\n",
       "    </tr>\n",
       "    <tr>\n",
       "      <th>1904655</th>\n",
       "      <td>RunningSpeed</td>\n",
       "      <td>13.236400</td>\n",
       "      <td>km/hr</td>\n",
       "      <td>2023-09-19</td>\n",
       "      <td>2023-09-19 12:25:50+02:00</td>\n",
       "      <td>2023-09-19 12:25:50+02:00</td>\n",
       "      <td>571</td>\n",
       "      <td>1</td>\n",
       "    </tr>\n",
       "    <tr>\n",
       "      <th>1904656</th>\n",
       "      <td>RunningSpeed</td>\n",
       "      <td>13.307800</td>\n",
       "      <td>km/hr</td>\n",
       "      <td>2023-09-19</td>\n",
       "      <td>2023-09-19 12:25:53+02:00</td>\n",
       "      <td>2023-09-19 12:25:53+02:00</td>\n",
       "      <td>571</td>\n",
       "      <td>1</td>\n",
       "    </tr>\n",
       "    <tr>\n",
       "      <th>1904657</th>\n",
       "      <td>RunningSpeed</td>\n",
       "      <td>13.049100</td>\n",
       "      <td>km/hr</td>\n",
       "      <td>2023-09-19</td>\n",
       "      <td>2023-09-19 12:25:58+02:00</td>\n",
       "      <td>2023-09-19 12:25:58+02:00</td>\n",
       "      <td>571</td>\n",
       "      <td>1</td>\n",
       "    </tr>\n",
       "    <tr>\n",
       "      <th>1904658</th>\n",
       "      <td>RunningSpeed</td>\n",
       "      <td>7.022730</td>\n",
       "      <td>km/hr</td>\n",
       "      <td>2023-09-19</td>\n",
       "      <td>2023-09-19 12:44:20+02:00</td>\n",
       "      <td>2023-09-19 12:44:20+02:00</td>\n",
       "      <td>571</td>\n",
       "      <td>1</td>\n",
       "    </tr>\n",
       "  </tbody>\n",
       "</table>\n",
       "<p>1904659 rows × 8 columns</p>\n",
       "</div>"
      ],
      "text/plain": [
       "                           type      value   unit       Date  \\\n",
       "0        DistanceWalkingRunning   0.484882     km 2018-10-13   \n",
       "1        DistanceWalkingRunning   3.251390     km 2018-10-13   \n",
       "2        DistanceWalkingRunning   0.064720     km 2018-10-13   \n",
       "3        DistanceWalkingRunning   0.012780     km 2018-10-13   \n",
       "4        DistanceWalkingRunning   0.257880     km 2018-10-13   \n",
       "...                         ...        ...    ...        ...   \n",
       "1904654            RunningSpeed  13.124000  km/hr 2023-09-19   \n",
       "1904655            RunningSpeed  13.236400  km/hr 2023-09-19   \n",
       "1904656            RunningSpeed  13.307800  km/hr 2023-09-19   \n",
       "1904657            RunningSpeed  13.049100  km/hr 2023-09-19   \n",
       "1904658            RunningSpeed   7.022730  km/hr 2023-09-19   \n",
       "\n",
       "                startDate_records           endDate_records  workout_pk  isWO  \n",
       "0       2018-10-13 11:10:17+02:00 2018-10-13 11:19:40+02:00        <NA>     0  \n",
       "1       2018-10-13 11:19:40+02:00 2018-10-13 13:43:55+02:00        <NA>     0  \n",
       "2       2018-10-13 13:43:55+02:00 2018-10-13 13:48:07+02:00        <NA>     0  \n",
       "3       2018-10-13 13:58:35+02:00 2018-10-13 13:58:38+02:00        <NA>     0  \n",
       "4       2018-10-13 15:18:07+02:00 2018-10-13 15:27:36+02:00        <NA>     0  \n",
       "...                           ...                       ...         ...   ...  \n",
       "1904654 2023-09-19 12:25:47+02:00 2023-09-19 12:25:47+02:00         571     1  \n",
       "1904655 2023-09-19 12:25:50+02:00 2023-09-19 12:25:50+02:00         571     1  \n",
       "1904656 2023-09-19 12:25:53+02:00 2023-09-19 12:25:53+02:00         571     1  \n",
       "1904657 2023-09-19 12:25:58+02:00 2023-09-19 12:25:58+02:00         571     1  \n",
       "1904658 2023-09-19 12:44:20+02:00 2023-09-19 12:44:20+02:00         571     1  \n",
       "\n",
       "[1904659 rows x 8 columns]"
      ]
     },
     "execution_count": 775,
     "metadata": {},
     "output_type": "execute_result"
    }
   ],
   "source": [
    "FactWorkoutRecords"
   ]
  },
  {
   "cell_type": "code",
   "execution_count": null,
   "metadata": {},
   "outputs": [],
   "source": [
    "############### INVESTIGATE WHETHER WORKOUT_PK IS SET CORRECTLY if ISWO == 0!!!!! \n",
    "############### INVESTIGATE WHETHER WORKOUT_PK IS SET CORRECTLY if ISWO == 0!!!!! \n",
    "############### INVESTIGATE WHETHER WORKOUT_PK IS SET CORRECTLY if ISWO == 0!!!!! "
   ]
  },
  {
   "cell_type": "code",
   "execution_count": null,
   "metadata": {},
   "outputs": [],
   "source": [
    "#################################################################################################################"
   ]
  },
  {
   "cell_type": "markdown",
   "metadata": {},
   "source": [
    "##### Investigate Workout Metrics"
   ]
  },
  {
   "cell_type": "markdown",
   "metadata": {},
   "source": [
    "record_df = pd.DataFrame()\n",
    "\n",
    "for type in record_types:\n",
    "    frames = [record_df, record_dict[type]]\n",
    "    record_df = pd.concat(frames)"
   ]
  },
  {
   "cell_type": "markdown",
   "metadata": {},
   "source": [
    "record_df['Date'] = pd.to_datetime(record_df['startDate']).dt.strftime('%Y-%m-%d')\n",
    "record_df['startDate'] = pd.to_datetime(record_df['startDate'])"
   ]
  },
  {
   "cell_type": "markdown",
   "metadata": {},
   "source": [
    "record_df['Date'] = pd.to_datetime(record_df['startDate']).dt.strftime('%Y-%m-%d')\n",
    "record_df['startDate'] = pd.to_datetime(record_df['startDate'])\n",
    "\n",
    "\n",
    "# Create dataframe that lists workout Starts/Ends\n",
    "wo_start_end = DimWorkouts[['workout_pk', 'Date', 'startDate', 'endDate']].drop_duplicates()\n",
    "\n",
    "merged = pd.merge(record_df, wo_start_end, on = 'Date', how='left', suffixes=('_records', '_wo'))\n",
    "merged['workout_pk'] = merged['workout_pk'].astype('Int64')\n",
    "\n",
    "merged['isWO'] = np.where(\n",
    "    (merged['startDate_records'] >= merged['startDate_wo']) & \n",
    "    (merged['startDate_records'] <= merged['endDate_wo']), 1, 0)\n",
    "\n",
    "records = merged.drop(['startDate_wo', 'endDate_wo'], axis=1)"
   ]
  },
  {
   "cell_type": "markdown",
   "metadata": {},
   "source": [
    "records = merged.drop(['startDate_wo', 'endDate_wo'], axis=1)"
   ]
  },
  {
   "cell_type": "markdown",
   "metadata": {},
   "source": [
    "records"
   ]
  },
  {
   "cell_type": "markdown",
   "metadata": {},
   "source": [
    "records_types = list(records['type'].unique())"
   ]
  },
  {
   "cell_type": "markdown",
   "metadata": {},
   "source": [
    "FactRecords = pd.melt(records,\n",
    "                      id_vars=['Date',\n",
    "                               'creationDate', \n",
    "                               'startDate_records',\n",
    "                               'startTime', \n",
    "                               'endDate_records',\n",
    "                               'endTime',\n",
    "                               'isWO',\n",
    "                               'workout_pk',\n",
    "                               'unit'], \n",
    "                     value_vars=records_types, \n",
    "                     var_name='type',\n",
    "                     value_name='value').dropna()"
   ]
  },
  {
   "cell_type": "markdown",
   "metadata": {},
   "source": [
    "### Workout Routes"
   ]
  },
  {
   "cell_type": "code",
   "execution_count": 396,
   "metadata": {},
   "outputs": [],
   "source": [
    "# Path to the XML file exported form Apple Health app\n",
    "XML_routes = \"C:/PythonProjects/AppleHealth/input_files/apple_health_export/workout-routes\""
   ]
  },
  {
   "cell_type": "code",
   "execution_count": 397,
   "metadata": {},
   "outputs": [],
   "source": [
    "example_route = list(os.listdir(XML_routes))[0]\n",
    "\n",
    "tree = ET.parse(f'{XML_routes}/{example_route}')\n",
    "root = tree.getroot()"
   ]
  },
  {
   "cell_type": "code",
   "execution_count": 398,
   "metadata": {},
   "outputs": [
    {
     "name": "stdout",
     "output_type": "stream",
     "text": [
      "['{http://www.topografix.com/GPX/1/1}trk', '{http://www.topografix.com/GPX/1/1}metadata']\n"
     ]
    }
   ],
   "source": [
    "attributes = []\n",
    "for child in root:\n",
    "    attributes.append(child.tag)\n",
    "\n",
    "attributes = list(set(attributes))\n",
    "print(attributes)"
   ]
  },
  {
   "cell_type": "code",
   "execution_count": 399,
   "metadata": {},
   "outputs": [],
   "source": [
    "level_1_list = []\n",
    "level_2_list = []\n",
    "level_3_list = []\n",
    "level_4_list = []\n",
    "level_5_list = []\n",
    "\n",
    "a_list = list(root.iter('{http://www.topografix.com/GPX/1/1}trk'))\n",
    "for a in range(len(a_list)):\n",
    "    b_list = list(a_list[a])\n",
    "    \n",
    "    for b in range(len(b_list)):\n",
    "        level_1_list.append(b_list[b].tag)\n",
    "        c_list = list(b_list[b])\n",
    "\n",
    "        for c in range(len(c_list)):\n",
    "            level_2_list.append(c_list[c].tag)\n",
    "            d_list = list(c_list[c])\n",
    "\n",
    "            for d in range(len(d_list)):\n",
    "                level_3_list.append(d_list[d].tag)\n",
    "                e_list = list(d_list[d])\n",
    "\n",
    "                for e in range(len(e_list)):\n",
    "                    level_4_list.append(e_list[e].tag)\n",
    "                    f_list = list(e_list[e])\n",
    "\n",
    "                    for f in range(len(f_list)):\n",
    "                        level_5_list.append(f_list[f].tag)\n",
    "\n",
    "level_1_list = list(set(level_1_list))\n",
    "level_2_list = list(set(level_2_list))\n",
    "level_3_list = list(set(level_3_list))\n",
    "level_4_list = list(set(level_4_list))\n",
    "level_5_list = list(set(level_5_list))"
   ]
  },
  {
   "cell_type": "code",
   "execution_count": 400,
   "metadata": {},
   "outputs": [
    {
     "name": "stdout",
     "output_type": "stream",
     "text": [
      "['{http://www.topografix.com/GPX/1/1}name', '{http://www.topografix.com/GPX/1/1}trkseg']\n",
      "['{http://www.topografix.com/GPX/1/1}trkpt']\n",
      "['{http://www.topografix.com/GPX/1/1}ele', '{http://www.topografix.com/GPX/1/1}time', '{http://www.topografix.com/GPX/1/1}extensions']\n",
      "['{http://www.topografix.com/GPX/1/1}course', '{http://www.topografix.com/GPX/1/1}speed', '{http://www.topografix.com/GPX/1/1}hAcc', '{http://www.topografix.com/GPX/1/1}vAcc']\n",
      "[]\n"
     ]
    }
   ],
   "source": [
    "### EMPTY LIST: no further levels to investigate\n",
    "print(level_1_list)\n",
    "print(level_2_list)\n",
    "print(level_3_list)\n",
    "print(level_4_list)\n",
    "print(level_5_list)\n",
    "\n",
    "concat_list = list(set(level_1_list + level_2_list + level_3_list + level_4_list))"
   ]
  },
  {
   "cell_type": "code",
   "execution_count": 401,
   "metadata": {},
   "outputs": [],
   "source": [
    "route_metrics = ['trkpt', 'ele', 'time', 'course', 'speed', 'hAcc', 'vAcc']"
   ]
  },
  {
   "cell_type": "code",
   "execution_count": 402,
   "metadata": {},
   "outputs": [
    {
     "name": "stdout",
     "output_type": "stream",
     "text": [
      "325 routes added to dataframe!\n"
     ]
    }
   ],
   "source": [
    "combined_routes_df = pd.DataFrame()\n",
    "\n",
    "for file in list(os.listdir(XML_routes)):\n",
    "    route_df = pd.DataFrame()\n",
    "    tree = ET.parse(f'{XML_routes}/{file}')\n",
    "\n",
    "    for metric in route_metrics:\n",
    "        # create metric lists\n",
    "        globals()[f\"list_{metric}\"] = []\n",
    "        source = \"{http://www.topografix.com/GPX/1/1}\"+str(metric)\n",
    "\n",
    "        # loop elements of metric\n",
    "        for elem in tree.findall(f\".//{source}\"):\n",
    "\n",
    "            # add elements to metric lists (trkpt's have different format)\n",
    "            if elem.tag == '{http://www.topografix.com/GPX/1/1}trkpt':\n",
    "                globals()[f\"list_{metric}\"].append(elem.attrib)\n",
    "            else:\n",
    "                globals()[f\"list_{metric}\"].append(elem.text)\n",
    "\n",
    "        # check whether column is time (TIME HAS ALWAYS N+1 ENTRIES --> ignore first entry) \n",
    "        if metric == 'time':\n",
    "            route_df[metric] = globals()[f\"list_{metric}\"][1:]\n",
    "        else:\n",
    "            route_df[metric] = globals()[f\"list_{metric}\"]\n",
    "\n",
    "    # add route name as column\n",
    "    route_df['route_name'] = file\n",
    "    # union \"route\" dataframe to overall \"combined_routes\" dataframe\n",
    "    combined_routes_df = pd.concat([combined_routes_df, route_df])    \n",
    "\n",
    "print(f\"{len(list(combined_routes_df['route_name'].unique()))} routes added to dataframe!\")"
   ]
  },
  {
   "cell_type": "code",
   "execution_count": 403,
   "metadata": {},
   "outputs": [],
   "source": [
    "DimWorkouts['route_name'] = DimWorkouts['path'].str.split(pat = '/')\n",
    "DimWorkouts['route_name'] = DimWorkouts['route_name'].str[-1]\n",
    "DimRoutes = pd.merge(combined_routes_df, DimWorkouts[['route_name', 'workout_pk']], on = 'route_name', how = 'left')"
   ]
  },
  {
   "cell_type": "markdown",
   "metadata": {},
   "source": [
    "### Save Tables"
   ]
  },
  {
   "cell_type": "code",
   "execution_count": null,
   "metadata": {},
   "outputs": [],
   "source": [
    "FactRecords.to_parquet('./output_files/frontend_files/FactRecords.parquet.gzip', compression='gzip')\n",
    "DimWorkouts.to_parquet('./output_files/frontend_files/DimWorkouts.parquet.gzip', compression='gzip')\n",
    "DimRoutes.to_parquet('./output_files/frontend_files/DimRoutes.parquet.gzip', compression='gzip')"
   ]
  }
 ],
 "metadata": {
  "kernelspec": {
   "display_name": "Python 3",
   "language": "python",
   "name": "python3"
  },
  "language_info": {
   "codemirror_mode": {
    "name": "ipython",
    "version": 3
   },
   "file_extension": ".py",
   "mimetype": "text/x-python",
   "name": "python",
   "nbconvert_exporter": "python",
   "pygments_lexer": "ipython3",
   "version": "3.10.9"
  },
  "orig_nbformat": 4
 },
 "nbformat": 4,
 "nbformat_minor": 2
}
