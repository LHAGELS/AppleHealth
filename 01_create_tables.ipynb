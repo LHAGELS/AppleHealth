{
 "cells": [
  {
   "cell_type": "code",
   "execution_count": 1,
   "metadata": {},
   "outputs": [],
   "source": [
    "import xml.etree.ElementTree as ET\n",
    "import pandas as pd\n",
    "import datetime as dt\n",
    "import numpy as np\n",
    "\n",
    "import matplotlib as plt"
   ]
  },
  {
   "cell_type": "code",
   "execution_count": 2,
   "metadata": {},
   "outputs": [],
   "source": [
    "# Path to the XML file exported form Apple Health app\n",
    "XML_DATA = \"C:/Users/LHAGELS/Downloads/Export/apple_health_export/Export.xml\""
   ]
  },
  {
   "cell_type": "code",
   "execution_count": 3,
   "metadata": {},
   "outputs": [],
   "source": [
    "# Parse XML file exported from Apple Health app\n",
    "tree = ET.parse(XML_DATA)\n",
    "root = tree.getroot()"
   ]
  },
  {
   "cell_type": "code",
   "execution_count": 4,
   "metadata": {},
   "outputs": [
    {
     "name": "stdout",
     "output_type": "stream",
     "text": [
      "['Record', 'ExportDate', 'Me', 'ActivitySummary', 'Workout']\n"
     ]
    }
   ],
   "source": [
    "attributes = []\n",
    "for child in root:\n",
    "    attributes.append(child.tag)\n",
    "\n",
    "attributes = list(set(attributes))\n",
    "print(attributes)"
   ]
  },
  {
   "cell_type": "code",
   "execution_count": 5,
   "metadata": {},
   "outputs": [
    {
     "name": "stdout",
     "output_type": "stream",
     "text": [
      "['Record', 'ActivitySummary', 'Workout']\n"
     ]
    }
   ],
   "source": [
    "attributes.remove('ExportDate')\n",
    "attributes.remove('Me')\n",
    "\n",
    "print(attributes)"
   ]
  },
  {
   "cell_type": "code",
   "execution_count": 6,
   "metadata": {},
   "outputs": [],
   "source": [
    "records_list = [x.attrib for x in root.iter('Record')]"
   ]
  },
  {
   "cell_type": "markdown",
   "metadata": {},
   "source": [
    "### Records"
   ]
  },
  {
   "cell_type": "code",
   "execution_count": 7,
   "metadata": {},
   "outputs": [],
   "source": [
    "df_records = pd.DataFrame(records_list)"
   ]
  },
  {
   "cell_type": "code",
   "execution_count": 8,
   "metadata": {},
   "outputs": [],
   "source": [
    "start_date = '2023-01-01'\n",
    "\n",
    "df_records_2023 = df_records[pd.to_datetime(df_records['startDate']).dt.strftime('%Y-%m-%d') >= start_date]\n",
    "df_records = df_records_2023\n",
    "\n",
    "# remove 'sourceName', 'sourceVersion', 'device', 'creationDate', 'endDate' columns\n",
    "df_records = df_records.drop(['sourceName','sourceVersion', 'device'], axis=1)"
   ]
  },
  {
   "cell_type": "code",
   "execution_count": 9,
   "metadata": {},
   "outputs": [],
   "source": [
    "df_records['Date'] = pd.to_datetime(df_records['startDate']).dt.strftime('%Y-%m-%d')\n",
    "df_records['Time'] = pd.to_datetime(df_records['startDate']).dt.strftime('%H:%M:%S')\n",
    "df_records['Day'] = pd.to_datetime(df_records['startDate']).dt.strftime('%A')\n",
    "df_records['Month'] = pd.to_datetime(df_records['startDate']).dt.strftime('%B')"
   ]
  },
  {
   "cell_type": "code",
   "execution_count": 10,
   "metadata": {},
   "outputs": [
    {
     "data": {
      "text/html": [
       "<div>\n",
       "<style scoped>\n",
       "    .dataframe tbody tr th:only-of-type {\n",
       "        vertical-align: middle;\n",
       "    }\n",
       "\n",
       "    .dataframe tbody tr th {\n",
       "        vertical-align: top;\n",
       "    }\n",
       "\n",
       "    .dataframe thead th {\n",
       "        text-align: right;\n",
       "    }\n",
       "</style>\n",
       "<table border=\"1\" class=\"dataframe\">\n",
       "  <thead>\n",
       "    <tr style=\"text-align: right;\">\n",
       "      <th></th>\n",
       "      <th>type</th>\n",
       "      <th>startDate</th>\n",
       "      <th>Date</th>\n",
       "      <th>Time</th>\n",
       "      <th>Month</th>\n",
       "      <th>Day</th>\n",
       "      <th>value</th>\n",
       "      <th>unit</th>\n",
       "    </tr>\n",
       "  </thead>\n",
       "  <tbody>\n",
       "    <tr>\n",
       "      <th>22</th>\n",
       "      <td>HKQuantityTypeIdentifierBodyMass</td>\n",
       "      <td>2023-07-12 22:07:00 +0200</td>\n",
       "      <td>2023-07-12</td>\n",
       "      <td>22:07:00</td>\n",
       "      <td>July</td>\n",
       "      <td>Wednesday</td>\n",
       "      <td>85</td>\n",
       "      <td>kg</td>\n",
       "    </tr>\n",
       "    <tr>\n",
       "      <th>135085</th>\n",
       "      <td>HKQuantityTypeIdentifierHeartRate</td>\n",
       "      <td>2023-01-01 00:00:30 +0200</td>\n",
       "      <td>2023-01-01</td>\n",
       "      <td>00:00:30</td>\n",
       "      <td>January</td>\n",
       "      <td>Sunday</td>\n",
       "      <td>68</td>\n",
       "      <td>count/min</td>\n",
       "    </tr>\n",
       "    <tr>\n",
       "      <th>135086</th>\n",
       "      <td>HKQuantityTypeIdentifierHeartRate</td>\n",
       "      <td>2023-01-01 00:09:37 +0200</td>\n",
       "      <td>2023-01-01</td>\n",
       "      <td>00:09:37</td>\n",
       "      <td>January</td>\n",
       "      <td>Sunday</td>\n",
       "      <td>75</td>\n",
       "      <td>count/min</td>\n",
       "    </tr>\n",
       "    <tr>\n",
       "      <th>135087</th>\n",
       "      <td>HKQuantityTypeIdentifierHeartRate</td>\n",
       "      <td>2023-01-01 00:10:47 +0200</td>\n",
       "      <td>2023-01-01</td>\n",
       "      <td>00:10:47</td>\n",
       "      <td>January</td>\n",
       "      <td>Sunday</td>\n",
       "      <td>74</td>\n",
       "      <td>count/min</td>\n",
       "    </tr>\n",
       "    <tr>\n",
       "      <th>135088</th>\n",
       "      <td>HKQuantityTypeIdentifierHeartRate</td>\n",
       "      <td>2023-01-01 00:17:45 +0200</td>\n",
       "      <td>2023-01-01</td>\n",
       "      <td>00:17:45</td>\n",
       "      <td>January</td>\n",
       "      <td>Sunday</td>\n",
       "      <td>64</td>\n",
       "      <td>count/min</td>\n",
       "    </tr>\n",
       "  </tbody>\n",
       "</table>\n",
       "</div>"
      ],
      "text/plain": [
       "                                     type                  startDate  \\\n",
       "22       HKQuantityTypeIdentifierBodyMass  2023-07-12 22:07:00 +0200   \n",
       "135085  HKQuantityTypeIdentifierHeartRate  2023-01-01 00:00:30 +0200   \n",
       "135086  HKQuantityTypeIdentifierHeartRate  2023-01-01 00:09:37 +0200   \n",
       "135087  HKQuantityTypeIdentifierHeartRate  2023-01-01 00:10:47 +0200   \n",
       "135088  HKQuantityTypeIdentifierHeartRate  2023-01-01 00:17:45 +0200   \n",
       "\n",
       "              Date      Time    Month        Day value       unit  \n",
       "22      2023-07-12  22:07:00     July  Wednesday    85         kg  \n",
       "135085  2023-01-01  00:00:30  January     Sunday    68  count/min  \n",
       "135086  2023-01-01  00:09:37  January     Sunday    75  count/min  \n",
       "135087  2023-01-01  00:10:47  January     Sunday    74  count/min  \n",
       "135088  2023-01-01  00:17:45  January     Sunday    64  count/min  "
      ]
     },
     "execution_count": 10,
     "metadata": {},
     "output_type": "execute_result"
    }
   ],
   "source": [
    "df_records[['type', 'startDate', 'Date', 'Time', 'Month', 'Day', 'value', 'unit']].head(5)"
   ]
  },
  {
   "cell_type": "code",
   "execution_count": 11,
   "metadata": {},
   "outputs": [],
   "source": [
    "# value is numeric, NaN if fails\n",
    "df_records['value'] = pd.to_numeric(df_records['value'], errors='coerce')"
   ]
  },
  {
   "cell_type": "code",
   "execution_count": 12,
   "metadata": {},
   "outputs": [],
   "source": [
    "# shorter observation names\n",
    "df_records['type'] = df_records['type'].str.replace('HKQuantityTypeIdentifier', '')\n",
    "df_records['type'] = df_records['type'].str.replace('HKCategoryTypeIdentifier', '')"
   ]
  },
  {
   "cell_type": "code",
   "execution_count": 13,
   "metadata": {},
   "outputs": [
    {
     "data": {
      "text/plain": [
       "array(['BodyMass', 'HeartRate', 'OxygenSaturation', 'RespiratoryRate',\n",
       "       'StepCount', 'DistanceWalkingRunning', 'BasalEnergyBurned',\n",
       "       'ActiveEnergyBurned', 'FlightsClimbed', 'AppleExerciseTime',\n",
       "       'DistanceCycling', 'DistanceSwimming', 'SwimmingStrokeCount',\n",
       "       'RestingHeartRate', 'VO2Max', 'WalkingHeartRateAverage',\n",
       "       'DistanceDownhillSnowSports', 'EnvironmentalAudioExposure',\n",
       "       'HeadphoneAudioExposure', 'WalkingDoubleSupportPercentage',\n",
       "       'SixMinuteWalkTestDistance', 'AppleStandTime', 'WalkingSpeed',\n",
       "       'WalkingStepLength', 'WalkingAsymmetryPercentage',\n",
       "       'StairAscentSpeed', 'StairDescentSpeed', 'AppleWalkingSteadiness',\n",
       "       'RunningStrideLength', 'RunningVerticalOscillation',\n",
       "       'RunningGroundContactTime', 'HeartRateRecoveryOneMinute',\n",
       "       'RunningPower', 'RunningSpeed', 'SleepAnalysis', 'AppleStandHour',\n",
       "       'LowHeartRateEvent', 'HeartRateVariabilitySDNN'], dtype=object)"
      ]
     },
     "execution_count": 13,
     "metadata": {},
     "output_type": "execute_result"
    }
   ],
   "source": [
    "df_records.type.unique()"
   ]
  },
  {
   "cell_type": "code",
   "execution_count": 14,
   "metadata": {},
   "outputs": [],
   "source": [
    "record_types = list(df_records.type.unique())"
   ]
  },
  {
   "cell_type": "code",
   "execution_count": 15,
   "metadata": {},
   "outputs": [
    {
     "data": {
      "text/plain": [
       "['BodyMass',\n",
       " 'HeartRate',\n",
       " 'OxygenSaturation',\n",
       " 'RespiratoryRate',\n",
       " 'StepCount',\n",
       " 'DistanceWalkingRunning',\n",
       " 'BasalEnergyBurned',\n",
       " 'ActiveEnergyBurned',\n",
       " 'FlightsClimbed',\n",
       " 'AppleExerciseTime',\n",
       " 'DistanceCycling',\n",
       " 'DistanceSwimming',\n",
       " 'SwimmingStrokeCount',\n",
       " 'RestingHeartRate',\n",
       " 'VO2Max',\n",
       " 'WalkingHeartRateAverage',\n",
       " 'DistanceDownhillSnowSports',\n",
       " 'EnvironmentalAudioExposure',\n",
       " 'HeadphoneAudioExposure',\n",
       " 'WalkingDoubleSupportPercentage',\n",
       " 'SixMinuteWalkTestDistance',\n",
       " 'AppleStandTime',\n",
       " 'WalkingSpeed',\n",
       " 'WalkingStepLength',\n",
       " 'WalkingAsymmetryPercentage',\n",
       " 'StairAscentSpeed',\n",
       " 'StairDescentSpeed',\n",
       " 'AppleWalkingSteadiness',\n",
       " 'RunningStrideLength',\n",
       " 'RunningVerticalOscillation',\n",
       " 'RunningGroundContactTime',\n",
       " 'HeartRateRecoveryOneMinute',\n",
       " 'RunningPower',\n",
       " 'RunningSpeed',\n",
       " 'SleepAnalysis',\n",
       " 'AppleStandHour',\n",
       " 'LowHeartRateEvent',\n",
       " 'HeartRateVariabilitySDNN']"
      ]
     },
     "execution_count": 15,
     "metadata": {},
     "output_type": "execute_result"
    }
   ],
   "source": [
    "record_types"
   ]
  },
  {
   "cell_type": "code",
   "execution_count": 16,
   "metadata": {},
   "outputs": [],
   "source": [
    "# dictionary of DataFrames for filtered 'record_data'\n",
    "record_dict = {}\n",
    "\n",
    "# create new DataFrame for every interested data\n",
    "for type in record_types:\n",
    "   record_dict[type] = df_records.loc[(df_records['type'].str.contains(type))].rename(columns={\"value\": type}).sort_values(by='Date')"
   ]
  },
  {
   "cell_type": "markdown",
   "metadata": {},
   "source": [
    "### Workouts"
   ]
  },
  {
   "cell_type": "code",
   "execution_count": 17,
   "metadata": {},
   "outputs": [],
   "source": [
    "level_1_list = []\n",
    "level_2_list = []\n",
    "level_3_list = []\n",
    "\n",
    "a_list = list(root.iter('Workout'))\n",
    "for a in range(len(a_list)):\n",
    "    b_list = list(a_list[a])\n",
    "    \n",
    "    for b in range(len(b_list)):\n",
    "        level_1_list.append(b_list[b].tag)\n",
    "        c_list = list(b_list[b])\n",
    "\n",
    "        for c in range(len(c_list)):\n",
    "            level_2_list.append(c_list[c].tag)\n",
    "            d_list = list(c_list[c])\n",
    "\n",
    "            for d in range(len(d_list)):\n",
    "                level_3_list.append(d_list[d].tag)\n",
    "\n",
    "level_1_list = list(set(level_1_list))\n",
    "level_2_list = list(set(level_2_list))\n",
    "level_3_list = list(set(level_3_list))"
   ]
  },
  {
   "cell_type": "code",
   "execution_count": 18,
   "metadata": {},
   "outputs": [
    {
     "name": "stdout",
     "output_type": "stream",
     "text": [
      "['MetadataEntry', 'WorkoutEvent', 'WorkoutStatistics', 'WorkoutRoute']\n",
      "['MetadataEntry', 'FileReference']\n",
      "[]\n",
      "['WorkoutEvent', 'MetadataEntry', 'FileReference', 'WorkoutStatistics', 'WorkoutRoute']\n"
     ]
    }
   ],
   "source": [
    "### EMPTY LIST: no further levels to investigate\n",
    "print(level_1_list)\n",
    "print(level_2_list)\n",
    "print(level_3_list)\n",
    "\n",
    "concat_list = list(set(level_1_list + level_2_list + level_3_list))\n",
    "print(concat_list)"
   ]
  },
  {
   "cell_type": "code",
   "execution_count": 19,
   "metadata": {},
   "outputs": [],
   "source": [
    "index = 0\n",
    "workouts = root.findall('.//Workout')\n",
    "total_workouts = len(workouts)\n",
    "\n",
    "for wo in workouts:\n",
    "    index = index + 1\n",
    "    wo.attrib['workout_pk'] = str(index)\n",
    "\n",
    "    for wo_2 in level_1_list:\n",
    "        workouts_2 = wo.findall(f'.//{wo_2}')\n",
    "        for x in workouts_2:\n",
    "            x.attrib['workout_pk'] = str(index)\n",
    "\n",
    "            for wo_3 in level_2_list:\n",
    "                workouts_3 = x.findall(f'.//{wo_3}')\n",
    "                for y in workouts_3:\n",
    "                    y.attrib['workout_pk'] = str(index)\n",
    "\n",
    "tree.write('Indexed_XML.xml')"
   ]
  },
  {
   "cell_type": "code",
   "execution_count": 20,
   "metadata": {},
   "outputs": [],
   "source": [
    "tree = ET.parse('Indexed_XML.xml')\n",
    "root = tree.getroot()"
   ]
  },
  {
   "cell_type": "code",
   "execution_count": 21,
   "metadata": {},
   "outputs": [],
   "source": [
    "df_list = []\n",
    "for elem in concat_list:\n",
    "    workouts = root.findall(f'.//{elem}')\n",
    "    globals()[f\"{elem}_list\"] = []\n",
    "    df_list.append(str(f\"{elem}_list\"))\n",
    "    for wo in workouts:\n",
    "        globals()[f\"{elem}_list\"].append(wo.attrib)"
   ]
  },
  {
   "cell_type": "code",
   "execution_count": 22,
   "metadata": {},
   "outputs": [
    {
     "data": {
      "text/plain": [
       "['WorkoutEvent_list',\n",
       " 'MetadataEntry_list',\n",
       " 'FileReference_list',\n",
       " 'WorkoutStatistics_list',\n",
       " 'WorkoutRoute_list']"
      ]
     },
     "execution_count": 22,
     "metadata": {},
     "output_type": "execute_result"
    }
   ],
   "source": [
    "df_list"
   ]
  },
  {
   "cell_type": "code",
   "execution_count": 23,
   "metadata": {},
   "outputs": [
    {
     "name": "stdout",
     "output_type": "stream",
     "text": [
      "df_WorkoutEvent_list:\n"
     ]
    },
    {
     "data": {
      "text/html": [
       "<div>\n",
       "<style scoped>\n",
       "    .dataframe tbody tr th:only-of-type {\n",
       "        vertical-align: middle;\n",
       "    }\n",
       "\n",
       "    .dataframe tbody tr th {\n",
       "        vertical-align: top;\n",
       "    }\n",
       "\n",
       "    .dataframe thead th {\n",
       "        text-align: right;\n",
       "    }\n",
       "</style>\n",
       "<table border=\"1\" class=\"dataframe\">\n",
       "  <thead>\n",
       "    <tr style=\"text-align: right;\">\n",
       "      <th></th>\n",
       "      <th>type</th>\n",
       "      <th>date</th>\n",
       "      <th>duration</th>\n",
       "      <th>durationUnit</th>\n",
       "      <th>workout_pk</th>\n",
       "    </tr>\n",
       "  </thead>\n",
       "  <tbody>\n",
       "    <tr>\n",
       "      <th>0</th>\n",
       "      <td>HKWorkoutEventTypeSegment</td>\n",
       "      <td>2022-03-29 16:56:57 +0200</td>\n",
       "      <td>13.28115280667941</td>\n",
       "      <td>min</td>\n",
       "      <td>72</td>\n",
       "    </tr>\n",
       "    <tr>\n",
       "      <th>1</th>\n",
       "      <td>HKWorkoutEventTypeSegment</td>\n",
       "      <td>2022-03-29 16:56:57 +0200</td>\n",
       "      <td>25.37857104341189</td>\n",
       "      <td>min</td>\n",
       "      <td>72</td>\n",
       "    </tr>\n",
       "  </tbody>\n",
       "</table>\n",
       "</div>"
      ],
      "text/plain": [
       "                        type                       date           duration  \\\n",
       "0  HKWorkoutEventTypeSegment  2022-03-29 16:56:57 +0200  13.28115280667941   \n",
       "1  HKWorkoutEventTypeSegment  2022-03-29 16:56:57 +0200  25.37857104341189   \n",
       "\n",
       "  durationUnit workout_pk  \n",
       "0          min         72  \n",
       "1          min         72  "
      ]
     },
     "metadata": {},
     "output_type": "display_data"
    },
    {
     "name": "stdout",
     "output_type": "stream",
     "text": [
      "df_MetadataEntry_list:\n"
     ]
    },
    {
     "data": {
      "text/html": [
       "<div>\n",
       "<style scoped>\n",
       "    .dataframe tbody tr th:only-of-type {\n",
       "        vertical-align: middle;\n",
       "    }\n",
       "\n",
       "    .dataframe tbody tr th {\n",
       "        vertical-align: top;\n",
       "    }\n",
       "\n",
       "    .dataframe thead th {\n",
       "        text-align: right;\n",
       "    }\n",
       "</style>\n",
       "<table border=\"1\" class=\"dataframe\">\n",
       "  <thead>\n",
       "    <tr style=\"text-align: right;\">\n",
       "      <th></th>\n",
       "      <th>key</th>\n",
       "      <th>value</th>\n",
       "      <th>workout_pk</th>\n",
       "    </tr>\n",
       "  </thead>\n",
       "  <tbody>\n",
       "    <tr>\n",
       "      <th>0</th>\n",
       "      <td>HKWasUserEntered</td>\n",
       "      <td>1</td>\n",
       "      <td>NaN</td>\n",
       "    </tr>\n",
       "    <tr>\n",
       "      <th>1</th>\n",
       "      <td>HKMetadataKeyHeartRateMotionContext</td>\n",
       "      <td>0</td>\n",
       "      <td>NaN</td>\n",
       "    </tr>\n",
       "  </tbody>\n",
       "</table>\n",
       "</div>"
      ],
      "text/plain": [
       "                                   key value workout_pk\n",
       "0                     HKWasUserEntered     1        NaN\n",
       "1  HKMetadataKeyHeartRateMotionContext     0        NaN"
      ]
     },
     "metadata": {},
     "output_type": "display_data"
    },
    {
     "name": "stdout",
     "output_type": "stream",
     "text": [
      "df_FileReference_list:\n"
     ]
    },
    {
     "data": {
      "text/html": [
       "<div>\n",
       "<style scoped>\n",
       "    .dataframe tbody tr th:only-of-type {\n",
       "        vertical-align: middle;\n",
       "    }\n",
       "\n",
       "    .dataframe tbody tr th {\n",
       "        vertical-align: top;\n",
       "    }\n",
       "\n",
       "    .dataframe thead th {\n",
       "        text-align: right;\n",
       "    }\n",
       "</style>\n",
       "<table border=\"1\" class=\"dataframe\">\n",
       "  <thead>\n",
       "    <tr style=\"text-align: right;\">\n",
       "      <th></th>\n",
       "      <th>path</th>\n",
       "      <th>workout_pk</th>\n",
       "    </tr>\n",
       "  </thead>\n",
       "  <tbody>\n",
       "    <tr>\n",
       "      <th>0</th>\n",
       "      <td>/workout-routes/route_2022-03-29_5.39pm.gpx</td>\n",
       "      <td>72</td>\n",
       "    </tr>\n",
       "    <tr>\n",
       "      <th>1</th>\n",
       "      <td>/workout-routes/route_2022-04-03_11.15am.gpx</td>\n",
       "      <td>81</td>\n",
       "    </tr>\n",
       "  </tbody>\n",
       "</table>\n",
       "</div>"
      ],
      "text/plain": [
       "                                           path workout_pk\n",
       "0   /workout-routes/route_2022-03-29_5.39pm.gpx         72\n",
       "1  /workout-routes/route_2022-04-03_11.15am.gpx         81"
      ]
     },
     "metadata": {},
     "output_type": "display_data"
    },
    {
     "name": "stdout",
     "output_type": "stream",
     "text": [
      "df_WorkoutStatistics_list:\n"
     ]
    },
    {
     "data": {
      "text/html": [
       "<div>\n",
       "<style scoped>\n",
       "    .dataframe tbody tr th:only-of-type {\n",
       "        vertical-align: middle;\n",
       "    }\n",
       "\n",
       "    .dataframe tbody tr th {\n",
       "        vertical-align: top;\n",
       "    }\n",
       "\n",
       "    .dataframe thead th {\n",
       "        text-align: right;\n",
       "    }\n",
       "</style>\n",
       "<table border=\"1\" class=\"dataframe\">\n",
       "  <thead>\n",
       "    <tr style=\"text-align: right;\">\n",
       "      <th></th>\n",
       "      <th>type</th>\n",
       "      <th>startDate</th>\n",
       "      <th>endDate</th>\n",
       "      <th>sum</th>\n",
       "      <th>unit</th>\n",
       "      <th>workout_pk</th>\n",
       "      <th>average</th>\n",
       "      <th>minimum</th>\n",
       "      <th>maximum</th>\n",
       "    </tr>\n",
       "  </thead>\n",
       "  <tbody>\n",
       "    <tr>\n",
       "      <th>0</th>\n",
       "      <td>HKQuantityTypeIdentifierActiveEnergyBurned</td>\n",
       "      <td>2021-12-02 19:38:33 +0200</td>\n",
       "      <td>2021-12-02 19:58:33 +0200</td>\n",
       "      <td>254</td>\n",
       "      <td>kcal</td>\n",
       "      <td>1</td>\n",
       "      <td>NaN</td>\n",
       "      <td>NaN</td>\n",
       "      <td>NaN</td>\n",
       "    </tr>\n",
       "    <tr>\n",
       "      <th>1</th>\n",
       "      <td>HKQuantityTypeIdentifierDistanceCycling</td>\n",
       "      <td>2021-12-02 19:38:33 +0200</td>\n",
       "      <td>2021-12-02 19:58:33 +0200</td>\n",
       "      <td>8.09</td>\n",
       "      <td>km</td>\n",
       "      <td>1</td>\n",
       "      <td>NaN</td>\n",
       "      <td>NaN</td>\n",
       "      <td>NaN</td>\n",
       "    </tr>\n",
       "  </tbody>\n",
       "</table>\n",
       "</div>"
      ],
      "text/plain": [
       "                                         type                  startDate  \\\n",
       "0  HKQuantityTypeIdentifierActiveEnergyBurned  2021-12-02 19:38:33 +0200   \n",
       "1     HKQuantityTypeIdentifierDistanceCycling  2021-12-02 19:38:33 +0200   \n",
       "\n",
       "                     endDate   sum  unit workout_pk average minimum maximum  \n",
       "0  2021-12-02 19:58:33 +0200   254  kcal          1     NaN     NaN     NaN  \n",
       "1  2021-12-02 19:58:33 +0200  8.09    km          1     NaN     NaN     NaN  "
      ]
     },
     "metadata": {},
     "output_type": "display_data"
    },
    {
     "name": "stdout",
     "output_type": "stream",
     "text": [
      "df_WorkoutRoute_list:\n"
     ]
    },
    {
     "data": {
      "text/html": [
       "<div>\n",
       "<style scoped>\n",
       "    .dataframe tbody tr th:only-of-type {\n",
       "        vertical-align: middle;\n",
       "    }\n",
       "\n",
       "    .dataframe tbody tr th {\n",
       "        vertical-align: top;\n",
       "    }\n",
       "\n",
       "    .dataframe thead th {\n",
       "        text-align: right;\n",
       "    }\n",
       "</style>\n",
       "<table border=\"1\" class=\"dataframe\">\n",
       "  <thead>\n",
       "    <tr style=\"text-align: right;\">\n",
       "      <th></th>\n",
       "      <th>sourceName</th>\n",
       "      <th>sourceVersion</th>\n",
       "      <th>creationDate</th>\n",
       "      <th>startDate</th>\n",
       "      <th>endDate</th>\n",
       "      <th>workout_pk</th>\n",
       "    </tr>\n",
       "  </thead>\n",
       "  <tbody>\n",
       "    <tr>\n",
       "      <th>0</th>\n",
       "      <td>Apple Watch von Lucas</td>\n",
       "      <td>8.1</td>\n",
       "      <td>2022-03-29 17:39:48 +0200</td>\n",
       "      <td>2022-03-29 16:57:11 +0200</td>\n",
       "      <td>2022-03-29 17:39:47 +0200</td>\n",
       "      <td>72</td>\n",
       "    </tr>\n",
       "    <tr>\n",
       "      <th>1</th>\n",
       "      <td>Apple Watch von Lucas</td>\n",
       "      <td>8.1</td>\n",
       "      <td>2022-04-03 11:15:12 +0200</td>\n",
       "      <td>2022-04-03 10:48:45 +0200</td>\n",
       "      <td>2022-04-03 11:15:10 +0200</td>\n",
       "      <td>81</td>\n",
       "    </tr>\n",
       "  </tbody>\n",
       "</table>\n",
       "</div>"
      ],
      "text/plain": [
       "              sourceName sourceVersion               creationDate  \\\n",
       "0  Apple Watch von Lucas           8.1  2022-03-29 17:39:48 +0200   \n",
       "1  Apple Watch von Lucas           8.1  2022-04-03 11:15:12 +0200   \n",
       "\n",
       "                   startDate                    endDate workout_pk  \n",
       "0  2022-03-29 16:57:11 +0200  2022-03-29 17:39:47 +0200         72  \n",
       "1  2022-04-03 10:48:45 +0200  2022-04-03 11:15:10 +0200         81  "
      ]
     },
     "metadata": {},
     "output_type": "display_data"
    }
   ],
   "source": [
    "for elem in df_list:\n",
    "    object = globals()[elem]\n",
    "    df_name = f\"df_{elem}\"\n",
    "    print(f\"{df_name}:\")\n",
    "    globals()[df_name] = pd.DataFrame(object)\n",
    "    display(pd.DataFrame(object).head(2))"
   ]
  },
  {
   "cell_type": "markdown",
   "metadata": {},
   "source": [
    "#### Transform dfs"
   ]
  },
  {
   "cell_type": "markdown",
   "metadata": {},
   "source": [
    "##### WorkoutStatistics"
   ]
  },
  {
   "cell_type": "code",
   "execution_count": 24,
   "metadata": {},
   "outputs": [],
   "source": [
    "df_workoutstatistics_melt = pd.melt(df_WorkoutStatistics_list, \n",
    "                                    id_vars=['workout_pk', 'type','startDate', 'endDate', 'unit'], \n",
    "                                    value_vars=['sum', 'average', 'minimum', 'maximum'], \n",
    "                                    var_name='metric',\n",
    "                                    value_name='value').dropna()\n",
    "\n",
    "# shorter observation names\n",
    "df_workoutstatistics_melt['type'] = df_workoutstatistics_melt['type'].str.replace('HKQuantityTypeIdentifier', '')\n",
    "df_workoutstatistics_melt['type'] = df_workoutstatistics_melt['type'].str.replace('HKCategoryTypeIdentifier', '')"
   ]
  },
  {
   "cell_type": "code",
   "execution_count": 25,
   "metadata": {},
   "outputs": [
    {
     "data": {
      "text/html": [
       "<div>\n",
       "<style scoped>\n",
       "    .dataframe tbody tr th:only-of-type {\n",
       "        vertical-align: middle;\n",
       "    }\n",
       "\n",
       "    .dataframe tbody tr th {\n",
       "        vertical-align: top;\n",
       "    }\n",
       "\n",
       "    .dataframe thead th {\n",
       "        text-align: right;\n",
       "    }\n",
       "</style>\n",
       "<table border=\"1\" class=\"dataframe\">\n",
       "  <thead>\n",
       "    <tr style=\"text-align: right;\">\n",
       "      <th></th>\n",
       "      <th>workout_pk</th>\n",
       "      <th>type</th>\n",
       "      <th>startDate</th>\n",
       "      <th>endDate</th>\n",
       "      <th>unit</th>\n",
       "      <th>metric</th>\n",
       "      <th>value</th>\n",
       "    </tr>\n",
       "  </thead>\n",
       "  <tbody>\n",
       "    <tr>\n",
       "      <th>1453</th>\n",
       "      <td>450</td>\n",
       "      <td>DistanceWalkingRunning</td>\n",
       "      <td>2023-06-08 18:34:09 +0200</td>\n",
       "      <td>2023-06-08 18:50:47 +0200</td>\n",
       "      <td>km</td>\n",
       "      <td>sum</td>\n",
       "      <td>1.56752</td>\n",
       "    </tr>\n",
       "    <tr>\n",
       "      <th>1454</th>\n",
       "      <td>450</td>\n",
       "      <td>BasalEnergyBurned</td>\n",
       "      <td>2023-06-08 18:34:09 +0200</td>\n",
       "      <td>2023-06-08 18:50:47 +0200</td>\n",
       "      <td>kcal</td>\n",
       "      <td>sum</td>\n",
       "      <td>29.2329</td>\n",
       "    </tr>\n",
       "    <tr>\n",
       "      <th>1456</th>\n",
       "      <td>450</td>\n",
       "      <td>ActiveEnergyBurned</td>\n",
       "      <td>2023-06-08 18:34:09 +0200</td>\n",
       "      <td>2023-06-08 18:50:47 +0200</td>\n",
       "      <td>kcal</td>\n",
       "      <td>sum</td>\n",
       "      <td>99.4092</td>\n",
       "    </tr>\n",
       "    <tr>\n",
       "      <th>3280</th>\n",
       "      <td>450</td>\n",
       "      <td>HeartRate</td>\n",
       "      <td>2023-06-08 18:34:09 +0200</td>\n",
       "      <td>2023-06-08 18:50:47 +0200</td>\n",
       "      <td>count/min</td>\n",
       "      <td>average</td>\n",
       "      <td>100.836</td>\n",
       "    </tr>\n",
       "    <tr>\n",
       "      <th>5105</th>\n",
       "      <td>450</td>\n",
       "      <td>HeartRate</td>\n",
       "      <td>2023-06-08 18:34:09 +0200</td>\n",
       "      <td>2023-06-08 18:50:47 +0200</td>\n",
       "      <td>count/min</td>\n",
       "      <td>minimum</td>\n",
       "      <td>86</td>\n",
       "    </tr>\n",
       "    <tr>\n",
       "      <th>6930</th>\n",
       "      <td>450</td>\n",
       "      <td>HeartRate</td>\n",
       "      <td>2023-06-08 18:34:09 +0200</td>\n",
       "      <td>2023-06-08 18:50:47 +0200</td>\n",
       "      <td>count/min</td>\n",
       "      <td>maximum</td>\n",
       "      <td>124</td>\n",
       "    </tr>\n",
       "  </tbody>\n",
       "</table>\n",
       "</div>"
      ],
      "text/plain": [
       "     workout_pk                    type                  startDate  \\\n",
       "1453        450  DistanceWalkingRunning  2023-06-08 18:34:09 +0200   \n",
       "1454        450       BasalEnergyBurned  2023-06-08 18:34:09 +0200   \n",
       "1456        450      ActiveEnergyBurned  2023-06-08 18:34:09 +0200   \n",
       "3280        450               HeartRate  2023-06-08 18:34:09 +0200   \n",
       "5105        450               HeartRate  2023-06-08 18:34:09 +0200   \n",
       "6930        450               HeartRate  2023-06-08 18:34:09 +0200   \n",
       "\n",
       "                        endDate       unit   metric    value  \n",
       "1453  2023-06-08 18:50:47 +0200         km      sum  1.56752  \n",
       "1454  2023-06-08 18:50:47 +0200       kcal      sum  29.2329  \n",
       "1456  2023-06-08 18:50:47 +0200       kcal      sum  99.4092  \n",
       "3280  2023-06-08 18:50:47 +0200  count/min  average  100.836  \n",
       "5105  2023-06-08 18:50:47 +0200  count/min  minimum       86  \n",
       "6930  2023-06-08 18:50:47 +0200  count/min  maximum      124  "
      ]
     },
     "execution_count": 25,
     "metadata": {},
     "output_type": "execute_result"
    }
   ],
   "source": [
    "df_workoutstatistics_melt[df_workoutstatistics_melt['workout_pk'] == '450']"
   ]
  },
  {
   "cell_type": "markdown",
   "metadata": {},
   "source": [
    "##### HeartRate"
   ]
  },
  {
   "cell_type": "code",
   "execution_count": 26,
   "metadata": {},
   "outputs": [],
   "source": [
    "wo_start_end = df_workoutstatistics_melt[['workout_pk', 'startDate', 'endDate']].drop_duplicates()\n",
    "wo_start_end['Date'] = pd.to_datetime(wo_start_end['startDate']).dt.strftime('%Y-%m-%d')\n",
    "wo_start_end['startDate'] = pd.to_datetime(wo_start_end['startDate'])\n",
    "wo_start_end['endDate'] = pd.to_datetime(wo_start_end['endDate'])\n",
    "\n",
    "df_hr = record_dict['HeartRate']\n",
    "df_hr['Date'] = pd.to_datetime(df_hr['startDate']).dt.strftime('%Y-%m-%d')"
   ]
  },
  {
   "cell_type": "code",
   "execution_count": 27,
   "metadata": {},
   "outputs": [],
   "source": [
    "merged = pd.merge(df_hr, wo_start_end, on = 'Date', how='left', suffixes=('_hr', '_wo'))\n",
    "merged['isWO'] = np.where((merged['startDate_hr'] >= merged['startDate_wo']) & (merged['startDate_hr'] <= merged['endDate_wo']), 1, 0)"
   ]
  },
  {
   "cell_type": "code",
   "execution_count": 28,
   "metadata": {},
   "outputs": [],
   "source": [
    "wo_heartrates = merged[merged['isWO']==1]"
   ]
  },
  {
   "cell_type": "markdown",
   "metadata": {},
   "source": [
    "##### Investigate Workout Metrics"
   ]
  },
  {
   "cell_type": "code",
   "execution_count": 29,
   "metadata": {},
   "outputs": [],
   "source": [
    "record_df = pd.DataFrame()\n",
    "\n",
    "for type in record_types:\n",
    "    frames = [record_df, record_dict[type]]\n",
    "    record_df = pd.concat(frames)"
   ]
  },
  {
   "cell_type": "code",
   "execution_count": 30,
   "metadata": {},
   "outputs": [],
   "source": [
    "record_df['Date'] = pd.to_datetime(record_df['startDate']).dt.strftime('%Y-%m-%d')\n",
    "record_df['startDate'] = pd.to_datetime(record_df['startDate'])"
   ]
  },
  {
   "cell_type": "code",
   "execution_count": 31,
   "metadata": {},
   "outputs": [],
   "source": [
    "merged = pd.merge(record_df, wo_start_end, on = 'Date', how='left', suffixes=('_records', '_wo'))\n",
    "merged['isWO'] = np.where((merged['startDate_records'] >= merged['startDate_wo']) & (merged['startDate_records'] <= merged['endDate_wo']), 1, 0)"
   ]
  },
  {
   "cell_type": "code",
   "execution_count": 32,
   "metadata": {},
   "outputs": [],
   "source": [
    "wo_records = merged[merged['isWO']==1]"
   ]
  },
  {
   "cell_type": "code",
   "execution_count": 67,
   "metadata": {},
   "outputs": [],
   "source": [
    "wo_records_types = list(wo_records['type'].unique())\n",
    "wo_records_types.remove('AppleStandTime')\n",
    "wo_records_types.remove('AppleExerciseTime')\n",
    "wo_records_types.remove('AppleStandHour')\n"
   ]
  },
  {
   "cell_type": "code",
   "execution_count": 69,
   "metadata": {},
   "outputs": [],
   "source": [
    "wo_records_melt = pd.melt(wo_records,\n",
    "                     id_vars=[\n",
    "                         'unit', 'creationDate', \n",
    "                         'startDate_records', 'endDate_records', \n",
    "                         'Date', 'Time', 'Day', 'Month', \n",
    "                         'workout_pk', 'startDate_wo', 'endDate_wo', \n",
    "                         'isWO'], \n",
    "                     value_vars=wo_records_types, \n",
    "                     var_name='type',\n",
    "                     value_name='value').dropna()"
   ]
  },
  {
   "cell_type": "code",
   "execution_count": 73,
   "metadata": {},
   "outputs": [],
   "source": [
    "wo_records_melt.to_parquet('./output_files/workout_records.parquet.gzip', compression='gzip') "
   ]
  }
 ],
 "metadata": {
  "kernelspec": {
   "display_name": "Python 3",
   "language": "python",
   "name": "python3"
  },
  "language_info": {
   "codemirror_mode": {
    "name": "ipython",
    "version": 3
   },
   "file_extension": ".py",
   "mimetype": "text/x-python",
   "name": "python",
   "nbconvert_exporter": "python",
   "pygments_lexer": "ipython3",
   "version": "3.10.9"
  },
  "orig_nbformat": 4
 },
 "nbformat": 4,
 "nbformat_minor": 2
}
