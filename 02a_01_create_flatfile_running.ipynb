{
 "cells": [
  {
   "cell_type": "markdown",
   "metadata": {},
   "source": [
    "### Create Flatfile for Running workouts"
   ]
  },
  {
   "cell_type": "code",
   "execution_count": 4,
   "metadata": {},
   "outputs": [],
   "source": [
    "import pandas as pd\n",
    "import numpy as np"
   ]
  },
  {
   "cell_type": "code",
   "execution_count": 5,
   "metadata": {},
   "outputs": [],
   "source": [
    "### Load Files\n",
    "# DimWorkouts\n",
    "# FactWorkoutRecords --> Aggregate\n",
    "# DimRoutes --> Aggregate\n",
    "# FactBasisRecords --> Aggregate"
   ]
  },
  {
   "cell_type": "code",
   "execution_count": 6,
   "metadata": {},
   "outputs": [],
   "source": [
    "DimWorkouts = pd.read_parquet('./output_files/frontend_files/DimWorkouts.parquet.gzip', engine='pyarrow')\n",
    "FactWorkoutRecords = pd.read_parquet('./output_files/frontend_files/FactWorkoutRecords.parquet.gzip', engine='pyarrow')\n",
    "FactRoutes = pd.read_parquet('./output_files/frontend_files/FactRoutes.parquet.gzip', engine='pyarrow')\n",
    "FactWorkoutBasisRecords = pd.read_parquet('./output_files/frontend_files/FactWorkoutBasisRecords.parquet.gzip', engine='pyarrow')"
   ]
  },
  {
   "cell_type": "markdown",
   "metadata": {},
   "source": [
    "### Filter for Running Workouts"
   ]
  },
  {
   "cell_type": "code",
   "execution_count": 7,
   "metadata": {},
   "outputs": [],
   "source": [
    "runningWorkouts = DimWorkouts[DimWorkouts['workoutActivityType'] == 'Running']\n",
    "runningFacts = FactWorkoutRecords.merge(runningWorkouts['workout_pk'], how = 'inner', on = 'workout_pk')"
   ]
  },
  {
   "cell_type": "markdown",
   "metadata": {},
   "source": [
    "### Create Flatfile"
   ]
  },
  {
   "cell_type": "markdown",
   "metadata": {},
   "source": [
    "#### Aggregate Values for runningFacts"
   ]
  },
  {
   "cell_type": "code",
   "execution_count": 8,
   "metadata": {},
   "outputs": [
    {
     "data": {
      "text/plain": [
       "['DistanceWalkingRunning',\n",
       " 'BasalEnergyBurned',\n",
       " 'ActiveEnergyBurned',\n",
       " 'RunningStrideLength',\n",
       " 'RunningVerticalOscillation',\n",
       " 'RunningGroundContactTime',\n",
       " 'RunningPower',\n",
       " 'RunningSpeed']"
      ]
     },
     "execution_count": 8,
     "metadata": {},
     "output_type": "execute_result"
    }
   ],
   "source": [
    "type_list = list(runningFacts[runningFacts['workout_pk'].isna() == False]['type'].unique())\n",
    "type_list"
   ]
  },
  {
   "cell_type": "code",
   "execution_count": 9,
   "metadata": {},
   "outputs": [],
   "source": [
    "type_list_sum = ['DistanceWalkingRunning',\n",
    "                 'BasalEnergyBurned',\n",
    "                 'ActiveEnergyBurned']\n",
    "type_list_avg = ['RunningStrideLength',\n",
    "                 'RunningVerticalOscillation',\n",
    "                 'RunningGroundContactTime',\n",
    "                 'RunningPower',\n",
    "                 'RunningSpeed']\n",
    "type_list_sd = ['RunningStrideLength',\n",
    "                'RunningVerticalOscillation',\n",
    "                'RunningGroundContactTime',\n",
    "                'RunningPower',\n",
    "                'RunningSpeed']"
   ]
  },
  {
   "cell_type": "code",
   "execution_count": 10,
   "metadata": {},
   "outputs": [],
   "source": [
    "runningFacts = runningFacts.drop(['startDate_records', 'endDate_records', 'startDate_wo', 'endDate_wo', 'unit'], axis=1)"
   ]
  },
  {
   "cell_type": "code",
   "execution_count": 11,
   "metadata": {},
   "outputs": [],
   "source": [
    "columns = ['workout_pk', 'Date', 'type']"
   ]
  },
  {
   "cell_type": "code",
   "execution_count": 12,
   "metadata": {},
   "outputs": [],
   "source": [
    "# Group and sum\n",
    "runningFacts_sum = runningFacts[runningFacts['type'].isin(type_list_sum)].groupby(columns).sum().reset_index()\n",
    "runningFacts_sum['type'] = 'SUM_' + runningFacts_sum['type']\n",
    "# Pivot\n",
    "runningFacts_sum = runningFacts_sum.pivot(index=['workout_pk', 'Date'], columns='type', values='value').reset_index()\n",
    "\n",
    "# Group and avg\n",
    "runningFacts_avg = runningFacts[runningFacts['type'].isin(type_list_avg)].groupby(columns).mean().reset_index()\n",
    "runningFacts_avg['type'] = 'AVG_' + runningFacts_avg['type']\n",
    "# Pivot\n",
    "runningFacts_avg = runningFacts_avg.pivot(index=['workout_pk', 'Date'], columns='type', values='value').reset_index()\n",
    "\n",
    "# Group and sd\n",
    "runningFacts_sd = runningFacts[runningFacts['type'].isin(type_list_sd)].groupby(columns).std().reset_index()\n",
    "runningFacts_sd['type'] = 'SD_' + runningFacts_sd['type']\n",
    "# Pivot\n",
    "runningFacts_sd = runningFacts_sd.pivot(index=['workout_pk', 'Date'], columns='type', values='value').reset_index()\n",
    "\n",
    "merge_columns = columns\n",
    "merge_columns.remove('type')\n",
    "\n",
    "runningFactsFlat = runningFacts_sum.merge(runningFacts_avg, on = merge_columns, how = 'outer').merge(runningFacts_sd, on = merge_columns, how = 'outer')"
   ]
  },
  {
   "cell_type": "markdown",
   "metadata": {},
   "source": [
    "#### Aggregate Values for DimRoutes"
   ]
  },
  {
   "cell_type": "code",
   "execution_count": 13,
   "metadata": {},
   "outputs": [],
   "source": [
    "FactRoutes = FactRoutes.drop(['trkpt', 'time'], axis=1)    "
   ]
  },
  {
   "cell_type": "code",
   "execution_count": 14,
   "metadata": {},
   "outputs": [],
   "source": [
    "agg_columns = ['ele', 'course', 'speed', 'hAcc', 'vAcc']"
   ]
  },
  {
   "cell_type": "code",
   "execution_count": 15,
   "metadata": {},
   "outputs": [
    {
     "data": {
      "text/plain": [
       "ele           float64\n",
       "course        float64\n",
       "speed         float64\n",
       "hAcc          float64\n",
       "vAcc          float64\n",
       "route_name     object\n",
       "workout_pk      int64\n",
       "dtype: object"
      ]
     },
     "execution_count": 15,
     "metadata": {},
     "output_type": "execute_result"
    }
   ],
   "source": [
    "FactRoutes['ele'] = FactRoutes['ele'].astype(str).astype(float)\n",
    "FactRoutes['course'] = FactRoutes['course'].astype(str).astype(float)\n",
    "FactRoutes['speed'] = FactRoutes['speed'].astype(str).astype(float)\n",
    "FactRoutes['hAcc'] = FactRoutes['hAcc'].astype(str).astype(float)\n",
    "FactRoutes['vAcc'] = FactRoutes['vAcc'].astype(str).astype(float)\n",
    "FactRoutes.dtypes"
   ]
  },
  {
   "cell_type": "code",
   "execution_count": 16,
   "metadata": {},
   "outputs": [],
   "source": [
    "# Defining functions for xth percentile\n",
    "def p10(x):\n",
    "    return x.quantile(0.1)\n",
    "def p20(x):\n",
    "    return x.quantile(0.2)\n",
    "def p30(x):\n",
    "    return x.quantile(0.3)\n",
    "def p40(x):\n",
    "    return x.quantile(0.4)\n",
    "def p50(x):\n",
    "    return x.quantile(0.5)\n",
    "def p60(x):\n",
    "    return x.quantile(0.6)\n",
    "def p70(x):\n",
    "    return x.quantile(0.7)\n",
    "def p80(x):\n",
    "    return x.quantile(0.8)\n",
    "def p90(x):\n",
    "    return x.quantile(0.9)\n",
    "\n",
    "aggfuncs = ['mean', 'std', p10, p20, p30, p40, p50, p60, p70, p80, p90]\n",
    "runningRoutesFacts = FactRoutes.groupby(['workout_pk']).agg({'ele': aggfuncs,\n",
    "                                                            'course': aggfuncs,\n",
    "                                                            'speed': aggfuncs,\n",
    "                                                            'hAcc': aggfuncs,\n",
    "                                                            'vAcc': aggfuncs}).reset_index()\n",
    "\n",
    "runningRoutesFacts.columns = runningRoutesFacts.columns.map('_'.join).str.strip('_')"
   ]
  },
  {
   "cell_type": "markdown",
   "metadata": {},
   "source": [
    "### Aggregate Basis Records"
   ]
  },
  {
   "cell_type": "code",
   "execution_count": 17,
   "metadata": {},
   "outputs": [
    {
     "data": {
      "text/plain": [
       "['HeartRate',\n",
       " 'StepCount',\n",
       " 'FlightsClimbed',\n",
       " 'AppleExerciseTime',\n",
       " 'VO2Max',\n",
       " 'HeadphoneAudioExposure',\n",
       " 'AppleStandTime',\n",
       " 'StairAscentSpeed',\n",
       " 'StairDescentSpeed',\n",
       " 'WalkingDoubleSupportPercentage',\n",
       " 'WalkingSpeed',\n",
       " 'WalkingStepLength',\n",
       " 'WalkingAsymmetryPercentage',\n",
       " 'EnvironmentalAudioExposure']"
      ]
     },
     "execution_count": 17,
     "metadata": {},
     "output_type": "execute_result"
    }
   ],
   "source": [
    "runningHealthFacts = FactWorkoutBasisRecords.merge(runningWorkouts['workout_pk'], on = 'workout_pk', how = 'inner')\n",
    "\n",
    "type_list = list(runningHealthFacts[runningHealthFacts['workout_pk'].isna() == False]['type'].unique())\n",
    "type_list"
   ]
  },
  {
   "cell_type": "code",
   "execution_count": 18,
   "metadata": {},
   "outputs": [],
   "source": [
    "runningHealthFacts = runningHealthFacts[runningHealthFacts['type'] == 'HeartRate']\n",
    "runningHealthFacts = runningHealthFacts.rename(columns={\"value\": \"HeartRate\"}, errors=\"raise\")\n",
    "runningHealthFactsHeartrate = runningHealthFacts.drop(['startDate_records', 'endDate_records', 'unit', 'type'], axis=1)\n",
    "columns = ['workout_pk', 'Date', 'type']"
   ]
  },
  {
   "cell_type": "code",
   "execution_count": 19,
   "metadata": {},
   "outputs": [],
   "source": [
    "aggfuncs = ['mean', 'std', 'min', p10, p20, p30, p40, p50, p60, p70, p80, p90, 'max']\n",
    "runningHealthFactsHeartrate = runningHealthFactsHeartrate.groupby(['workout_pk']).agg({'HeartRate': aggfuncs}).reset_index()\n",
    "\n",
    "runningHealthFactsHeartrate.columns = runningHealthFactsHeartrate.columns.map('_'.join).str.strip('_')"
   ]
  },
  {
   "cell_type": "markdown",
   "metadata": {},
   "source": [
    "### Investigate Zones"
   ]
  },
  {
   "cell_type": "code",
   "execution_count": 20,
   "metadata": {},
   "outputs": [],
   "source": [
    "runningHealthFacts = runningHealthFacts.sort_values(['workout_pk', 'startDate_records'])\n",
    "runningHealthFacts['endDate_records_shift'] = runningHealthFacts.groupby(['workout_pk'])['endDate_records'].shift(-1)\n",
    "\n",
    "runningHealthFacts['endDate_records_shift'] = np.where(pd.isnull(runningHealthFacts['endDate_records_shift']), runningHealthFacts['endDate_records'], runningHealthFacts['endDate_records_shift']) "
   ]
  },
  {
   "cell_type": "code",
   "execution_count": 21,
   "metadata": {},
   "outputs": [],
   "source": [
    "runningHealthFacts = runningHealthFacts.drop('endDate_records', axis = 1)"
   ]
  },
  {
   "cell_type": "code",
   "execution_count": 22,
   "metadata": {},
   "outputs": [],
   "source": [
    "runningHealthFacts['duration_sec'] = (runningHealthFacts['endDate_records_shift'] - runningHealthFacts['startDate_records']).dt.total_seconds()"
   ]
  },
  {
   "cell_type": "code",
   "execution_count": 23,
   "metadata": {},
   "outputs": [],
   "source": [
    "heart_ranges = [[90, 100],\n",
    "                [100, 110],\n",
    "                [110, 120],\n",
    "                [120, 125],\n",
    "                [125, 130],\n",
    "                [130, 135],\n",
    "                [135, 140],\n",
    "                [140, 145],\n",
    "                [145, 150],\n",
    "                [150, 155],\n",
    "                [155, 160],\n",
    "                [160, 165],\n",
    "                [165, 170],\n",
    "                [170, 175],\n",
    "                [175, 180],\n",
    "                [180, 185],\n",
    "                [185, 190],\n",
    "                [190, 195],\n",
    "                [195, 200],\n",
    "                [200, 250]]\n",
    "\n",
    "list_hr_columns = [] \n",
    "\n",
    "for range in heart_ranges:\n",
    "    runningHealthFacts[f'HR_{range[0]}-{range[1]}'] = np.where((runningHealthFacts['HeartRate'] > range[0]) & (runningHealthFacts['HeartRate'] <= range[1]), runningHealthFacts['duration_sec'], 0)\n",
    "    list_hr_columns.append(f\"HR_{range[0]}-{range[1]}\")"
   ]
  },
  {
   "cell_type": "code",
   "execution_count": 24,
   "metadata": {},
   "outputs": [],
   "source": [
    "list_hr_columns.append('workout_pk')\n",
    "list_hr_columns.append('duration_sec')"
   ]
  },
  {
   "cell_type": "code",
   "execution_count": 25,
   "metadata": {},
   "outputs": [],
   "source": [
    "runningHealthFactsHeartrateZones = runningHealthFacts[list_hr_columns].groupby('workout_pk').sum()"
   ]
  },
  {
   "cell_type": "code",
   "execution_count": 26,
   "metadata": {},
   "outputs": [
    {
     "data": {
      "text/html": [
       "<div>\n",
       "<style scoped>\n",
       "    .dataframe tbody tr th:only-of-type {\n",
       "        vertical-align: middle;\n",
       "    }\n",
       "\n",
       "    .dataframe tbody tr th {\n",
       "        vertical-align: top;\n",
       "    }\n",
       "\n",
       "    .dataframe thead th {\n",
       "        text-align: right;\n",
       "    }\n",
       "</style>\n",
       "<table border=\"1\" class=\"dataframe\">\n",
       "  <thead>\n",
       "    <tr style=\"text-align: right;\">\n",
       "      <th></th>\n",
       "      <th>HR_90-100</th>\n",
       "      <th>HR_100-110</th>\n",
       "      <th>HR_110-120</th>\n",
       "      <th>HR_120-125</th>\n",
       "      <th>HR_125-130</th>\n",
       "      <th>HR_130-135</th>\n",
       "      <th>HR_135-140</th>\n",
       "      <th>HR_140-145</th>\n",
       "      <th>HR_145-150</th>\n",
       "      <th>HR_150-155</th>\n",
       "      <th>...</th>\n",
       "      <th>HR_160-165</th>\n",
       "      <th>HR_165-170</th>\n",
       "      <th>HR_170-175</th>\n",
       "      <th>HR_175-180</th>\n",
       "      <th>HR_180-185</th>\n",
       "      <th>HR_185-190</th>\n",
       "      <th>HR_190-195</th>\n",
       "      <th>HR_195-200</th>\n",
       "      <th>HR_200-250</th>\n",
       "      <th>duration_sec</th>\n",
       "    </tr>\n",
       "    <tr>\n",
       "      <th>workout_pk</th>\n",
       "      <th></th>\n",
       "      <th></th>\n",
       "      <th></th>\n",
       "      <th></th>\n",
       "      <th></th>\n",
       "      <th></th>\n",
       "      <th></th>\n",
       "      <th></th>\n",
       "      <th></th>\n",
       "      <th></th>\n",
       "      <th></th>\n",
       "      <th></th>\n",
       "      <th></th>\n",
       "      <th></th>\n",
       "      <th></th>\n",
       "      <th></th>\n",
       "      <th></th>\n",
       "      <th></th>\n",
       "      <th></th>\n",
       "      <th></th>\n",
       "      <th></th>\n",
       "    </tr>\n",
       "  </thead>\n",
       "  <tbody>\n",
       "    <tr>\n",
       "      <th>101</th>\n",
       "      <td>0.0</td>\n",
       "      <td>0.0</td>\n",
       "      <td>0.0</td>\n",
       "      <td>0.0</td>\n",
       "      <td>0.0</td>\n",
       "      <td>0.0</td>\n",
       "      <td>0.0</td>\n",
       "      <td>0.0</td>\n",
       "      <td>1198.0</td>\n",
       "      <td>0.0</td>\n",
       "      <td>...</td>\n",
       "      <td>1262.0</td>\n",
       "      <td>0.0</td>\n",
       "      <td>676.0</td>\n",
       "      <td>0.0</td>\n",
       "      <td>0.0</td>\n",
       "      <td>0.0</td>\n",
       "      <td>0.0</td>\n",
       "      <td>0.0</td>\n",
       "      <td>0.0</td>\n",
       "      <td>3136.0</td>\n",
       "    </tr>\n",
       "    <tr>\n",
       "      <th>112</th>\n",
       "      <td>0.0</td>\n",
       "      <td>0.0</td>\n",
       "      <td>0.0</td>\n",
       "      <td>0.0</td>\n",
       "      <td>0.0</td>\n",
       "      <td>0.0</td>\n",
       "      <td>0.0</td>\n",
       "      <td>1184.0</td>\n",
       "      <td>0.0</td>\n",
       "      <td>1186.0</td>\n",
       "      <td>...</td>\n",
       "      <td>0.0</td>\n",
       "      <td>1345.0</td>\n",
       "      <td>0.0</td>\n",
       "      <td>0.0</td>\n",
       "      <td>0.0</td>\n",
       "      <td>0.0</td>\n",
       "      <td>0.0</td>\n",
       "      <td>0.0</td>\n",
       "      <td>0.0</td>\n",
       "      <td>3715.0</td>\n",
       "    </tr>\n",
       "    <tr>\n",
       "      <th>114</th>\n",
       "      <td>0.0</td>\n",
       "      <td>0.0</td>\n",
       "      <td>0.0</td>\n",
       "      <td>0.0</td>\n",
       "      <td>0.0</td>\n",
       "      <td>980.0</td>\n",
       "      <td>0.0</td>\n",
       "      <td>0.0</td>\n",
       "      <td>387.0</td>\n",
       "      <td>0.0</td>\n",
       "      <td>...</td>\n",
       "      <td>0.0</td>\n",
       "      <td>0.0</td>\n",
       "      <td>0.0</td>\n",
       "      <td>0.0</td>\n",
       "      <td>0.0</td>\n",
       "      <td>0.0</td>\n",
       "      <td>0.0</td>\n",
       "      <td>0.0</td>\n",
       "      <td>0.0</td>\n",
       "      <td>1367.0</td>\n",
       "    </tr>\n",
       "    <tr>\n",
       "      <th>115</th>\n",
       "      <td>0.0</td>\n",
       "      <td>0.0</td>\n",
       "      <td>0.0</td>\n",
       "      <td>0.0</td>\n",
       "      <td>0.0</td>\n",
       "      <td>0.0</td>\n",
       "      <td>1188.0</td>\n",
       "      <td>1187.0</td>\n",
       "      <td>1185.0</td>\n",
       "      <td>311.0</td>\n",
       "      <td>...</td>\n",
       "      <td>1182.0</td>\n",
       "      <td>0.0</td>\n",
       "      <td>0.0</td>\n",
       "      <td>0.0</td>\n",
       "      <td>0.0</td>\n",
       "      <td>0.0</td>\n",
       "      <td>0.0</td>\n",
       "      <td>0.0</td>\n",
       "      <td>0.0</td>\n",
       "      <td>7165.0</td>\n",
       "    </tr>\n",
       "    <tr>\n",
       "      <th>116</th>\n",
       "      <td>0.0</td>\n",
       "      <td>0.0</td>\n",
       "      <td>0.0</td>\n",
       "      <td>0.0</td>\n",
       "      <td>0.0</td>\n",
       "      <td>0.0</td>\n",
       "      <td>861.0</td>\n",
       "      <td>0.0</td>\n",
       "      <td>0.0</td>\n",
       "      <td>279.0</td>\n",
       "      <td>...</td>\n",
       "      <td>0.0</td>\n",
       "      <td>0.0</td>\n",
       "      <td>0.0</td>\n",
       "      <td>0.0</td>\n",
       "      <td>0.0</td>\n",
       "      <td>0.0</td>\n",
       "      <td>0.0</td>\n",
       "      <td>0.0</td>\n",
       "      <td>0.0</td>\n",
       "      <td>1732.0</td>\n",
       "    </tr>\n",
       "    <tr>\n",
       "      <th>...</th>\n",
       "      <td>...</td>\n",
       "      <td>...</td>\n",
       "      <td>...</td>\n",
       "      <td>...</td>\n",
       "      <td>...</td>\n",
       "      <td>...</td>\n",
       "      <td>...</td>\n",
       "      <td>...</td>\n",
       "      <td>...</td>\n",
       "      <td>...</td>\n",
       "      <td>...</td>\n",
       "      <td>...</td>\n",
       "      <td>...</td>\n",
       "      <td>...</td>\n",
       "      <td>...</td>\n",
       "      <td>...</td>\n",
       "      <td>...</td>\n",
       "      <td>...</td>\n",
       "      <td>...</td>\n",
       "      <td>...</td>\n",
       "      <td>...</td>\n",
       "    </tr>\n",
       "    <tr>\n",
       "      <th>588</th>\n",
       "      <td>0.0</td>\n",
       "      <td>0.0</td>\n",
       "      <td>0.0</td>\n",
       "      <td>0.0</td>\n",
       "      <td>14.0</td>\n",
       "      <td>4.0</td>\n",
       "      <td>8.0</td>\n",
       "      <td>14.0</td>\n",
       "      <td>10.0</td>\n",
       "      <td>34.0</td>\n",
       "      <td>...</td>\n",
       "      <td>52.0</td>\n",
       "      <td>14.0</td>\n",
       "      <td>0.0</td>\n",
       "      <td>0.0</td>\n",
       "      <td>0.0</td>\n",
       "      <td>0.0</td>\n",
       "      <td>0.0</td>\n",
       "      <td>0.0</td>\n",
       "      <td>0.0</td>\n",
       "      <td>191.0</td>\n",
       "    </tr>\n",
       "    <tr>\n",
       "      <th>591</th>\n",
       "      <td>0.0</td>\n",
       "      <td>59.0</td>\n",
       "      <td>23.0</td>\n",
       "      <td>577.0</td>\n",
       "      <td>1290.0</td>\n",
       "      <td>659.0</td>\n",
       "      <td>84.0</td>\n",
       "      <td>0.0</td>\n",
       "      <td>0.0</td>\n",
       "      <td>0.0</td>\n",
       "      <td>...</td>\n",
       "      <td>0.0</td>\n",
       "      <td>0.0</td>\n",
       "      <td>0.0</td>\n",
       "      <td>0.0</td>\n",
       "      <td>0.0</td>\n",
       "      <td>0.0</td>\n",
       "      <td>0.0</td>\n",
       "      <td>0.0</td>\n",
       "      <td>0.0</td>\n",
       "      <td>2692.0</td>\n",
       "    </tr>\n",
       "    <tr>\n",
       "      <th>592</th>\n",
       "      <td>0.0</td>\n",
       "      <td>9.0</td>\n",
       "      <td>54.0</td>\n",
       "      <td>75.0</td>\n",
       "      <td>60.0</td>\n",
       "      <td>178.0</td>\n",
       "      <td>307.0</td>\n",
       "      <td>167.0</td>\n",
       "      <td>137.0</td>\n",
       "      <td>117.0</td>\n",
       "      <td>...</td>\n",
       "      <td>131.0</td>\n",
       "      <td>142.0</td>\n",
       "      <td>119.0</td>\n",
       "      <td>44.0</td>\n",
       "      <td>0.0</td>\n",
       "      <td>0.0</td>\n",
       "      <td>0.0</td>\n",
       "      <td>0.0</td>\n",
       "      <td>0.0</td>\n",
       "      <td>1728.0</td>\n",
       "    </tr>\n",
       "    <tr>\n",
       "      <th>596</th>\n",
       "      <td>16.0</td>\n",
       "      <td>21.0</td>\n",
       "      <td>45.0</td>\n",
       "      <td>109.0</td>\n",
       "      <td>286.0</td>\n",
       "      <td>187.0</td>\n",
       "      <td>1060.0</td>\n",
       "      <td>2397.0</td>\n",
       "      <td>2210.0</td>\n",
       "      <td>430.0</td>\n",
       "      <td>...</td>\n",
       "      <td>59.0</td>\n",
       "      <td>45.0</td>\n",
       "      <td>72.0</td>\n",
       "      <td>96.0</td>\n",
       "      <td>0.0</td>\n",
       "      <td>0.0</td>\n",
       "      <td>0.0</td>\n",
       "      <td>0.0</td>\n",
       "      <td>0.0</td>\n",
       "      <td>7169.0</td>\n",
       "    </tr>\n",
       "    <tr>\n",
       "      <th>597</th>\n",
       "      <td>0.0</td>\n",
       "      <td>25.0</td>\n",
       "      <td>49.0</td>\n",
       "      <td>111.0</td>\n",
       "      <td>385.0</td>\n",
       "      <td>1013.0</td>\n",
       "      <td>162.0</td>\n",
       "      <td>53.0</td>\n",
       "      <td>0.0</td>\n",
       "      <td>0.0</td>\n",
       "      <td>...</td>\n",
       "      <td>0.0</td>\n",
       "      <td>0.0</td>\n",
       "      <td>0.0</td>\n",
       "      <td>0.0</td>\n",
       "      <td>0.0</td>\n",
       "      <td>0.0</td>\n",
       "      <td>0.0</td>\n",
       "      <td>0.0</td>\n",
       "      <td>0.0</td>\n",
       "      <td>1798.0</td>\n",
       "    </tr>\n",
       "  </tbody>\n",
       "</table>\n",
       "<p>102 rows × 21 columns</p>\n",
       "</div>"
      ],
      "text/plain": [
       "            HR_90-100  HR_100-110  HR_110-120  HR_120-125  HR_125-130  \\\n",
       "workout_pk                                                              \n",
       "101               0.0         0.0         0.0         0.0         0.0   \n",
       "112               0.0         0.0         0.0         0.0         0.0   \n",
       "114               0.0         0.0         0.0         0.0         0.0   \n",
       "115               0.0         0.0         0.0         0.0         0.0   \n",
       "116               0.0         0.0         0.0         0.0         0.0   \n",
       "...               ...         ...         ...         ...         ...   \n",
       "588               0.0         0.0         0.0         0.0        14.0   \n",
       "591               0.0        59.0        23.0       577.0      1290.0   \n",
       "592               0.0         9.0        54.0        75.0        60.0   \n",
       "596              16.0        21.0        45.0       109.0       286.0   \n",
       "597               0.0        25.0        49.0       111.0       385.0   \n",
       "\n",
       "            HR_130-135  HR_135-140  HR_140-145  HR_145-150  HR_150-155  ...  \\\n",
       "workout_pk                                                              ...   \n",
       "101                0.0         0.0         0.0      1198.0         0.0  ...   \n",
       "112                0.0         0.0      1184.0         0.0      1186.0  ...   \n",
       "114              980.0         0.0         0.0       387.0         0.0  ...   \n",
       "115                0.0      1188.0      1187.0      1185.0       311.0  ...   \n",
       "116                0.0       861.0         0.0         0.0       279.0  ...   \n",
       "...                ...         ...         ...         ...         ...  ...   \n",
       "588                4.0         8.0        14.0        10.0        34.0  ...   \n",
       "591              659.0        84.0         0.0         0.0         0.0  ...   \n",
       "592              178.0       307.0       167.0       137.0       117.0  ...   \n",
       "596              187.0      1060.0      2397.0      2210.0       430.0  ...   \n",
       "597             1013.0       162.0        53.0         0.0         0.0  ...   \n",
       "\n",
       "            HR_160-165  HR_165-170  HR_170-175  HR_175-180  HR_180-185  \\\n",
       "workout_pk                                                               \n",
       "101             1262.0         0.0       676.0         0.0         0.0   \n",
       "112                0.0      1345.0         0.0         0.0         0.0   \n",
       "114                0.0         0.0         0.0         0.0         0.0   \n",
       "115             1182.0         0.0         0.0         0.0         0.0   \n",
       "116                0.0         0.0         0.0         0.0         0.0   \n",
       "...                ...         ...         ...         ...         ...   \n",
       "588               52.0        14.0         0.0         0.0         0.0   \n",
       "591                0.0         0.0         0.0         0.0         0.0   \n",
       "592              131.0       142.0       119.0        44.0         0.0   \n",
       "596               59.0        45.0        72.0        96.0         0.0   \n",
       "597                0.0         0.0         0.0         0.0         0.0   \n",
       "\n",
       "            HR_185-190  HR_190-195  HR_195-200  HR_200-250  duration_sec  \n",
       "workout_pk                                                                \n",
       "101                0.0         0.0         0.0         0.0        3136.0  \n",
       "112                0.0         0.0         0.0         0.0        3715.0  \n",
       "114                0.0         0.0         0.0         0.0        1367.0  \n",
       "115                0.0         0.0         0.0         0.0        7165.0  \n",
       "116                0.0         0.0         0.0         0.0        1732.0  \n",
       "...                ...         ...         ...         ...           ...  \n",
       "588                0.0         0.0         0.0         0.0         191.0  \n",
       "591                0.0         0.0         0.0         0.0        2692.0  \n",
       "592                0.0         0.0         0.0         0.0        1728.0  \n",
       "596                0.0         0.0         0.0         0.0        7169.0  \n",
       "597                0.0         0.0         0.0         0.0        1798.0  \n",
       "\n",
       "[102 rows x 21 columns]"
      ]
     },
     "execution_count": 26,
     "metadata": {},
     "output_type": "execute_result"
    }
   ],
   "source": [
    "runningHealthFactsHeartrateZones"
   ]
  },
  {
   "cell_type": "code",
   "execution_count": 27,
   "metadata": {},
   "outputs": [],
   "source": [
    "for hr_range in list_hr_columns[0:(len(list_hr_columns)-2)]:\n",
    "    runningHealthFactsHeartrateZones[f'share{hr_range}'] = runningHealthFactsHeartrateZones[f'{hr_range}'] / runningHealthFactsHeartrateZones['duration_sec']"
   ]
  },
  {
   "cell_type": "markdown",
   "metadata": {},
   "source": [
    "#### Join to Flatfile"
   ]
  },
  {
   "cell_type": "code",
   "execution_count": 28,
   "metadata": {},
   "outputs": [],
   "source": [
    "runningFactsFlat = runningFactsFlat.merge(runningRoutesFacts, on = 'workout_pk', how = 'left')\n",
    "runningFactsFlat = runningWorkouts[['workout_pk', 'sourceName', 'workoutActivityType', 'duration']].merge(runningFactsFlat, on = 'workout_pk', how = 'right')\n",
    "runningFactsFlat = runningFactsFlat.merge(runningHealthFactsHeartrate, on = 'workout_pk', how = 'left')\n",
    "runningFactsFlat = runningFactsFlat.merge(runningHealthFactsHeartrateZones, on = 'workout_pk', how = 'left')"
   ]
  },
  {
   "cell_type": "markdown",
   "metadata": {},
   "source": [
    "### Save Flatfile"
   ]
  },
  {
   "cell_type": "code",
   "execution_count": 29,
   "metadata": {},
   "outputs": [],
   "source": [
    "runningFactsFlat.to_parquet('./output_files/flatfiles/runningFactsFlat.parquet.gzip', compression='gzip')"
   ]
  }
 ],
 "metadata": {
  "kernelspec": {
   "display_name": "venv",
   "language": "python",
   "name": "python3"
  },
  "language_info": {
   "codemirror_mode": {
    "name": "ipython",
    "version": 3
   },
   "file_extension": ".py",
   "mimetype": "text/x-python",
   "name": "python",
   "nbconvert_exporter": "python",
   "pygments_lexer": "ipython3",
   "version": "3.10.9"
  },
  "orig_nbformat": 4
 },
 "nbformat": 4,
 "nbformat_minor": 2
}
