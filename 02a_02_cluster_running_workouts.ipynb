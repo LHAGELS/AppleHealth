{
 "cells": [
  {
   "cell_type": "code",
   "execution_count": 1,
   "metadata": {},
   "outputs": [],
   "source": [
    "import pandas as pd\n",
    "import numpy as np\n",
    "from sklearn.cluster import KMeans\n",
    "from sklearn.preprocessing import StandardScaler\n",
    "import matplotlib.pyplot as plt"
   ]
  },
  {
   "cell_type": "markdown",
   "metadata": {},
   "source": [
    "### Cluster Running Workouts"
   ]
  },
  {
   "cell_type": "code",
   "execution_count": 2,
   "metadata": {},
   "outputs": [
    {
     "data": {
      "text/plain": [
       "(102, 127)"
      ]
     },
     "execution_count": 2,
     "metadata": {},
     "output_type": "execute_result"
    }
   ],
   "source": [
    "df = pd.read_parquet('./output_files/flatfiles/runningFactsFlat.parquet.gzip', engine='pyarrow')\n",
    "df.shape"
   ]
  },
  {
   "cell_type": "code",
   "execution_count": 3,
   "metadata": {},
   "outputs": [
    {
     "data": {
      "text/plain": [
       "(83, 127)"
      ]
     },
     "execution_count": 3,
     "metadata": {},
     "output_type": "execute_result"
    }
   ],
   "source": [
    "df = df.dropna()\n",
    "df.shape"
   ]
  },
  {
   "cell_type": "code",
   "execution_count": 4,
   "metadata": {},
   "outputs": [
    {
     "data": {
      "text/plain": [
       "(70, 127)"
      ]
     },
     "execution_count": 4,
     "metadata": {},
     "output_type": "execute_result"
    }
   ],
   "source": [
    "df = df[df['Date'] >= '2023-01-01']\n",
    "df.shape"
   ]
  },
  {
   "cell_type": "code",
   "execution_count": 5,
   "metadata": {},
   "outputs": [],
   "source": [
    "#pd.set_option('display.max_columns', None)\n",
    "# select Features\n",
    "features = ['duration',\n",
    "            # 'duration_sec',\n",
    "            'SUM_DistanceWalkingRunning',\n",
    "            'AVG_RunningSpeed',\n",
    "            'SD_RunningSpeed',\n",
    "            # 'ele_std',\n",
    "            'course_mean',\n",
    "            'course_std',\n",
    "            # 'speed_mean',\n",
    "            # 'speed_std',\n",
    "            # 'speed_p10',\n",
    "            # 'speed_p20',\n",
    "            # 'speed_p30',\n",
    "            # 'speed_p40',\n",
    "            # 'speed_p50',\n",
    "            # 'speed_p60',\n",
    "            # 'speed_p70',\n",
    "            # 'speed_p80',\n",
    "            # 'speed_p90',\n",
    "            # 'hAcc_mean',\n",
    "            # 'hAcc_std',\n",
    "            # 'vAcc_mean',\n",
    "            # 'vAcc_std',\n",
    "            'HeartRate_mean',\n",
    "            'HeartRate_std',\n",
    "            # 'HeartRate_min',\n",
    "            # 'HeartRate_p10',\n",
    "            # 'HeartRate_p20',\n",
    "            # 'HeartRate_p30',\n",
    "            # 'HeartRate_p40',\n",
    "            # 'HeartRate_p50',\n",
    "            # 'HeartRate_p60',\n",
    "            # 'HeartRate_p70',\n",
    "            # 'HeartRate_p80',\n",
    "            # 'HeartRate_p90',\n",
    "            # 'HeartRate_max',\n",
    "            # 'HR_90-100',\n",
    "            # 'HR_100-110',\n",
    "            # 'HR_110-120',\n",
    "            # 'HR_120-125',\n",
    "            # 'HR_125-130',\n",
    "            # 'HR_130-135',\n",
    "            # 'HR_135-140',\n",
    "            # 'HR_140-145',\n",
    "            # 'HR_145-150',\n",
    "            # 'HR_150-155',\n",
    "            # 'HR_155-160',\n",
    "            # 'HR_160-165',\n",
    "            # 'HR_165-170',\n",
    "            # 'HR_170-175',\n",
    "            # 'HR_175-180',\n",
    "            # 'HR_180-185',\n",
    "            # 'HR_185-190',\n",
    "            # 'HR_190-195',\n",
    "            # 'HR_195-200',\n",
    "            # 'HR_200-250',\n",
    "            'shareHR_90-100',\n",
    "            'shareHR_100-110',\n",
    "            'shareHR_110-120',\n",
    "            'shareHR_120-125',\n",
    "            'shareHR_125-130',\n",
    "            'shareHR_130-135',\n",
    "            'shareHR_135-140',\n",
    "            'shareHR_140-145',\n",
    "            'shareHR_145-150',\n",
    "            'shareHR_150-155',\n",
    "            'shareHR_155-160',\n",
    "            'shareHR_160-165',\n",
    "            'shareHR_165-170',\n",
    "            'shareHR_170-175',\n",
    "            'shareHR_175-180',\n",
    "            'shareHR_180-185',\n",
    "            'shareHR_185-190',\n",
    "            'shareHR_190-195',\n",
    "            'shareHR_195-200',\n",
    "            'shareHR_200-250']"
   ]
  },
  {
   "cell_type": "code",
   "execution_count": 6,
   "metadata": {},
   "outputs": [],
   "source": [
    "df_features = df[features]\n",
    "\n",
    "scaler = StandardScaler()\n",
    "scaled_features = scaler.fit_transform(df_features)"
   ]
  },
  {
   "cell_type": "code",
   "execution_count": 7,
   "metadata": {},
   "outputs": [
    {
     "data": {
      "text/html": [
       "<style>#sk-container-id-1 {color: black;}#sk-container-id-1 pre{padding: 0;}#sk-container-id-1 div.sk-toggleable {background-color: white;}#sk-container-id-1 label.sk-toggleable__label {cursor: pointer;display: block;width: 100%;margin-bottom: 0;padding: 0.3em;box-sizing: border-box;text-align: center;}#sk-container-id-1 label.sk-toggleable__label-arrow:before {content: \"▸\";float: left;margin-right: 0.25em;color: #696969;}#sk-container-id-1 label.sk-toggleable__label-arrow:hover:before {color: black;}#sk-container-id-1 div.sk-estimator:hover label.sk-toggleable__label-arrow:before {color: black;}#sk-container-id-1 div.sk-toggleable__content {max-height: 0;max-width: 0;overflow: hidden;text-align: left;background-color: #f0f8ff;}#sk-container-id-1 div.sk-toggleable__content pre {margin: 0.2em;color: black;border-radius: 0.25em;background-color: #f0f8ff;}#sk-container-id-1 input.sk-toggleable__control:checked~div.sk-toggleable__content {max-height: 200px;max-width: 100%;overflow: auto;}#sk-container-id-1 input.sk-toggleable__control:checked~label.sk-toggleable__label-arrow:before {content: \"▾\";}#sk-container-id-1 div.sk-estimator input.sk-toggleable__control:checked~label.sk-toggleable__label {background-color: #d4ebff;}#sk-container-id-1 div.sk-label input.sk-toggleable__control:checked~label.sk-toggleable__label {background-color: #d4ebff;}#sk-container-id-1 input.sk-hidden--visually {border: 0;clip: rect(1px 1px 1px 1px);clip: rect(1px, 1px, 1px, 1px);height: 1px;margin: -1px;overflow: hidden;padding: 0;position: absolute;width: 1px;}#sk-container-id-1 div.sk-estimator {font-family: monospace;background-color: #f0f8ff;border: 1px dotted black;border-radius: 0.25em;box-sizing: border-box;margin-bottom: 0.5em;}#sk-container-id-1 div.sk-estimator:hover {background-color: #d4ebff;}#sk-container-id-1 div.sk-parallel-item::after {content: \"\";width: 100%;border-bottom: 1px solid gray;flex-grow: 1;}#sk-container-id-1 div.sk-label:hover label.sk-toggleable__label {background-color: #d4ebff;}#sk-container-id-1 div.sk-serial::before {content: \"\";position: absolute;border-left: 1px solid gray;box-sizing: border-box;top: 0;bottom: 0;left: 50%;z-index: 0;}#sk-container-id-1 div.sk-serial {display: flex;flex-direction: column;align-items: center;background-color: white;padding-right: 0.2em;padding-left: 0.2em;position: relative;}#sk-container-id-1 div.sk-item {position: relative;z-index: 1;}#sk-container-id-1 div.sk-parallel {display: flex;align-items: stretch;justify-content: center;background-color: white;position: relative;}#sk-container-id-1 div.sk-item::before, #sk-container-id-1 div.sk-parallel-item::before {content: \"\";position: absolute;border-left: 1px solid gray;box-sizing: border-box;top: 0;bottom: 0;left: 50%;z-index: -1;}#sk-container-id-1 div.sk-parallel-item {display: flex;flex-direction: column;z-index: 1;position: relative;background-color: white;}#sk-container-id-1 div.sk-parallel-item:first-child::after {align-self: flex-end;width: 50%;}#sk-container-id-1 div.sk-parallel-item:last-child::after {align-self: flex-start;width: 50%;}#sk-container-id-1 div.sk-parallel-item:only-child::after {width: 0;}#sk-container-id-1 div.sk-dashed-wrapped {border: 1px dashed gray;margin: 0 0.4em 0.5em 0.4em;box-sizing: border-box;padding-bottom: 0.4em;background-color: white;}#sk-container-id-1 div.sk-label label {font-family: monospace;font-weight: bold;display: inline-block;line-height: 1.2em;}#sk-container-id-1 div.sk-label-container {text-align: center;}#sk-container-id-1 div.sk-container {/* jupyter's `normalize.less` sets `[hidden] { display: none; }` but bootstrap.min.css set `[hidden] { display: none !important; }` so we also need the `!important` here to be able to override the default hidden behavior on the sphinx rendered scikit-learn.org. See: https://github.com/scikit-learn/scikit-learn/issues/21755 */display: inline-block !important;position: relative;}#sk-container-id-1 div.sk-text-repr-fallback {display: none;}</style><div id=\"sk-container-id-1\" class=\"sk-top-container\"><div class=\"sk-text-repr-fallback\"><pre>KMeans(init=&#x27;random&#x27;, n_clusters=10, n_init=10, random_state=42)</pre><b>In a Jupyter environment, please rerun this cell to show the HTML representation or trust the notebook. <br />On GitHub, the HTML representation is unable to render, please try loading this page with nbviewer.org.</b></div><div class=\"sk-container\" hidden><div class=\"sk-item\"><div class=\"sk-estimator sk-toggleable\"><input class=\"sk-toggleable__control sk-hidden--visually\" id=\"sk-estimator-id-1\" type=\"checkbox\" checked><label for=\"sk-estimator-id-1\" class=\"sk-toggleable__label sk-toggleable__label-arrow\">KMeans</label><div class=\"sk-toggleable__content\"><pre>KMeans(init=&#x27;random&#x27;, n_clusters=10, n_init=10, random_state=42)</pre></div></div></div></div></div>"
      ],
      "text/plain": [
       "KMeans(init='random', n_clusters=10, n_init=10, random_state=42)"
      ]
     },
     "execution_count": 7,
     "metadata": {},
     "output_type": "execute_result"
    }
   ],
   "source": [
    "kmeans = KMeans(\n",
    "    init=\"random\",\n",
    "    n_clusters=10,\n",
    "    n_init=10,\n",
    "    max_iter=300,\n",
    "    random_state=42\n",
    "    )\n",
    "\n",
    "kmeans.fit(scaled_features)"
   ]
  },
  {
   "cell_type": "code",
   "execution_count": 8,
   "metadata": {},
   "outputs": [
    {
     "data": {
      "image/png": "[encoded data removed]",
      "text/plain": [
       "<Figure size 640x480 with 1 Axes>"
      ]
     },
     "metadata": {},
     "output_type": "display_data"
    }
   ],
   "source": [
    "kmeans_kwargs = {\n",
    "   \"init\": \"random\",\n",
    "   \"n_init\": 100,\n",
    "   \"max_iter\": 3000,\n",
    "   \"random_state\": 42\n",
    "   }\n",
    "\n",
    "max_cluster = 20\n",
    "# A list holds the SSE values for each k\n",
    "sse = []\n",
    "for k in range(1, max_cluster):\n",
    "    kmeans = KMeans(n_clusters=k, **kmeans_kwargs)\n",
    "    kmeans.fit(scaled_features)\n",
    "    sse.append(kmeans.inertia_)\n",
    "\n",
    "plt.style.use(\"fivethirtyeight\")\n",
    "plt.plot(range(1, max_cluster), sse)\n",
    "plt.xticks(range(1, max_cluster))\n",
    "plt.xlabel(\"Number of Clusters\")\n",
    "plt.ylabel(\"SSE\")\n",
    "plt.show()"
   ]
  },
  {
   "cell_type": "markdown",
   "metadata": {},
   "source": [
    "### Fit the model with desired number of clusters"
   ]
  },
  {
   "cell_type": "code",
   "execution_count": 9,
   "metadata": {},
   "outputs": [
    {
     "name": "stderr",
     "output_type": "stream",
     "text": [
      "C:\\Users\\LHAGELS\\AppData\\Local\\Temp\\ipykernel_24288\\4078267048.py:11: SettingWithCopyWarning: \n",
      "A value is trying to be set on a copy of a slice from a DataFrame.\n",
      "Try using .loc[row_indexer,col_indexer] = value instead\n",
      "\n",
      "See the caveats in the documentation: https://pandas.pydata.org/pandas-docs/stable/user_guide/indexing.html#returning-a-view-versus-a-copy\n",
      "  df_features['label'] = kmeans.fit_predict(scaled_features)\n"
     ]
    }
   ],
   "source": [
    "kmeans = KMeans(\n",
    "    init=\"random\",\n",
    "    n_clusters=4,\n",
    "    n_init=10,\n",
    "    max_iter=300,\n",
    "    random_state=42\n",
    "    )\n",
    "\n",
    "kmeans.fit(scaled_features)\n",
    "\n",
    "df_features['label'] = kmeans.fit_predict(scaled_features)"
   ]
  },
  {
   "cell_type": "code",
   "execution_count": 10,
   "metadata": {},
   "outputs": [
    {
     "data": {
      "image/png": "[encoded data removed]",
      "text/plain": [
       "<Figure size 640x480 with 1 Axes>"
      ]
     },
     "metadata": {},
     "output_type": "display_data"
    }
   ],
   "source": [
    "from sklearn.decomposition import PCA\n",
    "pca = PCA(2)\n",
    " \n",
    "#Transform the data\n",
    "df_pca = pca.fit_transform(scaled_features)\n",
    "\n",
    "#predict the labels of clusters.\n",
    "label = kmeans.fit_predict(df_pca)\n",
    "\n",
    "#Getting unique labels\n",
    "u_labels = np.unique(label)\n",
    "centroids = kmeans.cluster_centers_\n",
    "\n",
    "#plotting the results:\n",
    "for i in u_labels:\n",
    "    plt.scatter(df_pca[label == i , 0] , df_pca[label == i , 1] , label = i)\n",
    "plt.scatter(centroids[:,0] , centroids[:,1] , s = 80, color = 'k')\n",
    "plt.legend()\n",
    "plt.show()"
   ]
  },
  {
   "cell_type": "code",
   "execution_count": 11,
   "metadata": {},
   "outputs": [
    {
     "data": {
      "text/html": [
       "<div>\n",
       "<style scoped>\n",
       "    .dataframe tbody tr th:only-of-type {\n",
       "        vertical-align: middle;\n",
       "    }\n",
       "\n",
       "    .dataframe tbody tr th {\n",
       "        vertical-align: top;\n",
       "    }\n",
       "\n",
       "    .dataframe thead th {\n",
       "        text-align: right;\n",
       "    }\n",
       "</style>\n",
       "<table border=\"1\" class=\"dataframe\">\n",
       "  <thead>\n",
       "    <tr style=\"text-align: right;\">\n",
       "      <th></th>\n",
       "      <th>label</th>\n",
       "      <th>counts</th>\n",
       "      <th>duration</th>\n",
       "      <th>SUM_DistanceWalkingRunning</th>\n",
       "      <th>AVG_RunningSpeed</th>\n",
       "      <th>SD_RunningSpeed</th>\n",
       "      <th>course_mean</th>\n",
       "      <th>course_std</th>\n",
       "      <th>HeartRate_mean</th>\n",
       "      <th>HeartRate_std</th>\n",
       "      <th>shareHR_90-100</th>\n",
       "      <th>shareHR_100-110</th>\n",
       "      <th>shareHR_110-120</th>\n",
       "      <th>shareHR_120-125</th>\n",
       "      <th>shareHR_125-130</th>\n",
       "      <th>shareHR_130-135</th>\n",
       "      <th>shareHR_135-140</th>\n",
       "      <th>shareHR_140-145</th>\n",
       "      <th>shareHR_145-150</th>\n",
       "      <th>shareHR_150-155</th>\n",
       "      <th>shareHR_155-160</th>\n",
       "      <th>shareHR_160-165</th>\n",
       "      <th>shareHR_165-170</th>\n",
       "      <th>shareHR_170-175</th>\n",
       "      <th>shareHR_175-180</th>\n",
       "      <th>shareHR_180-185</th>\n",
       "      <th>shareHR_185-190</th>\n",
       "      <th>shareHR_190-195</th>\n",
       "      <th>shareHR_195-200</th>\n",
       "      <th>shareHR_200-250</th>\n",
       "    </tr>\n",
       "  </thead>\n",
       "  <tbody>\n",
       "    <tr>\n",
       "      <th>0</th>\n",
       "      <td>0</td>\n",
       "      <td>13</td>\n",
       "      <td>26.708118</td>\n",
       "      <td>4.295173</td>\n",
       "      <td>9.505371</td>\n",
       "      <td>0.818232</td>\n",
       "      <td>180.560100</td>\n",
       "      <td>96.209472</td>\n",
       "      <td>152.853893</td>\n",
       "      <td>10.932659</td>\n",
       "      <td>0.000740</td>\n",
       "      <td>0.007184</td>\n",
       "      <td>0.019806</td>\n",
       "      <td>0.003754</td>\n",
       "      <td>0.007167</td>\n",
       "      <td>0.008544</td>\n",
       "      <td>0.164838</td>\n",
       "      <td>0.041405</td>\n",
       "      <td>0.287301</td>\n",
       "      <td>0.149169</td>\n",
       "      <td>0.140271</td>\n",
       "      <td>0.083770</td>\n",
       "      <td>0.042761</td>\n",
       "      <td>0.006030</td>\n",
       "      <td>0.000000</td>\n",
       "      <td>0.036388</td>\n",
       "      <td>0.000000</td>\n",
       "      <td>0.000000</td>\n",
       "      <td>0.000000</td>\n",
       "      <td>0.0</td>\n",
       "    </tr>\n",
       "    <tr>\n",
       "      <th>1</th>\n",
       "      <td>1</td>\n",
       "      <td>11</td>\n",
       "      <td>84.451535</td>\n",
       "      <td>14.599449</td>\n",
       "      <td>8.403472</td>\n",
       "      <td>0.846209</td>\n",
       "      <td>178.794358</td>\n",
       "      <td>93.771484</td>\n",
       "      <td>140.598244</td>\n",
       "      <td>8.033904</td>\n",
       "      <td>0.002509</td>\n",
       "      <td>0.006595</td>\n",
       "      <td>0.010697</td>\n",
       "      <td>0.016031</td>\n",
       "      <td>0.061686</td>\n",
       "      <td>0.054076</td>\n",
       "      <td>0.275545</td>\n",
       "      <td>0.383074</td>\n",
       "      <td>0.148242</td>\n",
       "      <td>0.026914</td>\n",
       "      <td>0.005483</td>\n",
       "      <td>0.003944</td>\n",
       "      <td>0.001056</td>\n",
       "      <td>0.000913</td>\n",
       "      <td>0.001217</td>\n",
       "      <td>0.000000</td>\n",
       "      <td>0.000000</td>\n",
       "      <td>0.000000</td>\n",
       "      <td>0.000000</td>\n",
       "      <td>0.0</td>\n",
       "    </tr>\n",
       "    <tr>\n",
       "      <th>2</th>\n",
       "      <td>2</td>\n",
       "      <td>9</td>\n",
       "      <td>27.897355</td>\n",
       "      <td>4.426171</td>\n",
       "      <td>9.607421</td>\n",
       "      <td>2.313726</td>\n",
       "      <td>172.792977</td>\n",
       "      <td>98.767206</td>\n",
       "      <td>149.256879</td>\n",
       "      <td>19.853807</td>\n",
       "      <td>0.005698</td>\n",
       "      <td>0.026053</td>\n",
       "      <td>0.094394</td>\n",
       "      <td>0.040036</td>\n",
       "      <td>0.028964</td>\n",
       "      <td>0.049732</td>\n",
       "      <td>0.074231</td>\n",
       "      <td>0.078932</td>\n",
       "      <td>0.086795</td>\n",
       "      <td>0.084073</td>\n",
       "      <td>0.089038</td>\n",
       "      <td>0.074583</td>\n",
       "      <td>0.098924</td>\n",
       "      <td>0.091236</td>\n",
       "      <td>0.049333</td>\n",
       "      <td>0.010577</td>\n",
       "      <td>0.007054</td>\n",
       "      <td>0.003429</td>\n",
       "      <td>0.000449</td>\n",
       "      <td>0.0</td>\n",
       "    </tr>\n",
       "    <tr>\n",
       "      <th>3</th>\n",
       "      <td>3</td>\n",
       "      <td>37</td>\n",
       "      <td>32.558090</td>\n",
       "      <td>4.249850</td>\n",
       "      <td>7.938632</td>\n",
       "      <td>0.590562</td>\n",
       "      <td>177.139433</td>\n",
       "      <td>97.177036</td>\n",
       "      <td>127.016770</td>\n",
       "      <td>8.186969</td>\n",
       "      <td>0.012973</td>\n",
       "      <td>0.039520</td>\n",
       "      <td>0.161887</td>\n",
       "      <td>0.252774</td>\n",
       "      <td>0.248278</td>\n",
       "      <td>0.124161</td>\n",
       "      <td>0.079328</td>\n",
       "      <td>0.048582</td>\n",
       "      <td>0.020330</td>\n",
       "      <td>0.008682</td>\n",
       "      <td>0.001520</td>\n",
       "      <td>0.000000</td>\n",
       "      <td>0.000000</td>\n",
       "      <td>0.000000</td>\n",
       "      <td>0.000000</td>\n",
       "      <td>0.000000</td>\n",
       "      <td>0.000000</td>\n",
       "      <td>0.000000</td>\n",
       "      <td>0.000000</td>\n",
       "      <td>0.0</td>\n",
       "    </tr>\n",
       "  </tbody>\n",
       "</table>\n",
       "</div>"
      ],
      "text/plain": [
       "   label  counts   duration  SUM_DistanceWalkingRunning  AVG_RunningSpeed  \\\n",
       "0      0      13  26.708118                    4.295173          9.505371   \n",
       "1      1      11  84.451535                   14.599449          8.403472   \n",
       "2      2       9  27.897355                    4.426171          9.607421   \n",
       "3      3      37  32.558090                    4.249850          7.938632   \n",
       "\n",
       "   SD_RunningSpeed  course_mean  course_std  HeartRate_mean  HeartRate_std  \\\n",
       "0         0.818232   180.560100   96.209472      152.853893      10.932659   \n",
       "1         0.846209   178.794358   93.771484      140.598244       8.033904   \n",
       "2         2.313726   172.792977   98.767206      149.256879      19.853807   \n",
       "3         0.590562   177.139433   97.177036      127.016770       8.186969   \n",
       "\n",
       "   shareHR_90-100  shareHR_100-110  shareHR_110-120  shareHR_120-125  \\\n",
       "0        0.000740         0.007184         0.019806         0.003754   \n",
       "1        0.002509         0.006595         0.010697         0.016031   \n",
       "2        0.005698         0.026053         0.094394         0.040036   \n",
       "3        0.012973         0.039520         0.161887         0.252774   \n",
       "\n",
       "   shareHR_125-130  shareHR_130-135  shareHR_135-140  shareHR_140-145  \\\n",
       "0         0.007167         0.008544         0.164838         0.041405   \n",
       "1         0.061686         0.054076         0.275545         0.383074   \n",
       "2         0.028964         0.049732         0.074231         0.078932   \n",
       "3         0.248278         0.124161         0.079328         0.048582   \n",
       "\n",
       "   shareHR_145-150  shareHR_150-155  shareHR_155-160  shareHR_160-165  \\\n",
       "0         0.287301         0.149169         0.140271         0.083770   \n",
       "1         0.148242         0.026914         0.005483         0.003944   \n",
       "2         0.086795         0.084073         0.089038         0.074583   \n",
       "3         0.020330         0.008682         0.001520         0.000000   \n",
       "\n",
       "   shareHR_165-170  shareHR_170-175  shareHR_175-180  shareHR_180-185  \\\n",
       "0         0.042761         0.006030         0.000000         0.036388   \n",
       "1         0.001056         0.000913         0.001217         0.000000   \n",
       "2         0.098924         0.091236         0.049333         0.010577   \n",
       "3         0.000000         0.000000         0.000000         0.000000   \n",
       "\n",
       "   shareHR_185-190  shareHR_190-195  shareHR_195-200  shareHR_200-250  \n",
       "0         0.000000         0.000000         0.000000              0.0  \n",
       "1         0.000000         0.000000         0.000000              0.0  \n",
       "2         0.007054         0.003429         0.000449              0.0  \n",
       "3         0.000000         0.000000         0.000000              0.0  "
      ]
     },
     "execution_count": 11,
     "metadata": {},
     "output_type": "execute_result"
    }
   ],
   "source": [
    "pd.set_option('display.max_columns', None)\n",
    "df_features = df_features.apply(pd.to_numeric)\n",
    "\n",
    "df_mean = df_features.groupby('label').mean()\n",
    "df_count = df_features.groupby('label').size().reset_index(name='counts')\n",
    "\n",
    "df_count.merge(df_mean, on = 'label', how = 'inner')"
   ]
  },
  {
   "cell_type": "code",
   "execution_count": 12,
   "metadata": {},
   "outputs": [],
   "source": [
    "df['label'] = kmeans.fit_predict(scaled_features)"
   ]
  },
  {
   "cell_type": "code",
   "execution_count": 13,
   "metadata": {},
   "outputs": [],
   "source": [
    "DimClusterRunning = df[['workout_pk', 'workoutActivityType', 'label']]\n",
    "DimClusterRunning.to_parquet('./output_files/frontend_files/DimClusterRunning.parquet.gzip', compression='gzip')"
   ]
  }
 ],
 "metadata": {
  "kernelspec": {
   "display_name": "venv",
   "language": "python",
   "name": "python3"
  },
  "language_info": {
   "codemirror_mode": {
    "name": "ipython",
    "version": 3
   },
   "file_extension": ".py",
   "mimetype": "text/x-python",
   "name": "python",
   "nbconvert_exporter": "python",
   "pygments_lexer": "ipython3",
   "version": "3.10.9"
  }
 },
 "nbformat": 4,
 "nbformat_minor": 2
}
