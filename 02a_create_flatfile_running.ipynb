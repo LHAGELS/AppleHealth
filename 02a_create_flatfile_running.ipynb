{
 "cells": [
  {
   "cell_type": "markdown",
   "metadata": {},
   "source": [
    "### Create Flatfile for Running workouts"
   ]
  },
  {
   "cell_type": "code",
   "execution_count": 366,
   "metadata": {},
   "outputs": [],
   "source": [
    "import pandas as pd\n",
    "import numpy as np"
   ]
  },
  {
   "cell_type": "code",
   "execution_count": 367,
   "metadata": {},
   "outputs": [],
   "source": [
    "### Load Files\n",
    "# DimWorkouts\n",
    "# FactWorkoutRecords --> Aggregate\n",
    "# DimRoutes --> Aggregate"
   ]
  },
  {
   "cell_type": "code",
   "execution_count": 368,
   "metadata": {},
   "outputs": [],
   "source": [
    "DimWorkouts = pd.read_parquet('./output_files/frontend_files/DimWorkouts.parquet.gzip', engine='pyarrow')\n",
    "FactWorkoutRecords = pd.read_parquet('./output_files/frontend_files/FactWorkoutRecords.parquet.gzip', engine='pyarrow')\n",
    "DimRoutes = pd.read_parquet('./output_files/frontend_files/DimRoutes.parquet.gzip', engine='pyarrow')"
   ]
  },
  {
   "cell_type": "markdown",
   "metadata": {},
   "source": [
    "### Filter for Running Workouts"
   ]
  },
  {
   "cell_type": "code",
   "execution_count": 369,
   "metadata": {},
   "outputs": [],
   "source": [
    "runningWorkouts = DimWorkouts[DimWorkouts['workoutActivityType'] == 'Running']\n",
    "runningFacts = FactWorkoutRecords.merge(runningWorkouts['workout_pk'], how = 'inner', on = 'workout_pk')"
   ]
  },
  {
   "cell_type": "markdown",
   "metadata": {},
   "source": [
    "### Create Flatfile"
   ]
  },
  {
   "cell_type": "markdown",
   "metadata": {},
   "source": [
    "#### Aggregate Values for runningFacts"
   ]
  },
  {
   "cell_type": "code",
   "execution_count": 370,
   "metadata": {},
   "outputs": [
    {
     "data": {
      "text/plain": [
       "['DistanceWalkingRunning',\n",
       " 'BasalEnergyBurned',\n",
       " 'ActiveEnergyBurned',\n",
       " 'RunningStrideLength',\n",
       " 'RunningVerticalOscillation',\n",
       " 'RunningGroundContactTime',\n",
       " 'RunningPower',\n",
       " 'RunningSpeed']"
      ]
     },
     "execution_count": 370,
     "metadata": {},
     "output_type": "execute_result"
    }
   ],
   "source": [
    "type_list = list(runningFacts[runningFacts['workout_pk'].isna() == False]['type'].unique())\n",
    "type_list"
   ]
  },
  {
   "cell_type": "code",
   "execution_count": 371,
   "metadata": {},
   "outputs": [],
   "source": [
    "type_list_sum = ['DistanceWalkingRunning',\n",
    "                 'BasalEnergyBurned',\n",
    "                 'ActiveEnergyBurned']\n",
    "type_list_avg = ['RunningStrideLength',\n",
    "                 'RunningVerticalOscillation',\n",
    "                 'RunningGroundContactTime',\n",
    "                 'RunningPower',\n",
    "                 'RunningSpeed']\n",
    "type_list_sd = ['RunningStrideLength',\n",
    "                'RunningVerticalOscillation',\n",
    "                'RunningGroundContactTime',\n",
    "                'RunningPower',\n",
    "                'RunningSpeed']"
   ]
  },
  {
   "cell_type": "code",
   "execution_count": 372,
   "metadata": {},
   "outputs": [],
   "source": [
    "runningFacts = runningFacts.drop(['startDate_records', 'endDate_records', 'startDate_wo', 'endDate_wo', 'unit'], axis=1)    "
   ]
  },
  {
   "cell_type": "code",
   "execution_count": 373,
   "metadata": {},
   "outputs": [],
   "source": [
    "columns = ['workout_pk', 'Date', 'type']"
   ]
  },
  {
   "cell_type": "code",
   "execution_count": 374,
   "metadata": {},
   "outputs": [],
   "source": [
    "# Group and sum\n",
    "runningFacts_sum = runningFacts[runningFacts['type'].isin(type_list_sum)].groupby(columns).sum().reset_index()\n",
    "runningFacts_sum['type'] = 'SUM_' + runningFacts_sum['type']\n",
    "# Pivot\n",
    "runningFacts_sum = runningFacts_sum.pivot(index=['workout_pk', 'Date'], columns='type', values='value').reset_index()\n",
    "\n",
    "# Group and avg\n",
    "runningFacts_avg = runningFacts[runningFacts['type'].isin(type_list_avg)].groupby(columns).mean().reset_index()\n",
    "runningFacts_avg['type'] = 'AVG_' + runningFacts_avg['type']\n",
    "# Pivot\n",
    "runningFacts_avg = runningFacts_avg.pivot(index=['workout_pk', 'Date'], columns='type', values='value').reset_index()\n",
    "\n",
    "# Group and sd\n",
    "runningFacts_sd = runningFacts[runningFacts['type'].isin(type_list_sd)].groupby(columns).std().reset_index()\n",
    "runningFacts_sd['type'] = 'SD_' + runningFacts_sd['type']\n",
    "# Pivot\n",
    "runningFacts_sd = runningFacts_sd.pivot(index=['workout_pk', 'Date'], columns='type', values='value').reset_index()\n",
    "\n",
    "merge_columns = columns\n",
    "merge_columns.remove('type')\n",
    "\n",
    "runningFactsFlat = runningFacts_sum.merge(runningFacts_avg, on = merge_columns, how = 'outer').merge(runningFacts_sd, on = merge_columns, how = 'outer')"
   ]
  },
  {
   "cell_type": "markdown",
   "metadata": {},
   "source": [
    "#### Aggregate Values for DimRoutes"
   ]
  },
  {
   "cell_type": "code",
   "execution_count": 375,
   "metadata": {},
   "outputs": [],
   "source": [
    "DimRoutes = DimRoutes.drop(['trkpt', 'time'], axis=1)    "
   ]
  },
  {
   "cell_type": "code",
   "execution_count": 376,
   "metadata": {},
   "outputs": [],
   "source": [
    "agg_columns = ['ele', 'course', 'speed', 'hAcc', 'vAcc']"
   ]
  },
  {
   "cell_type": "code",
   "execution_count": 377,
   "metadata": {},
   "outputs": [
    {
     "data": {
      "text/plain": [
       "ele           float64\n",
       "course        float64\n",
       "speed         float64\n",
       "hAcc          float64\n",
       "vAcc          float64\n",
       "route_name     object\n",
       "workout_pk      int64\n",
       "dtype: object"
      ]
     },
     "execution_count": 377,
     "metadata": {},
     "output_type": "execute_result"
    }
   ],
   "source": [
    "DimRoutes['ele'] = DimRoutes['ele'].astype(str).astype(float)\n",
    "DimRoutes['course'] = DimRoutes['course'].astype(str).astype(float)\n",
    "DimRoutes['speed'] = DimRoutes['speed'].astype(str).astype(float)\n",
    "DimRoutes['hAcc'] = DimRoutes['hAcc'].astype(str).astype(float)\n",
    "DimRoutes['vAcc'] = DimRoutes['vAcc'].astype(str).astype(float)\n",
    "DimRoutes.dtypes"
   ]
  },
  {
   "cell_type": "code",
   "execution_count": 378,
   "metadata": {},
   "outputs": [],
   "source": [
    "# Defining functions for xth percentile\n",
    "def p10(x):\n",
    "    return x.quantile(0.1)\n",
    "def p20(x):\n",
    "    return x.quantile(0.2)\n",
    "def p30(x):\n",
    "    return x.quantile(0.3)\n",
    "def p40(x):\n",
    "    return x.quantile(0.4)\n",
    "def p50(x):\n",
    "    return x.quantile(0.5)\n",
    "def p60(x):\n",
    "    return x.quantile(0.6)\n",
    "def p70(x):\n",
    "    return x.quantile(0.7)\n",
    "def p80(x):\n",
    "    return x.quantile(0.8)\n",
    "def p90(x):\n",
    "    return x.quantile(0.9)\n",
    "\n",
    "aggfuncs = ['mean', 'std', p10, p20, p30, p40, p50, p60, p70, p80, p90]\n",
    "runningRoutesFacts = DimRoutes.groupby(['workout_pk']).agg({'ele': aggfuncs,\n",
    "                                                            'course': aggfuncs,\n",
    "                                                            'speed': aggfuncs,\n",
    "                                                            'hAcc': aggfuncs,\n",
    "                                                            'vAcc': aggfuncs}).reset_index()\n",
    "\n",
    "runningRoutesFacts.columns = runningRoutesFacts.columns.map('_'.join).str.strip('_')"
   ]
  },
  {
   "cell_type": "markdown",
   "metadata": {},
   "source": [
    "#### Join to Flatfile"
   ]
  },
  {
   "cell_type": "code",
   "execution_count": 381,
   "metadata": {},
   "outputs": [],
   "source": [
    "runningFactsFlat = runningFactsFlat.merge(runningRoutesFacts, on = 'workout_pk', how = 'left')\n",
    "runningFactsFlat = runningWorkouts[['workout_pk', 'sourceName', 'workoutActivityType', 'duration']].merge(runningFactsFlat, on = 'workout_pk', how = 'right')"
   ]
  },
  {
   "cell_type": "markdown",
   "metadata": {},
   "source": [
    "### Save Flatfile"
   ]
  },
  {
   "cell_type": "code",
   "execution_count": 385,
   "metadata": {},
   "outputs": [],
   "source": [
    "runningFactsFlat.to_parquet('./output_files/flatfiles/runningFactsFlat.parquet.gzip', compression='gzip')"
   ]
  }
 ],
 "metadata": {
  "kernelspec": {
   "display_name": "venv",
   "language": "python",
   "name": "python3"
  },
  "language_info": {
   "codemirror_mode": {
    "name": "ipython",
    "version": 3
   },
   "file_extension": ".py",
   "mimetype": "text/x-python",
   "name": "python",
   "nbconvert_exporter": "python",
   "pygments_lexer": "ipython3",
   "version": "3.10.9"
  },
  "orig_nbformat": 4
 },
 "nbformat": 4,
 "nbformat_minor": 2
}
