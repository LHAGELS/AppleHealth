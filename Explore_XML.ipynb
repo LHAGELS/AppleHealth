{
 "cells": [
  {
   "cell_type": "code",
   "execution_count": 1,
   "metadata": {},
   "outputs": [],
   "source": [
    "import xml.etree.ElementTree as ET\n",
    "import pandas as pd\n",
    "import datetime as dt"
   ]
  },
  {
   "cell_type": "code",
   "execution_count": 2,
   "metadata": {},
   "outputs": [],
   "source": [
    "# Path to the XML file exported form Apple Health app\n",
    "XML_DATA = \"C:/Users/LHAGELS/Downloads/Export/apple_health_export/Export.xml\""
   ]
  },
  {
   "cell_type": "code",
   "execution_count": 3,
   "metadata": {},
   "outputs": [],
   "source": [
    "# Parse XML file exported from Apple Health app\n",
    "tree = ET.parse(XML_DATA)\n",
    "root = tree.getroot()"
   ]
  },
  {
   "cell_type": "code",
   "execution_count": 1,
   "metadata": {},
   "outputs": [
    {
     "ename": "NameError",
     "evalue": "name 'root' is not defined",
     "output_type": "error",
     "traceback": [
      "\u001b[1;31m---------------------------------------------------------------------------\u001b[0m",
      "\u001b[1;31mNameError\u001b[0m                                 Traceback (most recent call last)",
      "Cell \u001b[1;32mIn[1], line 1\u001b[0m\n\u001b[1;32m----> 1\u001b[0m \u001b[39mfor\u001b[39;00m child \u001b[39min\u001b[39;00m root:\n\u001b[0;32m      2\u001b[0m     \u001b[39mprint\u001b[39m(child\u001b[39m.\u001b[39mtag, child\u001b[39m.\u001b[39mattrib)\n",
      "\u001b[1;31mNameError\u001b[0m: name 'root' is not defined"
     ]
    }
   ],
   "source": [
    "for child in root:\n",
    "    print(child.tag, child.attrib)"
   ]
  },
  {
   "cell_type": "markdown",
   "metadata": {},
   "source": [
    "### Records"
   ]
  },
  {
   "cell_type": "code",
   "execution_count": 15,
   "metadata": {},
   "outputs": [],
   "source": [
    "# Store \"Record\" type data into Pandas.DataFrame\n",
    "records = [i.attrib for i in root.iter(\"Record\")]\n",
    "df_records = pd.DataFrame(records)"
   ]
  },
  {
   "cell_type": "code",
   "execution_count": 27,
   "metadata": {},
   "outputs": [
    {
     "data": {
      "text/html": [
       "<div>\n",
       "<style scoped>\n",
       "    .dataframe tbody tr th:only-of-type {\n",
       "        vertical-align: middle;\n",
       "    }\n",
       "\n",
       "    .dataframe tbody tr th {\n",
       "        vertical-align: top;\n",
       "    }\n",
       "\n",
       "    .dataframe thead th {\n",
       "        text-align: right;\n",
       "    }\n",
       "</style>\n",
       "<table border=\"1\" class=\"dataframe\">\n",
       "  <thead>\n",
       "    <tr style=\"text-align: right;\">\n",
       "      <th></th>\n",
       "      <th>type</th>\n",
       "      <th>sourceName</th>\n",
       "      <th>sourceVersion</th>\n",
       "      <th>unit</th>\n",
       "      <th>creationDate</th>\n",
       "      <th>startDate</th>\n",
       "      <th>endDate</th>\n",
       "      <th>value</th>\n",
       "      <th>device</th>\n",
       "    </tr>\n",
       "  </thead>\n",
       "  <tbody>\n",
       "    <tr>\n",
       "      <th>1530545</th>\n",
       "      <td>HeartRateVariabilitySDNN</td>\n",
       "      <td>Apple Watch von Lucas</td>\n",
       "      <td>9.6</td>\n",
       "      <td>ms</td>\n",
       "      <td>2023-07-29 02:02:54+02:00</td>\n",
       "      <td>2023-07-29 02:01:53+02:00</td>\n",
       "      <td>2023-07-29 02:02:52+02:00</td>\n",
       "      <td>91.5934</td>\n",
       "      <td>&lt;&lt;HKDevice: 0x2814a7c50&gt;, name:Apple Watch, ma...</td>\n",
       "    </tr>\n",
       "    <tr>\n",
       "      <th>1530546</th>\n",
       "      <td>HeartRateVariabilitySDNN</td>\n",
       "      <td>Apple Watch von Lucas</td>\n",
       "      <td>9.6</td>\n",
       "      <td>ms</td>\n",
       "      <td>2023-07-29 04:02:57+02:00</td>\n",
       "      <td>2023-07-29 04:01:56+02:00</td>\n",
       "      <td>2023-07-29 04:02:55+02:00</td>\n",
       "      <td>120.3930</td>\n",
       "      <td>&lt;&lt;HKDevice: 0x2814a7c50&gt;, name:Apple Watch, ma...</td>\n",
       "    </tr>\n",
       "    <tr>\n",
       "      <th>1530547</th>\n",
       "      <td>HeartRateVariabilitySDNN</td>\n",
       "      <td>Apple Watch von Lucas</td>\n",
       "      <td>9.6</td>\n",
       "      <td>ms</td>\n",
       "      <td>2023-07-29 06:02:54+02:00</td>\n",
       "      <td>2023-07-29 06:01:53+02:00</td>\n",
       "      <td>2023-07-29 06:02:52+02:00</td>\n",
       "      <td>90.2865</td>\n",
       "      <td>&lt;&lt;HKDevice: 0x2814a7c50&gt;, name:Apple Watch, ma...</td>\n",
       "    </tr>\n",
       "    <tr>\n",
       "      <th>1530548</th>\n",
       "      <td>HeartRateVariabilitySDNN</td>\n",
       "      <td>Apple Watch von Lucas</td>\n",
       "      <td>9.6</td>\n",
       "      <td>ms</td>\n",
       "      <td>2023-07-29 08:03:22+02:00</td>\n",
       "      <td>2023-07-29 08:02:21+02:00</td>\n",
       "      <td>2023-07-29 08:03:21+02:00</td>\n",
       "      <td>130.3270</td>\n",
       "      <td>&lt;&lt;HKDevice: 0x2814a7c50&gt;, name:Apple Watch, ma...</td>\n",
       "    </tr>\n",
       "    <tr>\n",
       "      <th>1530549</th>\n",
       "      <td>HeartRateVariabilitySDNN</td>\n",
       "      <td>Apple Watch von Lucas</td>\n",
       "      <td>9.6</td>\n",
       "      <td>ms</td>\n",
       "      <td>2023-07-29 12:26:11+02:00</td>\n",
       "      <td>2023-07-29 12:25:09+02:00</td>\n",
       "      <td>2023-07-29 12:26:09+02:00</td>\n",
       "      <td>25.1187</td>\n",
       "      <td>&lt;&lt;HKDevice: 0x2814a7c50&gt;, name:Apple Watch, ma...</td>\n",
       "    </tr>\n",
       "  </tbody>\n",
       "</table>\n",
       "</div>"
      ],
      "text/plain": [
       "                             type             sourceName sourceVersion unit  \\\n",
       "1530545  HeartRateVariabilitySDNN  Apple Watch von Lucas           9.6   ms   \n",
       "1530546  HeartRateVariabilitySDNN  Apple Watch von Lucas           9.6   ms   \n",
       "1530547  HeartRateVariabilitySDNN  Apple Watch von Lucas           9.6   ms   \n",
       "1530548  HeartRateVariabilitySDNN  Apple Watch von Lucas           9.6   ms   \n",
       "1530549  HeartRateVariabilitySDNN  Apple Watch von Lucas           9.6   ms   \n",
       "\n",
       "                     creationDate                 startDate  \\\n",
       "1530545 2023-07-29 02:02:54+02:00 2023-07-29 02:01:53+02:00   \n",
       "1530546 2023-07-29 04:02:57+02:00 2023-07-29 04:01:56+02:00   \n",
       "1530547 2023-07-29 06:02:54+02:00 2023-07-29 06:01:53+02:00   \n",
       "1530548 2023-07-29 08:03:22+02:00 2023-07-29 08:02:21+02:00   \n",
       "1530549 2023-07-29 12:26:11+02:00 2023-07-29 12:25:09+02:00   \n",
       "\n",
       "                          endDate     value  \\\n",
       "1530545 2023-07-29 02:02:52+02:00   91.5934   \n",
       "1530546 2023-07-29 04:02:55+02:00  120.3930   \n",
       "1530547 2023-07-29 06:02:52+02:00   90.2865   \n",
       "1530548 2023-07-29 08:03:21+02:00  130.3270   \n",
       "1530549 2023-07-29 12:26:09+02:00   25.1187   \n",
       "\n",
       "                                                    device  \n",
       "1530545  <<HKDevice: 0x2814a7c50>, name:Apple Watch, ma...  \n",
       "1530546  <<HKDevice: 0x2814a7c50>, name:Apple Watch, ma...  \n",
       "1530547  <<HKDevice: 0x2814a7c50>, name:Apple Watch, ma...  \n",
       "1530548  <<HKDevice: 0x2814a7c50>, name:Apple Watch, ma...  \n",
       "1530549  <<HKDevice: 0x2814a7c50>, name:Apple Watch, ma...  "
      ]
     },
     "execution_count": 27,
     "metadata": {},
     "output_type": "execute_result"
    }
   ],
   "source": [
    "# proper type to dates\n",
    "for col in ['creationDate', 'startDate', 'endDate']:\n",
    "    df_records[col] = pd.to_datetime(df_records[col])\n",
    "\n",
    "# value is numeric, NaN if fails\n",
    "df_records['value'] = pd.to_numeric(df_records['value'], errors='coerce')\n",
    "\n",
    "# some records do not measure anything, just count occurences\n",
    "# filling with 1.0 (= one time) makes it easier to aggregate\n",
    "df_records['value'] = df_records['value'].fillna(1.0)\n",
    "\n",
    "# shorter observation names\n",
    "df_records['type'] = df_records['type'].str.replace('HKQuantityTypeIdentifier', '')\n",
    "df_records['type'] = df_records['type'].str.replace('HKCategoryTypeIdentifier', '')\n",
    "df_records.tail()"
   ]
  },
  {
   "cell_type": "markdown",
   "metadata": {},
   "source": [
    "### Workouts"
   ]
  },
  {
   "cell_type": "code",
   "execution_count": 30,
   "metadata": {},
   "outputs": [
    {
     "data": {
      "text/html": [
       "<div>\n",
       "<style scoped>\n",
       "    .dataframe tbody tr th:only-of-type {\n",
       "        vertical-align: middle;\n",
       "    }\n",
       "\n",
       "    .dataframe tbody tr th {\n",
       "        vertical-align: top;\n",
       "    }\n",
       "\n",
       "    .dataframe thead th {\n",
       "        text-align: right;\n",
       "    }\n",
       "</style>\n",
       "<table border=\"1\" class=\"dataframe\">\n",
       "  <thead>\n",
       "    <tr style=\"text-align: right;\">\n",
       "      <th></th>\n",
       "      <th>Type</th>\n",
       "      <th>duration</th>\n",
       "      <th>durationUnit</th>\n",
       "      <th>sourceName</th>\n",
       "      <th>sourceVersion</th>\n",
       "      <th>creationDate</th>\n",
       "      <th>startDate</th>\n",
       "      <th>endDate</th>\n",
       "      <th>device</th>\n",
       "    </tr>\n",
       "  </thead>\n",
       "  <tbody>\n",
       "    <tr>\n",
       "      <th>508</th>\n",
       "      <td>Running</td>\n",
       "      <td>29.191795</td>\n",
       "      <td>min</td>\n",
       "      <td>Apple Watch von Lucas</td>\n",
       "      <td>9.5.2</td>\n",
       "      <td>2023-07-27 07:10:39+02:00</td>\n",
       "      <td>2023-07-27 06:41:22+02:00</td>\n",
       "      <td>2023-07-27 07:10:33+02:00</td>\n",
       "      <td>&lt;&lt;HKDevice: 0x2814e2c10&gt;, name:Apple Watch, ma...</td>\n",
       "    </tr>\n",
       "    <tr>\n",
       "      <th>509</th>\n",
       "      <td>TraditionalStrengthTraining</td>\n",
       "      <td>48.807983</td>\n",
       "      <td>min</td>\n",
       "      <td>Apple Watch von Lucas</td>\n",
       "      <td>9.6</td>\n",
       "      <td>2023-07-27 19:32:16+02:00</td>\n",
       "      <td>2023-07-27 18:43:25+02:00</td>\n",
       "      <td>2023-07-27 19:32:14+02:00</td>\n",
       "      <td>&lt;&lt;HKDevice: 0x2814ef390&gt;, name:Apple Watch, ma...</td>\n",
       "    </tr>\n",
       "    <tr>\n",
       "      <th>510</th>\n",
       "      <td>Walking</td>\n",
       "      <td>42.871661</td>\n",
       "      <td>min</td>\n",
       "      <td>Apple Watch von Lucas</td>\n",
       "      <td>9.6</td>\n",
       "      <td>2023-07-28 21:35:18+02:00</td>\n",
       "      <td>2023-07-28 20:52:22+02:00</td>\n",
       "      <td>2023-07-28 21:35:15+02:00</td>\n",
       "      <td>&lt;&lt;HKDevice: 0x2814ef390&gt;, name:Apple Watch, ma...</td>\n",
       "    </tr>\n",
       "    <tr>\n",
       "      <th>511</th>\n",
       "      <td>Running</td>\n",
       "      <td>88.617171</td>\n",
       "      <td>min</td>\n",
       "      <td>Apple Watch von Lucas</td>\n",
       "      <td>9.6</td>\n",
       "      <td>2023-07-29 10:13:17+02:00</td>\n",
       "      <td>2023-07-29 08:44:22+02:00</td>\n",
       "      <td>2023-07-29 10:13:04+02:00</td>\n",
       "      <td>&lt;&lt;HKDevice: 0x2814ef390&gt;, name:Apple Watch, ma...</td>\n",
       "    </tr>\n",
       "    <tr>\n",
       "      <th>512</th>\n",
       "      <td>Walking</td>\n",
       "      <td>45.043913</td>\n",
       "      <td>min</td>\n",
       "      <td>Apple Watch von Lucas</td>\n",
       "      <td>9.6</td>\n",
       "      <td>2023-07-29 11:59:10+02:00</td>\n",
       "      <td>2023-07-29 11:14:05+02:00</td>\n",
       "      <td>2023-07-29 11:59:08+02:00</td>\n",
       "      <td>&lt;&lt;HKDevice: 0x2814ef390&gt;, name:Apple Watch, ma...</td>\n",
       "    </tr>\n",
       "  </tbody>\n",
       "</table>\n",
       "</div>"
      ],
      "text/plain": [
       "                            Type   duration durationUnit  \\\n",
       "508                      Running  29.191795          min   \n",
       "509  TraditionalStrengthTraining  48.807983          min   \n",
       "510                      Walking  42.871661          min   \n",
       "511                      Running  88.617171          min   \n",
       "512                      Walking  45.043913          min   \n",
       "\n",
       "                sourceName sourceVersion              creationDate  \\\n",
       "508  Apple Watch von Lucas         9.5.2 2023-07-27 07:10:39+02:00   \n",
       "509  Apple Watch von Lucas           9.6 2023-07-27 19:32:16+02:00   \n",
       "510  Apple Watch von Lucas           9.6 2023-07-28 21:35:18+02:00   \n",
       "511  Apple Watch von Lucas           9.6 2023-07-29 10:13:17+02:00   \n",
       "512  Apple Watch von Lucas           9.6 2023-07-29 11:59:10+02:00   \n",
       "\n",
       "                    startDate                   endDate  \\\n",
       "508 2023-07-27 06:41:22+02:00 2023-07-27 07:10:33+02:00   \n",
       "509 2023-07-27 18:43:25+02:00 2023-07-27 19:32:14+02:00   \n",
       "510 2023-07-28 20:52:22+02:00 2023-07-28 21:35:15+02:00   \n",
       "511 2023-07-29 08:44:22+02:00 2023-07-29 10:13:04+02:00   \n",
       "512 2023-07-29 11:14:05+02:00 2023-07-29 11:59:08+02:00   \n",
       "\n",
       "                                                device  \n",
       "508  <<HKDevice: 0x2814e2c10>, name:Apple Watch, ma...  \n",
       "509  <<HKDevice: 0x2814ef390>, name:Apple Watch, ma...  \n",
       "510  <<HKDevice: 0x2814ef390>, name:Apple Watch, ma...  \n",
       "511  <<HKDevice: 0x2814ef390>, name:Apple Watch, ma...  \n",
       "512  <<HKDevice: 0x2814ef390>, name:Apple Watch, ma...  "
      ]
     },
     "execution_count": 30,
     "metadata": {},
     "output_type": "execute_result"
    }
   ],
   "source": [
    "workout_list = [x.attrib for x in root.iter('Workout')]\n",
    "\n",
    "# create DataFrame\n",
    "df_workout = pd.DataFrame(workout_list)\n",
    "df_workout['workoutActivityType'] = df_workout['workoutActivityType'].str.replace('HKWorkoutActivityType', '')\n",
    "df_workout = df_workout.rename({\"workoutActivityType\": \"Type\"}, axis=1)\n",
    "\n",
    "# proper type to dates\n",
    "for col in ['creationDate', 'startDate', 'endDate']:\n",
    "    df_workout[col] = pd.to_datetime(df_workout[col])\n",
    "\n",
    "# convert string to numeric   \n",
    "df_workout['duration'] = pd.to_numeric(df_workout['duration'])\n",
    "#df_workout['totalEnergyBurned'] = pd.to_numeric(df_workout['totalEnergyBurned'])\n",
    "#df_workout['totalDistance'] = pd.to_numeric(df_workout['totalDistance'])\n",
    "df_workout.tail()"
   ]
  },
  {
   "cell_type": "code",
   "execution_count": 31,
   "metadata": {},
   "outputs": [],
   "source": [
    "num_workouts = df_workout.shape[0]"
   ]
  },
  {
   "cell_type": "code",
   "execution_count": 32,
   "metadata": {},
   "outputs": [
    {
     "name": "stdout",
     "output_type": "stream",
     "text": [
      "['Cycling' 'Yoga' 'PreparationAndRecovery' 'FunctionalStrengthTraining'\n",
      " 'Walking' 'Cooldown' 'HighIntensityIntervalTraining' 'Running'\n",
      " 'TraditionalStrengthTraining' 'CoreTraining' 'Swimming' 'Bowling'\n",
      " 'DownhillSkiing']\n"
     ]
    }
   ],
   "source": [
    "def get_workouts(df, workout_type):\n",
    "    return df[df[\"Type\"] == workout_type]\n",
    "\n",
    "# to see the different workout types use:\n",
    "print(df_workout.Type.unique())\n",
    "# ['Running' 'FunctionalStrengthTraining' 'Yoga'\n",
    "#  'HighIntensityIntervalTraining' 'CoreTraining']\n",
    "\n",
    "running_data = get_workouts(df_workout, \"Running\")"
   ]
  },
  {
   "cell_type": "code",
   "execution_count": 41,
   "metadata": {},
   "outputs": [],
   "source": [
    "def get_workouts_from_to(df, start, end):\n",
    "    start = pd.to_datetime(start, utc=True)\n",
    "    end = pd.to_datetime(end, utc=True)\n",
    "    workouts = df[df[\"creationDate\"] >= start]\n",
    "    workouts = workouts[workouts[\"creationDate\"] <= end]\n",
    "    return workouts\n",
    "\n",
    "lower_time = dt.date(2022, 1, 1)\n",
    "upper_time = dt.date.today()\n",
    "workouts = get_workouts_from_to(df_workout, lower_time, upper_time)"
   ]
  },
  {
   "cell_type": "code",
   "execution_count": 42,
   "metadata": {},
   "outputs": [],
   "source": [
    "last_workout = workouts.iloc[[-1]]"
   ]
  },
  {
   "cell_type": "code",
   "execution_count": 44,
   "metadata": {},
   "outputs": [
    {
     "name": "stdout",
     "output_type": "stream",
     "text": [
      "Walking 76.0 140.0 99.33995584988962\n"
     ]
    }
   ],
   "source": [
    "def get_heartrate_for_workout(heartrate, workout):\n",
    "    def get_heartrate_for_date(hr, start, end):\n",
    "        hr = hr[hr[\"startDate\"] >= start]\n",
    "        hr = hr[hr[\"endDate\"] <= end]\n",
    "        return hr\n",
    "    return get_heartrate_for_date(heartrate, workout[\"startDate\"].item(), workout[\"endDate\"].item())\n",
    "\n",
    "heartrate_data = df_records[df_records[\"type\"] == \"HeartRate\"]\n",
    "\n",
    "# Extract heartrate statistics for certain workout\n",
    "last_workout = workouts.iloc[[-1]]\n",
    "heartrate_workout = get_heartrate_for_workout(heartrate_data, last_workout)\n",
    "minh = heartrate_workout[\"value\"].min()\n",
    "maxh = heartrate_workout[\"value\"].max()\n",
    "meanh = heartrate_workout[\"value\"].mean()\n",
    "print(last_workout.Type.item(), minh, maxh, meanh)"
   ]
  },
  {
   "cell_type": "code",
   "execution_count": 45,
   "metadata": {},
   "outputs": [
    {
     "data": {
      "text/plain": [
       "<Axes: xlabel='endDate'>"
      ]
     },
     "execution_count": 45,
     "metadata": {},
     "output_type": "execute_result"
    },
    {
     "data": {
      "image/png": "[encoded data removed]",
      "text/plain": [
       "<Figure size 1200x600 with 1 Axes>"
      ]
     },
     "metadata": {},
     "output_type": "display_data"
    }
   ],
   "source": [
    "heartrate_workout.plot(x='endDate', y='value', style='r|', markersize=8.5,  figsize=(12, 6))"
   ]
  },
  {
   "cell_type": "code",
   "execution_count": 51,
   "metadata": {},
   "outputs": [
    {
     "data": {
      "text/plain": [
       "Index(['Type', 'duration', 'durationUnit', 'sourceName', 'sourceVersion',\n",
       "       'creationDate', 'startDate', 'endDate', 'device', 'heartrate',\n",
       "       'hr_mean'],\n",
       "      dtype='object')"
      ]
     },
     "execution_count": 51,
     "metadata": {},
     "output_type": "execute_result"
    }
   ],
   "source": [
    "df_workout.columns"
   ]
  },
  {
   "cell_type": "code",
   "execution_count": 50,
   "metadata": {},
   "outputs": [
    {
     "ename": "KeyError",
     "evalue": "'totalDistance'",
     "output_type": "error",
     "traceback": [
      "\u001b[1;31m---------------------------------------------------------------------------\u001b[0m",
      "\u001b[1;31mKeyError\u001b[0m                                  Traceback (most recent call last)",
      "File \u001b[1;32mc:\\PythonProjects\\AppleHealth\\venv\\lib\\site-packages\\pandas\\core\\indexes\\base.py:3653\u001b[0m, in \u001b[0;36mIndex.get_loc\u001b[1;34m(self, key)\u001b[0m\n\u001b[0;32m   3652\u001b[0m \u001b[39mtry\u001b[39;00m:\n\u001b[1;32m-> 3653\u001b[0m     \u001b[39mreturn\u001b[39;00m \u001b[39mself\u001b[39;49m\u001b[39m.\u001b[39;49m_engine\u001b[39m.\u001b[39;49mget_loc(casted_key)\n\u001b[0;32m   3654\u001b[0m \u001b[39mexcept\u001b[39;00m \u001b[39mKeyError\u001b[39;00m \u001b[39mas\u001b[39;00m err:\n",
      "File \u001b[1;32mc:\\PythonProjects\\AppleHealth\\venv\\lib\\site-packages\\pandas\\_libs\\index.pyx:147\u001b[0m, in \u001b[0;36mpandas._libs.index.IndexEngine.get_loc\u001b[1;34m()\u001b[0m\n",
      "File \u001b[1;32mc:\\PythonProjects\\AppleHealth\\venv\\lib\\site-packages\\pandas\\_libs\\index.pyx:176\u001b[0m, in \u001b[0;36mpandas._libs.index.IndexEngine.get_loc\u001b[1;34m()\u001b[0m\n",
      "File \u001b[1;32mpandas\\_libs\\hashtable_class_helper.pxi:7080\u001b[0m, in \u001b[0;36mpandas._libs.hashtable.PyObjectHashTable.get_item\u001b[1;34m()\u001b[0m\n",
      "File \u001b[1;32mpandas\\_libs\\hashtable_class_helper.pxi:7088\u001b[0m, in \u001b[0;36mpandas._libs.hashtable.PyObjectHashTable.get_item\u001b[1;34m()\u001b[0m\n",
      "\u001b[1;31mKeyError\u001b[0m: 'totalDistance'",
      "\nThe above exception was the direct cause of the following exception:\n",
      "\u001b[1;31mKeyError\u001b[0m                                  Traceback (most recent call last)",
      "Cell \u001b[1;32mIn[50], line 21\u001b[0m\n\u001b[0;32m     19\u001b[0m df_workout[\u001b[39m\"\u001b[39m\u001b[39mheartrate\u001b[39m\u001b[39m\"\u001b[39m] \u001b[39m=\u001b[39m df_workout\u001b[39m.\u001b[39mapply(\u001b[39mlambda\u001b[39;00m row: get_hr_for_workout_row(row, heartrate_data), axis\u001b[39m=\u001b[39m\u001b[39m1\u001b[39m)\n\u001b[0;32m     20\u001b[0m df_workout[\u001b[39m\"\u001b[39m\u001b[39mhr_mean\u001b[39m\u001b[39m\"\u001b[39m] \u001b[39m=\u001b[39m df_workout\u001b[39m.\u001b[39mapply(\u001b[39mlambda\u001b[39;00m row: row[\u001b[39m'\u001b[39m\u001b[39mheartrate\u001b[39m\u001b[39m'\u001b[39m][\u001b[39m\"\u001b[39m\u001b[39mvalue\u001b[39m\u001b[39m\"\u001b[39m]\u001b[39m.\u001b[39mmean(), axis\u001b[39m=\u001b[39m\u001b[39m1\u001b[39m)\n\u001b[1;32m---> 21\u001b[0m df_workout[\u001b[39m\"\u001b[39m\u001b[39mpace\u001b[39m\u001b[39m\"\u001b[39m] \u001b[39m=\u001b[39m df_workout\u001b[39m.\u001b[39;49mapply(\u001b[39mlambda\u001b[39;49;00m row: get_pace_for_workout(row), axis\u001b[39m=\u001b[39;49m\u001b[39m1\u001b[39;49m)\n",
      "File \u001b[1;32mc:\\PythonProjects\\AppleHealth\\venv\\lib\\site-packages\\pandas\\core\\frame.py:9423\u001b[0m, in \u001b[0;36mDataFrame.apply\u001b[1;34m(self, func, axis, raw, result_type, args, **kwargs)\u001b[0m\n\u001b[0;32m   9412\u001b[0m \u001b[39mfrom\u001b[39;00m \u001b[39mpandas\u001b[39;00m\u001b[39m.\u001b[39;00m\u001b[39mcore\u001b[39;00m\u001b[39m.\u001b[39;00m\u001b[39mapply\u001b[39;00m \u001b[39mimport\u001b[39;00m frame_apply\n\u001b[0;32m   9414\u001b[0m op \u001b[39m=\u001b[39m frame_apply(\n\u001b[0;32m   9415\u001b[0m     \u001b[39mself\u001b[39m,\n\u001b[0;32m   9416\u001b[0m     func\u001b[39m=\u001b[39mfunc,\n\u001b[1;32m   (...)\u001b[0m\n\u001b[0;32m   9421\u001b[0m     kwargs\u001b[39m=\u001b[39mkwargs,\n\u001b[0;32m   9422\u001b[0m )\n\u001b[1;32m-> 9423\u001b[0m \u001b[39mreturn\u001b[39;00m op\u001b[39m.\u001b[39;49mapply()\u001b[39m.\u001b[39m__finalize__(\u001b[39mself\u001b[39m, method\u001b[39m=\u001b[39m\u001b[39m\"\u001b[39m\u001b[39mapply\u001b[39m\u001b[39m\"\u001b[39m)\n",
      "File \u001b[1;32mc:\\PythonProjects\\AppleHealth\\venv\\lib\\site-packages\\pandas\\core\\apply.py:678\u001b[0m, in \u001b[0;36mFrameApply.apply\u001b[1;34m(self)\u001b[0m\n\u001b[0;32m    675\u001b[0m \u001b[39melif\u001b[39;00m \u001b[39mself\u001b[39m\u001b[39m.\u001b[39mraw:\n\u001b[0;32m    676\u001b[0m     \u001b[39mreturn\u001b[39;00m \u001b[39mself\u001b[39m\u001b[39m.\u001b[39mapply_raw()\n\u001b[1;32m--> 678\u001b[0m \u001b[39mreturn\u001b[39;00m \u001b[39mself\u001b[39;49m\u001b[39m.\u001b[39;49mapply_standard()\n",
      "File \u001b[1;32mc:\\PythonProjects\\AppleHealth\\venv\\lib\\site-packages\\pandas\\core\\apply.py:798\u001b[0m, in \u001b[0;36mFrameApply.apply_standard\u001b[1;34m(self)\u001b[0m\n\u001b[0;32m    797\u001b[0m \u001b[39mdef\u001b[39;00m \u001b[39mapply_standard\u001b[39m(\u001b[39mself\u001b[39m):\n\u001b[1;32m--> 798\u001b[0m     results, res_index \u001b[39m=\u001b[39m \u001b[39mself\u001b[39;49m\u001b[39m.\u001b[39;49mapply_series_generator()\n\u001b[0;32m    800\u001b[0m     \u001b[39m# wrap results\u001b[39;00m\n\u001b[0;32m    801\u001b[0m     \u001b[39mreturn\u001b[39;00m \u001b[39mself\u001b[39m\u001b[39m.\u001b[39mwrap_results(results, res_index)\n",
      "File \u001b[1;32mc:\\PythonProjects\\AppleHealth\\venv\\lib\\site-packages\\pandas\\core\\apply.py:814\u001b[0m, in \u001b[0;36mFrameApply.apply_series_generator\u001b[1;34m(self)\u001b[0m\n\u001b[0;32m    811\u001b[0m \u001b[39mwith\u001b[39;00m option_context(\u001b[39m\"\u001b[39m\u001b[39mmode.chained_assignment\u001b[39m\u001b[39m\"\u001b[39m, \u001b[39mNone\u001b[39;00m):\n\u001b[0;32m    812\u001b[0m     \u001b[39mfor\u001b[39;00m i, v \u001b[39min\u001b[39;00m \u001b[39menumerate\u001b[39m(series_gen):\n\u001b[0;32m    813\u001b[0m         \u001b[39m# ignore SettingWithCopy here in case the user mutates\u001b[39;00m\n\u001b[1;32m--> 814\u001b[0m         results[i] \u001b[39m=\u001b[39m \u001b[39mself\u001b[39;49m\u001b[39m.\u001b[39;49mf(v)\n\u001b[0;32m    815\u001b[0m         \u001b[39mif\u001b[39;00m \u001b[39misinstance\u001b[39m(results[i], ABCSeries):\n\u001b[0;32m    816\u001b[0m             \u001b[39m# If we have a view on v, we need to make a copy because\u001b[39;00m\n\u001b[0;32m    817\u001b[0m             \u001b[39m#  series_generator will swap out the underlying data\u001b[39;00m\n\u001b[0;32m    818\u001b[0m             results[i] \u001b[39m=\u001b[39m results[i]\u001b[39m.\u001b[39mcopy(deep\u001b[39m=\u001b[39m\u001b[39mFalse\u001b[39;00m)\n",
      "Cell \u001b[1;32mIn[50], line 21\u001b[0m, in \u001b[0;36m<lambda>\u001b[1;34m(row)\u001b[0m\n\u001b[0;32m     19\u001b[0m df_workout[\u001b[39m\"\u001b[39m\u001b[39mheartrate\u001b[39m\u001b[39m\"\u001b[39m] \u001b[39m=\u001b[39m df_workout\u001b[39m.\u001b[39mapply(\u001b[39mlambda\u001b[39;00m row: get_hr_for_workout_row(row, heartrate_data), axis\u001b[39m=\u001b[39m\u001b[39m1\u001b[39m)\n\u001b[0;32m     20\u001b[0m df_workout[\u001b[39m\"\u001b[39m\u001b[39mhr_mean\u001b[39m\u001b[39m\"\u001b[39m] \u001b[39m=\u001b[39m df_workout\u001b[39m.\u001b[39mapply(\u001b[39mlambda\u001b[39;00m row: row[\u001b[39m'\u001b[39m\u001b[39mheartrate\u001b[39m\u001b[39m'\u001b[39m][\u001b[39m\"\u001b[39m\u001b[39mvalue\u001b[39m\u001b[39m\"\u001b[39m]\u001b[39m.\u001b[39mmean(), axis\u001b[39m=\u001b[39m\u001b[39m1\u001b[39m)\n\u001b[1;32m---> 21\u001b[0m df_workout[\u001b[39m\"\u001b[39m\u001b[39mpace\u001b[39m\u001b[39m\"\u001b[39m] \u001b[39m=\u001b[39m df_workout\u001b[39m.\u001b[39mapply(\u001b[39mlambda\u001b[39;00m row: get_pace_for_workout(row), axis\u001b[39m=\u001b[39m\u001b[39m1\u001b[39m)\n",
      "Cell \u001b[1;32mIn[50], line 12\u001b[0m, in \u001b[0;36mget_pace_for_workout\u001b[1;34m(df_workout)\u001b[0m\n\u001b[0;32m     11\u001b[0m \u001b[39mdef\u001b[39;00m \u001b[39mget_pace_for_workout\u001b[39m(df_workout):\n\u001b[1;32m---> 12\u001b[0m     \u001b[39mif\u001b[39;00m df_workout[\u001b[39m\"\u001b[39;49m\u001b[39mtotalDistance\u001b[39;49m\u001b[39m\"\u001b[39;49m] \u001b[39m==\u001b[39m \u001b[39m0.0\u001b[39m:\n\u001b[0;32m     13\u001b[0m         \u001b[39mreturn\u001b[39;00m \u001b[39m0.0\u001b[39m\n\u001b[0;32m     14\u001b[0m     \u001b[39m# pace=min/km\u001b[39;00m\n",
      "File \u001b[1;32mc:\\PythonProjects\\AppleHealth\\venv\\lib\\site-packages\\pandas\\core\\series.py:1007\u001b[0m, in \u001b[0;36mSeries.__getitem__\u001b[1;34m(self, key)\u001b[0m\n\u001b[0;32m   1004\u001b[0m     \u001b[39mreturn\u001b[39;00m \u001b[39mself\u001b[39m\u001b[39m.\u001b[39m_values[key]\n\u001b[0;32m   1006\u001b[0m \u001b[39melif\u001b[39;00m key_is_scalar:\n\u001b[1;32m-> 1007\u001b[0m     \u001b[39mreturn\u001b[39;00m \u001b[39mself\u001b[39;49m\u001b[39m.\u001b[39;49m_get_value(key)\n\u001b[0;32m   1009\u001b[0m \u001b[39mif\u001b[39;00m is_hashable(key):\n\u001b[0;32m   1010\u001b[0m     \u001b[39m# Otherwise index.get_value will raise InvalidIndexError\u001b[39;00m\n\u001b[0;32m   1011\u001b[0m     \u001b[39mtry\u001b[39;00m:\n\u001b[0;32m   1012\u001b[0m         \u001b[39m# For labels that don't resolve as scalars like tuples and frozensets\u001b[39;00m\n",
      "File \u001b[1;32mc:\\PythonProjects\\AppleHealth\\venv\\lib\\site-packages\\pandas\\core\\series.py:1116\u001b[0m, in \u001b[0;36mSeries._get_value\u001b[1;34m(self, label, takeable)\u001b[0m\n\u001b[0;32m   1113\u001b[0m     \u001b[39mreturn\u001b[39;00m \u001b[39mself\u001b[39m\u001b[39m.\u001b[39m_values[label]\n\u001b[0;32m   1115\u001b[0m \u001b[39m# Similar to Index.get_value, but we do not fall back to positional\u001b[39;00m\n\u001b[1;32m-> 1116\u001b[0m loc \u001b[39m=\u001b[39m \u001b[39mself\u001b[39;49m\u001b[39m.\u001b[39;49mindex\u001b[39m.\u001b[39;49mget_loc(label)\n\u001b[0;32m   1118\u001b[0m \u001b[39mif\u001b[39;00m is_integer(loc):\n\u001b[0;32m   1119\u001b[0m     \u001b[39mreturn\u001b[39;00m \u001b[39mself\u001b[39m\u001b[39m.\u001b[39m_values[loc]\n",
      "File \u001b[1;32mc:\\PythonProjects\\AppleHealth\\venv\\lib\\site-packages\\pandas\\core\\indexes\\base.py:3655\u001b[0m, in \u001b[0;36mIndex.get_loc\u001b[1;34m(self, key)\u001b[0m\n\u001b[0;32m   3653\u001b[0m     \u001b[39mreturn\u001b[39;00m \u001b[39mself\u001b[39m\u001b[39m.\u001b[39m_engine\u001b[39m.\u001b[39mget_loc(casted_key)\n\u001b[0;32m   3654\u001b[0m \u001b[39mexcept\u001b[39;00m \u001b[39mKeyError\u001b[39;00m \u001b[39mas\u001b[39;00m err:\n\u001b[1;32m-> 3655\u001b[0m     \u001b[39mraise\u001b[39;00m \u001b[39mKeyError\u001b[39;00m(key) \u001b[39mfrom\u001b[39;00m \u001b[39merr\u001b[39;00m\n\u001b[0;32m   3656\u001b[0m \u001b[39mexcept\u001b[39;00m \u001b[39mTypeError\u001b[39;00m:\n\u001b[0;32m   3657\u001b[0m     \u001b[39m# If we have a listlike key, _check_indexing_error will raise\u001b[39;00m\n\u001b[0;32m   3658\u001b[0m     \u001b[39m#  InvalidIndexError. Otherwise we fall through and re-raise\u001b[39;00m\n\u001b[0;32m   3659\u001b[0m     \u001b[39m#  the TypeError.\u001b[39;00m\n\u001b[0;32m   3660\u001b[0m     \u001b[39mself\u001b[39m\u001b[39m.\u001b[39m_check_indexing_error(key)\n",
      "\u001b[1;31mKeyError\u001b[0m: 'totalDistance'"
     ]
    }
   ],
   "source": [
    "def get_hr_for_workout_row(df_workout, heartrate):\n",
    "    def get_hr_for_date(hr, start, end):\n",
    "        hr = hr[hr[\"startDate\"] >= start]\n",
    "        hr = hr[hr[\"endDate\"] <= end]\n",
    "        return hr\n",
    "    return get_hr_for_date(heartrate, df_workout[\"startDate\"], df_workout[\"endDate\"])\n",
    "\n",
    "def convert_to_minute_proportion(number):\n",
    "    return int(number) + ((number % 1) / 100 * 60)\n",
    "\n",
    "def get_pace_for_workout(df_workout):\n",
    "    if df_workout[\"totalDistance\"] == 0.0:\n",
    "        return 0.0\n",
    "    # pace=min/km\n",
    "    pace = df_workout[\"duration\"] / df_workout[\"totalDistance\"]\n",
    "    return convert_to_minute_proportion(pace)\n",
    "\n",
    "\n",
    "df_workout[\"heartrate\"] = df_workout.apply(lambda row: get_hr_for_workout_row(row, heartrate_data), axis=1)\n",
    "df_workout[\"hr_mean\"] = df_workout.apply(lambda row: row['heartrate'][\"value\"].mean(), axis=1)\n",
    "df_workout[\"pace\"] = df_workout.apply(lambda row: get_pace_for_workout(row), axis=1)"
   ]
  },
  {
   "cell_type": "code",
   "execution_count": null,
   "metadata": {},
   "outputs": [],
   "source": [
    "def get_stats(workouts):\n",
    "    total_kcal = workouts[\"totalEnergyBurned\"].sum()\n",
    "    total_dist = workouts[\"totalDistance\"].sum()\n",
    "    total_time = workouts[\"duration\"].sum()\n",
    "    total_time_hours = convert_to_minute_proportion(total_time / 60)\n",
    "    total_time_mins = convert_to_minute_proportion(total_time)\n",
    "\n",
    "    avg_kcal = workouts[\"totalEnergyBurned\"].mean()\n",
    "    avg_dist = workouts[workouts[\"Type\"] == \"Running\"][\"totalDistance\"].mean()\n",
    "    avg_pace = workouts[workouts[\"Type\"] == \"Running\"][\"pace\"].mean()\n",
    "    avg_time = workouts[\"duration\"].mean()\n",
    "    avg_time_hours = convert_to_minute_proportion(avg_time / 60)\n",
    "    avg_time_mins = convert_to_minute_proportion(avg_time)\n",
    "\n",
    "    print(f\"Workout statistics from {lower_time} to {upper_time-dt.timedelta(days=1)}\")\n",
    "    print(f\"{workouts.shape[0]} workouts\")\n",
    "    print(f\"Time: {total_time_mins:.2f} minutes ({total_time_hours:.2f} hours)\\nCalories burned: {total_kcal:.2f}kcal\\nRunning distance: {total_dist:.2f}km\")\n",
    "    print(\"\\nAverage per workout:\")\n",
    "    print(f\"Time: {avg_time_mins:.2f} minutes ({avg_time_hours:.2f} hours)\\nCalories burned: {avg_kcal:.2f}kcal\\nRunning distance: {avg_dist:.2f}km\\nRunning pace: {avg_pace:.2f}km/h\")\n",
    "\n",
    "get_stats(workouts)"
   ]
  },
  {
   "cell_type": "code",
   "execution_count": null,
   "metadata": {},
   "outputs": [],
   "source": [
    "def plot_workouts(workouts):\n",
    "    labels = []\n",
    "    slices = []\n",
    "    for wo_type in workouts.Type.unique():\n",
    "        labels.append(wo_type)\n",
    "        wo_of_type = workouts[workouts[\"Type\"] == wo_type]\n",
    "        num_workouts_of_type = wo_of_type.shape[0]\n",
    "        slices.append(num_workouts_of_type)\n",
    "\n",
    "    def make_autopct(values):\n",
    "        def my_autopct(pct):\n",
    "            total = sum(values)\n",
    "            val = int(round(pct*total/100.0))\n",
    "            return '{p:.2f}%  ({v:d})'.format(p=pct,v=val)\n",
    "        return my_autopct\n",
    "\n",
    "    plt.figure(figsize=(10, 10))\n",
    "    plt.pie(slices, labels=labels, shadow=True,\n",
    "            startangle=90, autopct=make_autopct(slices),\n",
    "            wedgeprops={'edgecolor': 'black'})\n",
    "\n",
    "    plt.title(\"Workouts in 2021\")\n",
    "    plt.tight_layout()\n",
    "    plt.show()\n",
    "\n",
    "plot_workouts(workouts)"
   ]
  }
 ],
 "metadata": {
  "kernelspec": {
   "display_name": "Python 3",
   "language": "python",
   "name": "python3"
  },
  "language_info": {
   "codemirror_mode": {
    "name": "ipython",
    "version": 3
   },
   "file_extension": ".py",
   "mimetype": "text/x-python",
   "name": "python",
   "nbconvert_exporter": "python",
   "pygments_lexer": "ipython3",
   "version": "3.10.9"
  },
  "orig_nbformat": 4
 },
 "nbformat": 4,
 "nbformat_minor": 2
}
